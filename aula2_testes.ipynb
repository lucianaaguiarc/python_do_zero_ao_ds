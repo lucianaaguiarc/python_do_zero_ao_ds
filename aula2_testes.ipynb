{
 "cells": [
  {
   "cell_type": "markdown",
   "metadata": {},
   "source": [
    "# 0. Carregando bibliotecas e dados"
   ]
  },
  {
   "cell_type": "code",
   "execution_count": 1,
   "metadata": {},
   "outputs": [],
   "source": [
    "import pandas as pd\n",
    "import numpy as np\n",
    "import plotly.express as px\n",
    "import matplotlib.pyplot as plt\n",
    "#Foram adicionados por conta de erro de renderização no mapa (ex20), utilizando o VS Code. Caso sua IDE não tenha o erro, não é necessário\n",
    "#Erro: No renderer could be found for mimetype \"application/vnd.plotly.v1+json\"\n",
    "import plotly.io as pio\n",
    "pio.renderers.default = \"notebook_connected\""
   ]
  },
  {
   "cell_type": "code",
   "execution_count": 11,
   "metadata": {},
   "outputs": [],
   "source": [
    "data = pd.read_csv('datasets/kc_house_data.csv')"
   ]
  },
  {
   "cell_type": "markdown",
   "metadata": {},
   "source": []
  },
  {
   "cell_type": "markdown",
   "metadata": {},
   "source": [
    "# 4. Exercícios"
   ]
  },
  {
   "cell_type": "markdown",
   "metadata": {},
   "source": [
    "## 4.1 Crie uma nova coluna chamada: “house_age”\n",
    " - Se o valor da coluna “date” for maior que 2014-01-01 => ‘new_house’\n",
    " - Se o valor da coluna “date” for menor que 2014-01-01 => ‘old_house’"
   ]
  },
  {
   "cell_type": "code",
   "execution_count": 16,
   "metadata": {},
   "outputs": [],
   "source": [
    "#Aqui vai dar erro, porque não tem como compara data e string\n",
    "data['date'] = data['date'].astype( str )\n",
    "data['house_age'] = data['date'].apply( lambda x: 'new_house' if x >= '2014-01-01' else 'old_house' )\n",
    "data['date'] = pd.to_datetime( data['date'], format='%Y-%m-%d' )"
   ]
  },
  {
   "cell_type": "code",
   "execution_count": 9,
   "metadata": {},
   "outputs": [
    {
     "data": {
      "text/plain": [
       "id                 int64\n",
       "date              object\n",
       "price            float64\n",
       "bedrooms           int64\n",
       "bathrooms        float64\n",
       "sqft_living        int64\n",
       "sqft_lot           int64\n",
       "floors           float64\n",
       "waterfront         int64\n",
       "view               int64\n",
       "condition          int64\n",
       "grade              int64\n",
       "sqft_above       float64\n",
       "sqft_basement      int64\n",
       "yr_built           int64\n",
       "yr_renovated       int64\n",
       "zipcode            int64\n",
       "lat              float64\n",
       "long             float64\n",
       "sqft_living15      int64\n",
       "sqft_lot15         int64\n",
       "dtype: object"
      ]
     },
     "execution_count": 9,
     "metadata": {},
     "output_type": "execute_result"
    }
   ],
   "source": [
    "data.dtypes"
   ]
  },
  {
   "cell_type": "markdown",
   "metadata": {},
   "source": [
    "## 4.2 Crie uma nova coluna chamada: “dormitory_type”\n",
    "####      Se o valor da coluna “bedrooms” for menor ou igual a 1 => ‘studio’\n",
    "####      Se o valor da coluna “bedrooms” for igual a 2 => ‘apartament’\n",
    "####      Se o valor da coluna “bedrooms” for maior que 2 => ‘house’"
   ]
  },
  {
   "cell_type": "code",
   "execution_count": null,
   "metadata": {},
   "outputs": [],
   "source": [
    "data['dormitory_type'] = 'string'\n",
    "data.loc[data['bedrooms'] <= 1, 'dormitory_type'] = 'studio'\n",
    "data.loc[data['bedrooms'] == 2, 'dormitory_type'] = 'apartment'\n",
    "data.loc[data['bedrooms'] > 2, 'dormitory_type'] = 'house'"
   ]
  },
  {
   "cell_type": "markdown",
   "metadata": {},
   "source": [
    "## 4.3 Crie uma nova coluna chamada: “condition_type”\n",
    "-  Se o valor da coluna “condition” for menor ou igual à 2 => ‘bad’\n",
    "-  Se o valor da coluna “condition” for igual à 3 ou 4 => ‘regular’\n",
    "-  Se o valor da coluna “condition” for igual à 5 => ‘good’"
   ]
  },
  {
   "cell_type": "code",
   "execution_count": null,
   "metadata": {},
   "outputs": [],
   "source": [
    "data['condition_type'] = 'string'\n",
    "data.loc[data['condition'] <= 2, 'condition_type'] = 'bad'\n",
    "data.loc[(data['condition'] == 3) | (data['condition'] == 4), 'condition_type'] = 'regular'\n",
    "data.loc[data['condition'] >= 5, 'condition_type'] = 'good'\n",
    "\n",
    "data\n",
    "\n",
    "#Referência: https://www.ti-enxame.com/pt/python/usando-condicional-para-gerar-nova-coluna-no-dataframe-do-pandas/1050698416/"
   ]
  },
  {
   "cell_type": "markdown",
   "metadata": {},
   "source": [
    "## 4.4 Modifique o TIPO da coluna “condition” para STRING\n"
   ]
  },
  {
   "cell_type": "code",
   "execution_count": null,
   "metadata": {},
   "outputs": [],
   "source": [
    "data['condition'] = data['condition'].astype(str)\n",
    "data.dtypes"
   ]
  },
  {
   "cell_type": "markdown",
   "metadata": {},
   "source": [
    "## 4.5 Delete as colunas: “sqft_living15” e “sqft_lot15”\n"
   ]
  },
  {
   "cell_type": "code",
   "execution_count": null,
   "metadata": {},
   "outputs": [],
   "source": [
    "print( data.columns )\n",
    "data = data.drop('sqft_living15', axis=1)\n",
    "print( data.columns )\n",
    "data = data.drop('sqft_lot15', axis=1)\n",
    "print( data.columns.to_list())"
   ]
  },
  {
   "cell_type": "markdown",
   "metadata": {},
   "source": [
    "## 4.6 Modifique o TIPO da coluna “yr_built” para DATE\n"
   ]
  },
  {
   "cell_type": "code",
   "execution_count": null,
   "metadata": {},
   "outputs": [],
   "source": [
    "data['yr_built'] = pd.to_datetime( data['yr_built'], format='%Y' )\n",
    "data.head()"
   ]
  },
  {
   "cell_type": "markdown",
   "metadata": {},
   "source": [
    "## 4.7 Modifique o TIPO a Coluna “yr_renovated” para DATE\n"
   ]
  },
  {
   "cell_type": "code",
   "execution_count": null,
   "metadata": {},
   "outputs": [],
   "source": [
    "data['yr_renovated'] = data['yr_renovated'].apply( lambda x: 1800 if x == 0 else x) \n",
    "data['yr_renovated'] = pd.to_datetime( data['yr_renovated'], format='%Y' )\n",
    "data.dtypes\n",
    "\n",
    "#Apply faz a aplicação de uma função linha a linha\n",
    "#https://datatofish.com/if-condition-in-pandas-dataframe/\n",
    "#https://www.analyticsvidhya.com/blog/2020/03/what-are-lambda-functions-in-python/"
   ]
  },
  {
   "cell_type": "code",
   "execution_count": null,
   "metadata": {},
   "outputs": [],
   "source": [
    "data.head()"
   ]
  },
  {
   "cell_type": "markdown",
   "metadata": {},
   "source": [
    "## 4.8 Qual a data mais antiga de construção de um imóvel?\n",
    "\n",
    "#### R:  2014-05-02\n"
   ]
  },
  {
   "cell_type": "code",
   "execution_count": null,
   "metadata": {},
   "outputs": [],
   "source": [
    "data.sort_values('date', ascending=True)"
   ]
  },
  {
   "cell_type": "markdown",
   "metadata": {},
   "source": [
    "## 4.9 Qual a data mais antiga de renovação de um imóvel?\n",
    "\n",
    "#### R:  1934\n"
   ]
  },
  {
   "cell_type": "code",
   "execution_count": null,
   "metadata": {},
   "outputs": [],
   "source": [
    "data.loc[data['yr_renovated'] != '1800-01-01'].sort_values('yr_renovated', ascending=True).head(1)"
   ]
  },
  {
   "cell_type": "markdown",
   "metadata": {},
   "source": [
    "## 4.10 Quantos imóveis tem 2 andares?\n",
    "\n",
    "#### R:  8241\n"
   ]
  },
  {
   "cell_type": "code",
   "execution_count": null,
   "metadata": {},
   "outputs": [],
   "source": [
    "data.loc[data['floors'] == 2, 'id'].count()"
   ]
  },
  {
   "cell_type": "markdown",
   "metadata": {},
   "source": [
    "## 4.11. Quantos imóveis estão com a condição igual a “regular” ?\n",
    "\n",
    "#### R:  19710"
   ]
  },
  {
   "cell_type": "code",
   "execution_count": null,
   "metadata": {},
   "outputs": [],
   "source": [
    "data.loc[data['condition_type'] == 'regular', 'id'].count()"
   ]
  },
  {
   "cell_type": "markdown",
   "metadata": {},
   "source": [
    "## 4.12 Quantos imóveis estão com a condição igual a “bad”e possuem “vista para água” ?\n",
    "\n",
    "#### R: 2\n"
   ]
  },
  {
   "cell_type": "code",
   "execution_count": null,
   "metadata": {},
   "outputs": [],
   "source": [
    "data.loc[ (data['condition_type'] == 'bad') & (data['waterfront'] == 1) , 'id' ].count()"
   ]
  },
  {
   "cell_type": "markdown",
   "metadata": {},
   "source": [
    "## 4.13 Quantos imóveis estão com a condição igual a “good” e são “new_house”?\n",
    "\n",
    "#### R: 1701\n"
   ]
  },
  {
   "cell_type": "code",
   "execution_count": null,
   "metadata": {},
   "outputs": [],
   "source": [
    "data.loc[ (data['condition_type'] == 'good') & (data['house_age'] == 'new_house') , 'id' ].count()"
   ]
  },
  {
   "cell_type": "markdown",
   "metadata": {},
   "source": [
    "## 4.14 Qual o valor do imóvel mais caro do tipo “studio” ?\n",
    "\n",
    "#### R: R$ 1295650.0\n"
   ]
  },
  {
   "cell_type": "code",
   "execution_count": null,
   "metadata": {},
   "outputs": [],
   "source": [
    "data.loc[ data['dormitory_type'] == 'studio' ].groupby('dormitory_type')['price'].max()"
   ]
  },
  {
   "cell_type": "markdown",
   "metadata": {},
   "source": [
    "## 4.15 Quantos imóveis do tipo “apartment” foram reformados em 2015 ?\n",
    "\n",
    "#### R:  \n"
   ]
  },
  {
   "cell_type": "code",
   "execution_count": null,
   "metadata": {},
   "outputs": [],
   "source": [
    "data.loc[ (data['dormitory_type'] == 'apartment') & (data['yr_renovated'] == '2015-01-01') , 'id'].count()"
   ]
  },
  {
   "cell_type": "markdown",
   "metadata": {},
   "source": [
    "## 4.16 Qual o maior número de quartos que um imóveis do tipo “house” possui ?\n",
    "#### R:  \n"
   ]
  },
  {
   "cell_type": "code",
   "execution_count": null,
   "metadata": {},
   "outputs": [],
   "source": [
    "data.loc[ data['dormitory_type'] == 'house' ].groupby('dormitory_type')['bedrooms'].max()"
   ]
  },
  {
   "cell_type": "markdown",
   "metadata": {},
   "source": [
    "## 4.17 Quantos imóveis “new_house” foram reformados no ano de 2014?\n",
    "\n",
    "#### R:  \n"
   ]
  },
  {
   "cell_type": "code",
   "execution_count": null,
   "metadata": {},
   "outputs": [],
   "source": [
    "data.loc[ (data['dormitory_type'] == 'new_house') & (data['yr_renovated'] == '2014-01-01') , 'id' ].count()"
   ]
  },
  {
   "cell_type": "markdown",
   "metadata": {},
   "source": [
    "## 4.18 Selecione as colunas: “id”, “date”, “price”, “floors”, “zipcode” pelo método:\n",
    "- Direto pelo nome das colunas.\n",
    "- Pelos Índices.\n",
    "- Pelos Índices das linhas e o nome das colunas\n",
    "- Índices Booleanos\t\t\n",
    "\n",
    "\n"
   ]
  },
  {
   "cell_type": "code",
   "execution_count": null,
   "metadata": {},
   "outputs": [],
   "source": [
    "data[['id', 'date', 'price', 'floors', 'zipcode']].head()"
   ]
  },
  {
   "cell_type": "code",
   "execution_count": null,
   "metadata": {},
   "outputs": [],
   "source": [
    "data.iloc[0:5, [0, 1, 2, 7, 16]]"
   ]
  },
  {
   "cell_type": "code",
   "execution_count": null,
   "metadata": {},
   "outputs": [],
   "source": [
    "data.loc[0:, ['id', 'date', 'price', 'floors', 'zipcode']]"
   ]
  },
  {
   "cell_type": "code",
   "execution_count": null,
   "metadata": {},
   "outputs": [],
   "source": [
    "col = [True, True, True, False, False, False, False, True, False, False, False, False, False, False, False, False, True, False,  False, False, False, False]\n",
    "data.loc[0:5, col]"
   ]
  },
  {
   "cell_type": "markdown",
   "metadata": {},
   "source": [
    "## 4.19 Salve um arquivo .csv com somente as colunas do item 10 ao 17.\n",
    "\n",
    "#### R:  \n"
   ]
  },
  {
   "cell_type": "code",
   "execution_count": null,
   "metadata": {},
   "outputs": [],
   "source": [
    "report_exercicios_aula2 = data.iloc[ : , [0, 1, 2, 7, 16]]\n",
    "report_exercicios_aula2.to_csv('datasets/report_exercicios_aula2..csv', index=False)"
   ]
  },
  {
   "cell_type": "markdown",
   "metadata": {},
   "source": [
    "## 4.20 Modifique a cor dos pontos no mapa de “pink” para “verde-escuro”\n",
    "\n",
    "#### R:  \n"
   ]
  },
  {
   "cell_type": "code",
   "execution_count": null,
   "metadata": {},
   "outputs": [],
   "source": [
    "data_mapa = data[['id', 'lat', 'long', 'price']]\n",
    "\n",
    "mapa = px.scatter_mapbox( data_mapa,\n",
    "                          lat = 'lat',\n",
    "                          lon = 'long' ,\n",
    "                          hover_name = 'id',\n",
    "                          hover_data = ['price'], #aqui passa como lista por exigÊncia da função\n",
    "                          color_discrete_sequence = ['green'],\n",
    "                          zoom = 8,\n",
    "                          height = 300 )\n",
    "\n",
    "mapa.update_layout( mapbox_style = 'open-street-map' )\n",
    "mapa.update_layout( height=600, margin = {'r':0, 't':0, 'l':0, 'b':0} )"
   ]
  },
  {
   "cell_type": "markdown",
   "metadata": {},
   "source": [
    "# Links Úteis"
   ]
  },
  {
   "cell_type": "markdown",
   "metadata": {},
   "source": [
    "### Documentação do pandas\n",
    "https://pandas.pydata.org/docs/reference/api/pandas.DataFrame.shape.html"
   ]
  }
 ],
 "metadata": {
  "interpreter": {
   "hash": "0e9f00be373a6d21a5020add650cfc8874fe4a40147bac3122748273e58f4825"
  },
  "kernelspec": {
   "display_name": "Python 3.8.5 64-bit",
   "name": "python3"
  },
  "language_info": {
   "codemirror_mode": {
    "name": "ipython",
    "version": 3
   },
   "file_extension": ".py",
   "mimetype": "text/x-python",
   "name": "python",
   "nbconvert_exporter": "python",
   "pygments_lexer": "ipython3",
   "version": "3.10.2"
  }
 },
 "nbformat": 4,
 "nbformat_minor": 4
}
