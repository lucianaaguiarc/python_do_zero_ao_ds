{
 "cells": [
  {
   "cell_type": "markdown",
   "metadata": {},
   "source": [
    "# 0. Carregando bibliotecas e dados"
   ]
  },
  {
   "cell_type": "code",
   "execution_count": null,
   "metadata": {},
   "outputs": [],
   "source": [
    "import pandas as pd\n",
    "import numpy as np\n",
    "import plotly.express as px\n",
    "import matplotlib.pyplot as plt\n",
    "#Foram adicionados por conta de erro de renderização no mapa (ex20), utilizando o VS Code. Caso sua IDE não tenha o erro, não é necessário\n",
    "#Erro: No renderer could be found for mimetype \"application/vnd.plotly.v1+json\"\n",
    "import plotly.io as pio\n",
    "pio.renderers.default = \"notebook_connected\""
   ]
  },
  {
   "cell_type": "code",
   "execution_count": null,
   "metadata": {},
   "outputs": [],
   "source": [
    "data = pd.read_csv('datasets/kc_house_data.csv')"
   ]
  },
  {
   "cell_type": "code",
   "execution_count": null,
   "metadata": {},
   "outputs": [],
   "source": [
    "data"
   ]
  },
  {
   "cell_type": "markdown",
   "metadata": {},
   "source": [
    "# 1. Analisando os tipos de dados do conjunto"
   ]
  },
  {
   "cell_type": "markdown",
   "metadata": {},
   "source": [
    "## 1.1 Mostra na tela os tipos de variáveis do conjunto"
   ]
  },
  {
   "cell_type": "code",
   "execution_count": null,
   "metadata": {},
   "outputs": [],
   "source": [
    "data.dtypes"
   ]
  },
  {
   "cell_type": "markdown",
   "metadata": {},
   "source": [
    "## 1.2 Converção de variáveis\n"
   ]
  },
  {
   "cell_type": "markdown",
   "metadata": {},
   "source": [
    "### O pandas lê data e não classifica como tipo \"date\" e sim \"object\", isso pode influenciar em manipulações futuras com o atributo date."
   ]
  },
  {
   "cell_type": "code",
   "execution_count": null,
   "metadata": {},
   "outputs": [],
   "source": [
    "# Antes da conversão\n",
    "data['date']"
   ]
  },
  {
   "cell_type": "code",
   "execution_count": null,
   "metadata": {},
   "outputs": [],
   "source": [
    "#Converter o tipo de dado da coluna \"date\" para o tipo data\n",
    "data['date'] = pd.to_datetime( data['date'] )\n",
    "data['date']"
   ]
  },
  {
   "cell_type": "markdown",
   "metadata": {},
   "source": [
    "### Converter outros tipos de dados"
   ]
  },
  {
   "cell_type": "code",
   "execution_count": null,
   "metadata": {},
   "outputs": [],
   "source": [
    "# Converter outros tipos de dados\n",
    "#Inteiro -> Float\n",
    "data['bedrooms'] = data['bedrooms'].astype( float )\n",
    "print( data[['id', 'bedrooms']].head() )\n",
    "print( data[['bedrooms']].dtypes )"
   ]
  },
  {
   "cell_type": "code",
   "execution_count": null,
   "metadata": {},
   "outputs": [],
   "source": [
    "#Float -> Inteiro\n",
    "data['bedrooms'] = data['bedrooms'].astype( int )\n",
    "print( data[['id', 'bedrooms']].head() )\n",
    "print( data[['bedrooms']].dtypes )"
   ]
  },
  {
   "cell_type": "code",
   "execution_count": null,
   "metadata": {},
   "outputs": [],
   "source": [
    "#No caso acima a conversão ficou int32, daí temos que deixar em int64, porque os outros ints estão como 64 e não dá ceto comprar um int32 com um int64\n",
    "#A função que converte para int64 vem da biblioteca numpy\n",
    "##Int32 -> Int64\n",
    "data['bedrooms'] = data['bedrooms'].astype( np.int64 )\n",
    "print( data[['id', 'bedrooms']].head() )\n",
    "print( data[['bedrooms']].dtypes )"
   ]
  },
  {
   "cell_type": "code",
   "execution_count": null,
   "metadata": {},
   "outputs": [],
   "source": [
    "#Inteiro -> String\n",
    "data['bedrooms'] = data['bedrooms'].astype( str )\n",
    "print( data[['id', 'bedrooms']].head() )\n",
    "print( data[['bedrooms']].dtypes )"
   ]
  },
  {
   "cell_type": "code",
   "execution_count": null,
   "metadata": {},
   "outputs": [],
   "source": [
    "#String -> Inteiro\n",
    "data['bedrooms'] = data['bedrooms'].astype( np.int64 )\n",
    "print( data[['id', 'bedrooms']].head() )\n",
    "print( data[['bedrooms']].dtypes )"
   ]
  },
  {
   "cell_type": "code",
   "execution_count": null,
   "metadata": {},
   "outputs": [],
   "source": [
    "#Inteiro -> Data\n",
    "data['date'] = pd.to_datetime( data['date'] )\n",
    "print( data[['id', 'date']].head() )\n",
    "print( data[['date']].dtypes )"
   ]
  },
  {
   "cell_type": "markdown",
   "metadata": {},
   "source": [
    "# 2. Manipulando os dados"
   ]
  },
  {
   "cell_type": "markdown",
   "metadata": {},
   "source": [
    "## 2.1 Criar variáveis"
   ]
  },
  {
   "cell_type": "code",
   "execution_count": null,
   "metadata": {},
   "outputs": [],
   "source": [
    "#Cria uma nova coluna e popula com uma string\n",
    "data['nome_luci'] = \"Luciana\"\n",
    "print( data.columns )\n",
    "\n",
    "#Cria novas colunas com novos tipos de dados \n",
    "data['idade'] = 11\n",
    "data['data_string'] = '2021-10-06'\n",
    "data['data_date'] = pd.to_datetime( '2021-10-06' )\n",
    "#Mostra na tela as colunas criadas e o tipo de dados do conjunto\n",
    "print( data[[ 'id',  'idade', 'data_string', 'data_date']] )\n",
    "print( data.dtypes )"
   ]
  },
  {
   "cell_type": "markdown",
   "metadata": {},
   "source": [
    "## 2.2 Deletar uma coluna"
   ]
  },
  {
   "cell_type": "code",
   "execution_count": null,
   "metadata": {},
   "outputs": [],
   "source": [
    "# Mostra o dataset antes do drop\n",
    "print ( data.columns )\n",
    "#Retira a coluna \"nome_luci\"\n",
    "data = data.drop ( 'nome_luci', axis=1 )\n",
    "#Mostra o dataset sem a coluna\n",
    "print ( data.columns )"
   ]
  },
  {
   "cell_type": "markdown",
   "metadata": {},
   "source": [
    "## 2.2.1 Deletar várias colunas (primeiro modo)"
   ]
  },
  {
   "cell_type": "code",
   "execution_count": null,
   "metadata": {},
   "outputs": [],
   "source": [
    "# Mostra o dataset antes do drop\n",
    "print ( data.columns )\n",
    "#Retira a coluna \"nome_luci\"\n",
    "data = data.drop ( ['idade', 'data_date'], axis=1 )\n",
    "#Mostra o dataset sem a coluna\n",
    "print ( data.columns )"
   ]
  },
  {
   "cell_type": "markdown",
   "metadata": {},
   "source": [
    "## 2.2.2 Deletar várias colunas (segundo modo)"
   ]
  },
  {
   "cell_type": "code",
   "execution_count": null,
   "metadata": {},
   "outputs": [],
   "source": [
    "# Mostra o dataset antes do drop\n",
    "print ( data.columns )\n",
    "#Retira a coluna \"nome_luci\"\n",
    "col = ['idade', 'data_date']\n",
    "data = data.drop (col , axis=1 )\n",
    "#Mostra o dataset sem a coluna\n",
    "print ( data.columns )"
   ]
  },
  {
   "cell_type": "markdown",
   "metadata": {},
   "source": [
    "## 2.3 Seleção de dados\n",
    "### Existem quatro formas de selecionar dados \n",
    "-  direto pelo nome das colunas \n",
    "-  pelos índices das linhas e das colunas , \n",
    "-  pelos índices das linhas e nome das colunas\n",
    "-  pelos índices booleanos\n",
    "\n"
   ]
  },
  {
   "cell_type": "markdown",
   "metadata": {},
   "source": [
    "## 2.3.1 Selecionar dados direto pelo nome das colunas"
   ]
  },
  {
   "cell_type": "code",
   "execution_count": null,
   "metadata": {},
   "outputs": [],
   "source": [
    "# Seleciona uma única variável\n",
    "print( data['price'] )\n",
    "# Seleciona uma lista de variáveis\n",
    "print( data[[ 'id','price','date' ]] )\n",
    "\n",
    "#Na seleção de n variáveis, o duplo colchetes é necessário porque é passado uma lista de variáveis. "
   ]
  },
  {
   "cell_type": "markdown",
   "metadata": {},
   "source": [
    "## 2.3.2 Selecionar dados pelos índices das linhas e das colunas\n",
    "#### Sintaxe: <nome_do_dataframe>.iloc[linhas, colunas]"
   ]
  },
  {
   "cell_type": "code",
   "execution_count": null,
   "metadata": {},
   "outputs": [],
   "source": [
    "# Selecionar uma parte das linhas e colunas\n",
    "data.iloc[0:10, 0:3]"
   ]
  },
  {
   "cell_type": "code",
   "execution_count": null,
   "metadata": {},
   "outputs": [],
   "source": [
    "# Selecionar todas as linhas e parte das colunas\n",
    "data.iloc[:, 0:3]"
   ]
  },
  {
   "cell_type": "code",
   "execution_count": null,
   "metadata": {},
   "outputs": [],
   "source": [
    "# Selecionar parte das linhas e todas as colunas\n",
    "\n",
    "data.iloc[0:5, :]"
   ]
  },
  {
   "cell_type": "markdown",
   "metadata": {},
   "source": [
    "## 2.3.3 Selecionar dados pelos índices das linhas e nome das colunas\n",
    "#### Sintaxe: <nome_do_dataframe>.loc[linhas, colunas]"
   ]
  },
  {
   "cell_type": "code",
   "execution_count": null,
   "metadata": {},
   "outputs": [],
   "source": [
    "# Selecionar uma parte das linhas e colunas\n",
    "data.loc[0:10, ['id', 'price']]"
   ]
  },
  {
   "cell_type": "markdown",
   "metadata": {},
   "source": [
    "## 2.3.4 Selecionar dados pelos índices booleanos\n",
    "- Índices booleanos: True ou False\n",
    "- Coloca \"True\" para as colunas que serão selecionadas e \"False\" para as que não serão\n",
    "- Todas as colunas devem ter valor True ou False"
   ]
  },
  {
   "cell_type": "code",
   "execution_count": null,
   "metadata": {},
   "outputs": [],
   "source": [
    "col = [True, True, False, False, False, False, False, False, False, False, False, False, False, False, False, False, False, False, False, False, False,False]\n",
    "\n",
    "data.loc[0:10, col]"
   ]
  },
  {
   "cell_type": "markdown",
   "metadata": {},
   "source": [
    "# 3. Respondendo as perguntas de negócio"
   ]
  },
  {
   "cell_type": "markdown",
   "metadata": {},
   "source": [
    "## 3.1 Qual a data do imóvel mais antigo?\n",
    "### R: 2014-05-02"
   ]
  },
  {
   "cell_type": "code",
   "execution_count": null,
   "metadata": {},
   "outputs": [],
   "source": [
    "data['date'] = pd.to_datetime( data['date'] )\n",
    "\n",
    "data.sort_values('date', ascending = True)"
   ]
  },
  {
   "cell_type": "markdown",
   "metadata": {},
   "source": [
    "## 3.2 Quantos imóveis possuem o número máximo de andares?\n",
    "### R: 8 imóveis"
   ]
  },
  {
   "cell_type": "code",
   "execution_count": null,
   "metadata": {},
   "outputs": [],
   "source": [
    "len ( data[data['floors'] == 3.5] )"
   ]
  },
  {
   "cell_type": "markdown",
   "metadata": {},
   "source": [
    "## 3.3 Classifique os imóveis em baixo e alto padrão de acordo com o preço\n",
    "- => R$ 540.000 -> alto padrão (high_standard)\n",
    "- < R$ 540.000 -> alto padrão (low_standard)"
   ]
  },
  {
   "cell_type": "code",
   "execution_count": null,
   "metadata": {},
   "outputs": [],
   "source": [
    "# 1) Criar uma coluna com valor standard\n",
    "data['level'] = 'standard'\n",
    "\n",
    "# 2) Selecionar as casas cujo valor é >= 540.000 e mudar valor de standard para high level\n",
    "data.loc[data['price'] >= 540000, 'level'] = 'high_standard'\n",
    "\n",
    "# 3) Selecionar as casas cujo valor é >= 540.000 e mudar valor de standard para low level\n",
    "data.loc[data['price'] < 540000, 'level'] = 'low_standard'\n",
    "\n",
    "# Mostra id e level na tela\n",
    "data[['id', 'level']]"
   ]
  },
  {
   "cell_type": "markdown",
   "metadata": {},
   "source": [
    "## 3.4 Gerar um relatório ordenado pelo preço com as seguintes informações: id, data, número de quartos, tamanho total do terreno, preço, classificação do imóvel"
   ]
  },
  {
   "cell_type": "markdown",
   "metadata": {},
   "source": [
    "### Modo 1 \n",
    "#### Esse modo é melhor caso a coluna price não precisasse aparecer na tela"
   ]
  },
  {
   "cell_type": "code",
   "execution_count": null,
   "metadata": {},
   "outputs": [],
   "source": [
    "report1 = data.sort_values('price', ascending = False)[['id','date', 'bedrooms', 'sqft_lot', 'price', 'level']]"
   ]
  },
  {
   "cell_type": "markdown",
   "metadata": {},
   "source": [
    "### Modo 2\n",
    "#### Nesse modo, a coluna price tem que aparecer na lista das variáveis, se não ocorre erro"
   ]
  },
  {
   "cell_type": "code",
   "execution_count": null,
   "metadata": {},
   "outputs": [],
   "source": [
    "report2 = data[['id','date', 'bedrooms', 'sqft_lot', 'price' ,'level']].sort_values( 'price', ascending = False )"
   ]
  },
  {
   "cell_type": "markdown",
   "metadata": {},
   "source": [
    "### Salvar o dataset em CSV\n"
   ]
  },
  {
   "cell_type": "code",
   "execution_count": null,
   "metadata": {},
   "outputs": [],
   "source": [
    "report1.to_csv( 'datasets/reportCEO_aula2_modo1.csv', index = False)\n",
    "report2.to_csv( 'datasets/reportCEO_aula2_modo2.csv', index = False)\n",
    "\n",
    "#Index False para resetar os índices antes de salvar"
   ]
  },
  {
   "cell_type": "markdown",
   "metadata": {},
   "source": [
    "## 3.5 Criar um mapa indicando onde as casas estão localizadas"
   ]
  },
  {
   "cell_type": "code",
   "execution_count": null,
   "metadata": {},
   "outputs": [],
   "source": [
    "data_mapa = data[['id', 'lat', 'long', 'price']]\n",
    "\n",
    "mapa = px.scatter_mapbox( data_mapa,\n",
    "                          lat = 'lat',\n",
    "                          lon = 'long' ,\n",
    "                          hover_name = 'id',\n",
    "                          hover_data = ['price'], #aqui passa como lista por exigÊncia da função\n",
    "                          color_discrete_sequence = ['fuchsia'],\n",
    "                          zoom = 8,\n",
    "                          height = 300 )\n",
    "\n",
    "mapa.update_layout( mapbox_style = 'open-street-map' )\n",
    "mapa.update_layout( height=600, margin = {'r':0, 't':0, 'l':0, 'b':0} )\n",
    "mapa.show()"
   ]
  },
  {
   "cell_type": "code",
   "execution_count": null,
   "metadata": {},
   "outputs": [],
   "source": [
    "#Salvar essa imagem em HTML\n",
    "mapa.write_html('datasets/msps_house_rocket.html')"
   ]
  },
  {
   "cell_type": "markdown",
   "metadata": {},
   "source": [
    "# 4. Exercícios"
   ]
  },
  {
   "cell_type": "markdown",
   "metadata": {},
   "source": [
    "## 4.1 Crie uma nova coluna chamada: “house_age”\n",
    " - Se o valor da coluna “date” for maior que 2014-01-01 => ‘new_house’\n",
    " - Se o valor da coluna “date” for menor que 2014-01-01 => ‘old_house’"
   ]
  },
  {
   "cell_type": "code",
   "execution_count": null,
   "metadata": {},
   "outputs": [],
   "source": [
    "data['house_age'] = 'string'\n",
    "data.loc[data['date'] >= '2014-01-01', 'house_age'] = 'new_house'\n",
    "data.loc[data['date'] < '2014-01-01', 'house_age'] = 'old_house'\n",
    "\n",
    "#De acordo com essas especificações não há casas classificadas como old"
   ]
  },
  {
   "cell_type": "markdown",
   "metadata": {},
   "source": [
    "#### Outra forma mais sofisticada"
   ]
  },
  {
   "cell_type": "code",
   "execution_count": null,
   "metadata": {},
   "outputs": [],
   "source": [
    "data['house_age'] = data['date'].apply( lambda x: 'new_house' if x >= '2014-01-01' else 'old_house' )"
   ]
  },
  {
   "cell_type": "markdown",
   "metadata": {},
   "source": [
    "#### Caso dê erro porque não há como comprara data e string, converta a data para string e volte a coluna \"date\" para formato de data"
   ]
  },
  {
   "cell_type": "code",
   "execution_count": null,
   "metadata": {},
   "outputs": [],
   "source": [
    "data['date'] = data['date'].astype( str )\n",
    "data['house_age'] = data['date'].apply( lambda x: 'new_house' if x >= '2014-01-01' else 'old_house' )\n",
    "data['date'] = pd.to_datetime( data['date'], format='%Y-%m-%d' )"
   ]
  },
  {
   "cell_type": "markdown",
   "metadata": {},
   "source": [
    "## 4.2 Crie uma nova coluna chamada: “dormitory_type”\n",
    "- Se o valor da coluna “bedrooms” for igual a 1 => ‘studio’\n",
    "- Se o valor da coluna “bedrooms” for igual a 2 => ‘apartament’\n",
    "- Se o valor da coluna “bedrooms” for maior que 2 => ‘house’"
   ]
  },
  {
   "cell_type": "code",
   "execution_count": null,
   "metadata": {},
   "outputs": [],
   "source": [
    "data['dormitory_type'] = 'string'\n",
    "data.loc[data['bedrooms'] <= 1, 'dormitory_type'] = 'studio'\n",
    "data.loc[data['bedrooms'] == 2, 'dormitory_type'] = 'apartment'\n",
    "data.loc[data['bedrooms'] > 2, 'dormitory_type'] = 'house'"
   ]
  },
  {
   "cell_type": "markdown",
   "metadata": {},
   "source": [
    "#### Outra forma (com lambda apply)"
   ]
  },
  {
   "cell_type": "code",
   "execution_count": null,
   "metadata": {},
   "outputs": [],
   "source": [
    "data['dormitory_type'] = data['bedrooms'].apply( lambda dorm: 'studio' if dorm == 1 else\n",
    "                                                              'apartment' if dorm==2 else \n",
    "                                                              'house' if dorm > 2 else\n",
    "                                                              'NA')\n",
    "                                                              \n",
    "#https://stackoverflow.com/questions/44991438/lambda-including-if-elif-else"
   ]
  },
  {
   "cell_type": "markdown",
   "metadata": {},
   "source": [
    "#### Outra forma (np.where)"
   ]
  },
  {
   "cell_type": "code",
   "execution_count": null,
   "metadata": {},
   "outputs": [],
   "source": [
    "data['dormitory_type'] = np.where( data['bedrooms'] == 1 , 'studio',\n",
    "                            np.where(data['bedrooms'] ==2, 'apartment',\n",
    "                                np.where(data['bedrooms'] > 2, 'house', 'NA')\n",
    "                            ) \n",
    "                         )"
   ]
  },
  {
   "cell_type": "code",
   "execution_count": null,
   "metadata": {},
   "outputs": [],
   "source": [
    "data"
   ]
  },
  {
   "cell_type": "markdown",
   "metadata": {},
   "source": [
    "## 4.3 Crie uma nova coluna chamada: “condition_type”\n",
    "-  Se o valor da coluna “condition” for menor ou igual à 2 => ‘bad’\n",
    "-  Se o valor da coluna “condition” for igual à 3 ou 4 => ‘regular’\n",
    "-  Se o valor da coluna “condition” for igual à 5 => ‘good’"
   ]
  },
  {
   "cell_type": "code",
   "execution_count": null,
   "metadata": {},
   "outputs": [],
   "source": [
    "data['condition_type'] = 'string'\n",
    "data.loc[data['condition'] <= 2, 'condition_type'] = 'bad'\n",
    "data.loc[(data['condition'] == 3) | (data['condition'] == 4), 'condition_type'] = 'regular'\n",
    "data.loc[data['condition'] >= 5, 'condition_type'] = 'good'\n",
    "\n",
    "data\n",
    "\n",
    "#Referência: https://www.ti-enxame.com/pt/python/usando-condicional-para-gerar-nova-coluna-no-dataframe-do-pandas/1050698416/"
   ]
  },
  {
   "cell_type": "markdown",
   "metadata": {},
   "source": [
    "## 4.4 Modifique o TIPO da coluna “condition” para STRING\n"
   ]
  },
  {
   "cell_type": "code",
   "execution_count": null,
   "metadata": {},
   "outputs": [],
   "source": [
    "data['condition'] = data['condition'].astype(str)\n",
    "data.dtypes"
   ]
  },
  {
   "cell_type": "markdown",
   "metadata": {},
   "source": [
    "## 4.5 Delete as colunas: “sqft_living15” e “sqft_lot15”\n"
   ]
  },
  {
   "cell_type": "code",
   "execution_count": null,
   "metadata": {},
   "outputs": [],
   "source": [
    "print( data.columns )\n",
    "data = data.drop('sqft_living15', axis=1)\n",
    "print( data.columns )\n",
    "data = data.drop('sqft_lot15', axis=1)\n",
    "print( data.columns.to_list())"
   ]
  },
  {
   "cell_type": "markdown",
   "metadata": {},
   "source": [
    "## 4.6 Modifique o TIPO da coluna “yr_built” para DATE\n"
   ]
  },
  {
   "cell_type": "code",
   "execution_count": null,
   "metadata": {},
   "outputs": [],
   "source": [
    "data['yr_built'] = pd.to_datetime( data['yr_built'], format='%Y' )\n",
    "data.head()"
   ]
  },
  {
   "cell_type": "markdown",
   "metadata": {},
   "source": [
    "## 4.7 Modifique o TIPO a Coluna “yr_renovated” para DATE\n"
   ]
  },
  {
   "cell_type": "code",
   "execution_count": null,
   "metadata": {},
   "outputs": [],
   "source": [
    "data['yr_renovated'] = data['yr_renovated'].apply( lambda x: 1800 if x == 0 else x) \n",
    "data['yr_renovated'] = pd.to_datetime( data['yr_renovated'], format='%Y' )\n",
    "data.dtypes\n",
    "\n",
    "#Apply faz a aplicação de uma função linha a linha\n",
    "#https://datatofish.com/if-condition-in-pandas-dataframe/\n",
    "#https://www.analyticsvidhya.com/blog/2020/03/what-are-lambda-functions-in-python/"
   ]
  },
  {
   "cell_type": "code",
   "execution_count": null,
   "metadata": {},
   "outputs": [],
   "source": [
    "data.head()"
   ]
  },
  {
   "cell_type": "markdown",
   "metadata": {},
   "source": [
    "## 4.8 Qual a data mais antiga de construção de um imóvel?\n",
    "\n",
    "#### R:  2014-05-02\n"
   ]
  },
  {
   "cell_type": "code",
   "execution_count": null,
   "metadata": {},
   "outputs": [],
   "source": [
    "data.sort_values('date', ascending=True)"
   ]
  },
  {
   "cell_type": "markdown",
   "metadata": {},
   "source": [
    "## 4.9 Qual a data mais antiga de renovação de um imóvel?\n",
    "\n",
    "#### R:  1934\n"
   ]
  },
  {
   "cell_type": "code",
   "execution_count": null,
   "metadata": {},
   "outputs": [],
   "source": [
    "data.loc[data['yr_renovated'] != '1800-01-01'].sort_values('yr_renovated', ascending=True).head(1)"
   ]
  },
  {
   "cell_type": "markdown",
   "metadata": {},
   "source": [
    "## 4.10 Quantos imóveis tem 2 andares?\n",
    "\n",
    "#### R:  8241\n"
   ]
  },
  {
   "cell_type": "code",
   "execution_count": null,
   "metadata": {},
   "outputs": [],
   "source": [
    "data.loc[data['floors'] == 2, 'id'].count()"
   ]
  },
  {
   "cell_type": "markdown",
   "metadata": {},
   "source": [
    "## 4.11. Quantos imóveis estão com a condição igual a “regular” ?\n",
    "\n",
    "#### R:  19710"
   ]
  },
  {
   "cell_type": "code",
   "execution_count": null,
   "metadata": {},
   "outputs": [],
   "source": [
    "data.loc[data['condition_type'] == 'regular', 'id'].count()"
   ]
  },
  {
   "cell_type": "markdown",
   "metadata": {},
   "source": [
    "## 4.12 Quantos imóveis estão com a condição igual a “bad”e possuem “vista para água” ?\n",
    "\n",
    "#### R: 2\n"
   ]
  },
  {
   "cell_type": "code",
   "execution_count": null,
   "metadata": {},
   "outputs": [],
   "source": [
    "data.loc[ (data['condition_type'] == 'bad') & (data['waterfront'] == 1) , 'id' ].count()"
   ]
  },
  {
   "cell_type": "markdown",
   "metadata": {},
   "source": [
    "## 4.13 Quantos imóveis estão com a condição igual a “good” e são “new_house”?\n",
    "\n",
    "#### R: 1701\n"
   ]
  },
  {
   "cell_type": "code",
   "execution_count": null,
   "metadata": {},
   "outputs": [],
   "source": [
    "data.loc[ (data['condition_type'] == 'good') & (data['house_age'] == 'new_house') , 'id' ].count()"
   ]
  },
  {
   "cell_type": "markdown",
   "metadata": {},
   "source": [
    "## 4.14 Qual o valor do imóvel mais caro do tipo “studio” ?\n",
    "\n",
    "#### R: R$ 1295650.0\n"
   ]
  },
  {
   "cell_type": "code",
   "execution_count": null,
   "metadata": {},
   "outputs": [],
   "source": [
    "data.loc[ data['dormitory_type'] == 'studio' ].groupby('dormitory_type')['price'].max()"
   ]
  },
  {
   "cell_type": "markdown",
   "metadata": {},
   "source": [
    "## 4.15 Quantos imóveis do tipo “apartment” foram reformados em 2015 ?\n",
    "\n",
    "#### R:  \n"
   ]
  },
  {
   "cell_type": "code",
   "execution_count": null,
   "metadata": {},
   "outputs": [],
   "source": [
    "data.loc[ (data['dormitory_type'] == 'apartment') & (data['yr_renovated'] == '2015-01-01') , 'id'].count()"
   ]
  },
  {
   "cell_type": "markdown",
   "metadata": {},
   "source": [
    "## 4.16 Qual o maior número de quartos que um imóveis do tipo “house” possui ?\n",
    "#### R:  \n"
   ]
  },
  {
   "cell_type": "code",
   "execution_count": null,
   "metadata": {},
   "outputs": [],
   "source": [
    "data.loc[ data['dormitory_type'] == 'house' ].groupby('dormitory_type')['bedrooms'].max()"
   ]
  },
  {
   "cell_type": "markdown",
   "metadata": {},
   "source": [
    "## 4.17 Quantos imóveis “new_house” foram reformados no ano de 2014?\n",
    "\n",
    "#### R:  \n"
   ]
  },
  {
   "cell_type": "code",
   "execution_count": null,
   "metadata": {},
   "outputs": [],
   "source": [
    "data.loc[ (data['dormitory_type'] == 'new_house') & (data['yr_renovated'] == '2014-01-01') , 'id' ].count()"
   ]
  },
  {
   "cell_type": "markdown",
   "metadata": {},
   "source": [
    "## 4.18 Selecione as colunas: “id”, “date”, “price”, “floors”, “zipcode” pelo método:\n",
    "- Direto pelo nome das colunas.\n",
    "- Pelos Índices.\n",
    "- Pelos Índices das linhas e o nome das colunas\n",
    "- Índices Booleanos\t\t\n",
    "\n",
    "\n"
   ]
  },
  {
   "cell_type": "code",
   "execution_count": null,
   "metadata": {},
   "outputs": [],
   "source": [
    "data[['id', 'date', 'price', 'floors', 'zipcode']].head()"
   ]
  },
  {
   "cell_type": "code",
   "execution_count": null,
   "metadata": {},
   "outputs": [],
   "source": [
    "data.iloc[0:5, [0, 1, 2, 7, 16]]"
   ]
  },
  {
   "cell_type": "code",
   "execution_count": null,
   "metadata": {},
   "outputs": [],
   "source": [
    "data.loc[0:, ['id', 'date', 'price', 'floors', 'zipcode']]"
   ]
  },
  {
   "cell_type": "code",
   "execution_count": null,
   "metadata": {},
   "outputs": [],
   "source": [
    "col = [True, True, True, False, False, False, False, True, False, False, False, False, False, False, False, False, True, False,  False, False, False, False]\n",
    "data.loc[0:5, col]"
   ]
  },
  {
   "cell_type": "markdown",
   "metadata": {},
   "source": [
    "## 4.19 Salve um arquivo .csv com somente as colunas do item 10 ao 17.\n",
    "\n",
    "#### R:  \n"
   ]
  },
  {
   "cell_type": "code",
   "execution_count": null,
   "metadata": {},
   "outputs": [],
   "source": [
    "report_exercicios_aula2 = data.iloc[ : , [0, 1, 2, 7, 16]]\n",
    "report_exercicios_aula2.to_csv('datasets/report_exercicios_aula2..csv', index=False)"
   ]
  },
  {
   "cell_type": "markdown",
   "metadata": {},
   "source": [
    "## 4.20 Modifique a cor dos pontos no mapa de “pink” para “verde-escuro”\n",
    "\n",
    "#### R:  \n"
   ]
  },
  {
   "cell_type": "code",
   "execution_count": null,
   "metadata": {},
   "outputs": [],
   "source": [
    "data_mapa = data[['id', 'lat', 'long', 'price']]\n",
    "\n",
    "mapa = px.scatter_mapbox( data_mapa,\n",
    "                          lat = 'lat',\n",
    "                          lon = 'long' ,\n",
    "                          hover_name = 'id',\n",
    "                          hover_data = ['price'], #aqui passa como lista por exigÊncia da função\n",
    "                          color_discrete_sequence = ['green'],\n",
    "                          zoom = 8,\n",
    "                          height = 300 )\n",
    "\n",
    "mapa.update_layout( mapbox_style = 'open-street-map' )\n",
    "mapa.update_layout( height=600, margin = {'r':0, 't':0, 'l':0, 'b':0} )"
   ]
  },
  {
   "cell_type": "markdown",
   "metadata": {},
   "source": [
    "# Links Úteis"
   ]
  },
  {
   "cell_type": "markdown",
   "metadata": {},
   "source": [
    "### Documentação do pandas\n",
    "https://pandas.pydata.org/docs/reference/api/pandas.DataFrame.shape.html"
   ]
  }
 ],
 "metadata": {
  "interpreter": {
   "hash": "0e9f00be373a6d21a5020add650cfc8874fe4a40147bac3122748273e58f4825"
  },
  "kernelspec": {
   "display_name": "Python 3.8.5 64-bit",
   "name": "python3"
  },
  "language_info": {
   "codemirror_mode": {
    "name": "ipython",
    "version": 3
   },
   "file_extension": ".py",
   "mimetype": "text/x-python",
   "name": "python",
   "nbconvert_exporter": "python",
   "pygments_lexer": "ipython3",
   "version": "3.10.2"
  }
 },
 "nbformat": 4,
 "nbformat_minor": 4
}
