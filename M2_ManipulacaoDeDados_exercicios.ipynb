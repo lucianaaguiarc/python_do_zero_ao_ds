{
 "cells": [
  {
   "cell_type": "markdown",
   "metadata": {},
   "source": [
    "# 0. Carregando bibliotecas e dados"
   ]
  },
  {
   "cell_type": "code",
   "execution_count": null,
   "metadata": {},
   "outputs": [],
   "source": [
    "import pandas as pd\n",
    "import numpy as np\n",
    "import plotly.express as px\n",
    "import matplotlib.pyplot as plt"
   ]
  },
  {
   "cell_type": "code",
   "execution_count": null,
   "metadata": {},
   "outputs": [],
   "source": [
    "data = pd.read_csv('datasets/kc_house_data.csv')"
   ]
  },
  {
   "cell_type": "code",
   "execution_count": null,
   "metadata": {},
   "outputs": [],
   "source": [
    "data"
   ]
  },
  {
   "cell_type": "markdown",
   "metadata": {},
   "source": [
    "# 1. Analisando os tipos de dados do conjunto"
   ]
  },
  {
   "cell_type": "markdown",
   "metadata": {},
   "source": [
    "## 1.1 Mostra na tela os tipos de variáveis do conjunto"
   ]
  },
  {
   "cell_type": "code",
   "execution_count": null,
   "metadata": {},
   "outputs": [],
   "source": [
    "data.dtypes"
   ]
  },
  {
   "cell_type": "markdown",
   "metadata": {},
   "source": [
    "## 1.2 Converção de variáveis\n"
   ]
  },
  {
   "cell_type": "markdown",
   "metadata": {},
   "source": [
    "### O pandas lê data e não classifica como tipo \"date\" e sim \"object\", isso pode influenciar em manipulações futuras com o atributo date."
   ]
  },
  {
   "cell_type": "code",
   "execution_count": null,
   "metadata": {},
   "outputs": [],
   "source": [
    "# Antes da conversão\n",
    "data['date']"
   ]
  },
  {
   "cell_type": "code",
   "execution_count": null,
   "metadata": {},
   "outputs": [],
   "source": [
    "#Converter o tipo de dado da coluna \"date\" para o tipo data\n",
    "data['date'] = pd.to_datetime( data['date'] )\n",
    "data['date']"
   ]
  },
  {
   "cell_type": "markdown",
   "metadata": {},
   "source": [
    "### Converter outros tipos de dados"
   ]
  },
  {
   "cell_type": "code",
   "execution_count": null,
   "metadata": {},
   "outputs": [],
   "source": [
    "# Converter outros tipos de dados\n",
    "#Inteiro -> Float\n",
    "data['bedrooms'] = data['bedrooms'].astype( float )\n",
    "print( data[['id', 'bedrooms']].head() )\n",
    "print( data[['bedrooms']].dtypes )"
   ]
  },
  {
   "cell_type": "code",
   "execution_count": null,
   "metadata": {},
   "outputs": [],
   "source": [
    "#Float -> Inteiro\n",
    "data['bedrooms'] = data['bedrooms'].astype( int )\n",
    "print( data[['id', 'bedrooms']].head() )\n",
    "print( data[['bedrooms']].dtypes )"
   ]
  },
  {
   "cell_type": "code",
   "execution_count": null,
   "metadata": {},
   "outputs": [],
   "source": [
    "#No caso acima a conversão ficou int32, daí temos que deixar em int64, porque os outros ints estão como 64 e não dá ceto comprar um int32 com um int64\n",
    "#A função que converte para int64 vem da biblioteca numpy\n",
    "##Int32 -> Int64\n",
    "data['bedrooms'] = data['bedrooms'].astype( np.int64 )\n",
    "print( data[['id', 'bedrooms']].head() )\n",
    "print( data[['bedrooms']].dtypes )"
   ]
  },
  {
   "cell_type": "code",
   "execution_count": null,
   "metadata": {},
   "outputs": [],
   "source": [
    "#Inteiro -> String\n",
    "data['bedrooms'] = data['bedrooms'].astype( str )\n",
    "print( data[['id', 'bedrooms']].head() )\n",
    "print( data[['bedrooms']].dtypes )"
   ]
  },
  {
   "cell_type": "code",
   "execution_count": null,
   "metadata": {},
   "outputs": [],
   "source": [
    "#String -> Inteiro\n",
    "data['bedrooms'] = data['bedrooms'].astype( np.int64 )\n",
    "print( data[['id', 'bedrooms']].head() )\n",
    "print( data[['bedrooms']].dtypes )"
   ]
  },
  {
   "cell_type": "code",
   "execution_count": null,
   "metadata": {},
   "outputs": [],
   "source": [
    "#Inteiro -> Data\n",
    "data['date'] = pd.to_datetime( data['date'] )\n",
    "print( data[['id', 'date']].head() )\n",
    "print( data[['date']].dtypes )"
   ]
  },
  {
   "cell_type": "markdown",
   "metadata": {},
   "source": [
    "# 2. Manipulando os dados"
   ]
  },
  {
   "cell_type": "markdown",
   "metadata": {},
   "source": [
    "## 2.1 Criar variáveis"
   ]
  },
  {
   "cell_type": "code",
   "execution_count": null,
   "metadata": {},
   "outputs": [],
   "source": [
    "#Cria uma nova coluna e popula com uma string\n",
    "data['nome_luci'] = \"Luciana\"\n",
    "print( data.columns )\n",
    "\n",
    "#Cria novas colunas com novos tipos de dados \n",
    "data['idade'] = 11\n",
    "data['data_string'] = '2021-10-06'\n",
    "data['data_date'] = pd.to_datetime( '2021-10-06' )\n",
    "#Mostra na tela as colunas criadas e o tipo de dados do conjunto\n",
    "print( data[[ 'id',  'idade', 'data_string', 'data_date']] )\n",
    "print( data.dtypes )"
   ]
  },
  {
   "cell_type": "markdown",
   "metadata": {},
   "source": [
    "## 2.2 Deletar uma coluna"
   ]
  },
  {
   "cell_type": "code",
   "execution_count": null,
   "metadata": {},
   "outputs": [],
   "source": [
    "# Mostra o dataset antes do drop\n",
    "print ( data.columns )\n",
    "#Retira a coluna \"nome_luci\"\n",
    "data = data.drop ( 'nome_luci', axis=1 )\n",
    "#Mostra o dataset sem a coluna\n",
    "print ( data.columns )"
   ]
  },
  {
   "cell_type": "markdown",
   "metadata": {},
   "source": [
    "## 2.2.1 Deletar várias colunas (primeiro modo)"
   ]
  },
  {
   "cell_type": "code",
   "execution_count": null,
   "metadata": {},
   "outputs": [],
   "source": [
    "# Mostra o dataset antes do drop\n",
    "print ( data.columns )\n",
    "#Retira a coluna \"nome_luci\"\n",
    "data = data.drop ( ['idade', 'data_date'], axis=1 )\n",
    "#Mostra o dataset sem a coluna\n",
    "print ( data.columns )"
   ]
  },
  {
   "cell_type": "markdown",
   "metadata": {},
   "source": [
    "## 2.2.2 Deletar várias colunas (segundo modo)"
   ]
  },
  {
   "cell_type": "code",
   "execution_count": null,
   "metadata": {},
   "outputs": [],
   "source": [
    "# Mostra o dataset antes do drop\n",
    "print ( data.columns )\n",
    "#Retira a coluna \"nome_luci\"\n",
    "col = ['idade', 'data_date']\n",
    "data = data.drop (col , axis=1 )\n",
    "#Mostra o dataset sem a coluna\n",
    "print ( data.columns )"
   ]
  },
  {
   "cell_type": "markdown",
   "metadata": {},
   "source": [
    "## 2.3 Seleção de dados\n",
    "### Existem quatro formas de selecionar dados 1)Direto pelo nome das colunas , 2)pelos índices das linhas e das colunas , 3) , 4)  \n",
    "\n"
   ]
  },
  {
   "cell_type": "markdown",
   "metadata": {},
   "source": [
    "## 2.3.1 Selecionar dados direto pelo nome das colunas"
   ]
  },
  {
   "cell_type": "code",
   "execution_count": null,
   "metadata": {},
   "outputs": [],
   "source": [
    "# Seleciona uma única variável\n",
    "print( data['price'] )\n",
    "# Seleciona uma lista de variáveis\n",
    "print( data[[ 'id','price','date' ]] )\n",
    "\n",
    "#Na seleção de n variáveis, o duplo colchetes é necessário porque é passado uma lista de variáveis. "
   ]
  },
  {
   "cell_type": "markdown",
   "metadata": {},
   "source": [
    "## 2.3.2 Selecionar dados pelos índices das linhas e das colunas\n",
    "#### Sintaxe: <nome_do_dataframe>.iloc[linhas, colunas]"
   ]
  },
  {
   "cell_type": "code",
   "execution_count": null,
   "metadata": {},
   "outputs": [],
   "source": [
    "# Selecionar uma parte das linhas e colunas\n",
    "data.iloc[0:10, 0:3]"
   ]
  },
  {
   "cell_type": "code",
   "execution_count": null,
   "metadata": {},
   "outputs": [],
   "source": [
    "# Selecionar todas as linhas e parte das colunas\n",
    "data.iloc[:, 0:3]"
   ]
  },
  {
   "cell_type": "code",
   "execution_count": null,
   "metadata": {},
   "outputs": [],
   "source": [
    "# Selecionar todas as linhas e parte das colunas\n",
    "\n",
    "data.iloc[0:5, :]"
   ]
  },
  {
   "cell_type": "markdown",
   "metadata": {},
   "source": [
    "## 2.3.3 Selecionar dados pelos índices das linhas e nome das colunas\n",
    "#### Sintaxe: <nome_do_dataframe>.loc[linhas, colunas]"
   ]
  },
  {
   "cell_type": "code",
   "execution_count": null,
   "metadata": {},
   "outputs": [],
   "source": [
    "# Selecionar uma parte das linhas e colunas\n",
    "data.loc[0:10, ['id', 'price']]"
   ]
  },
  {
   "cell_type": "markdown",
   "metadata": {},
   "source": [
    "## 2.3.4 Selecionar dados pelos índices booleanos\n",
    "#### Índices booleanos: True ou False\n",
    "#### Coloca \"True\" para as colunas que serão selecionadas e \"False\" para as que não serão\n",
    "#### Todas as colunas devem ter valor True ou False"
   ]
  },
  {
   "cell_type": "code",
   "execution_count": null,
   "metadata": {},
   "outputs": [],
   "source": [
    "col = [True, True, False, False, False, False, False, False, False, False, False, False, False, False, False, False, False, False, False, False, False,False]\n",
    "\n",
    "data.loc[0:10, col]"
   ]
  },
  {
   "cell_type": "markdown",
   "metadata": {},
   "source": [
    "# 3. Respondendo as perguntas de negócio"
   ]
  },
  {
   "cell_type": "markdown",
   "metadata": {},
   "source": [
    "## 3.1 Qual a data do imóvel mais antigo?\n",
    "### R: 2014-05-02"
   ]
  },
  {
   "cell_type": "code",
   "execution_count": null,
   "metadata": {},
   "outputs": [],
   "source": [
    "data['date'] = pd.to_datetime( data['date'] )\n",
    "\n",
    "data.sort_values('date', ascending = True)"
   ]
  },
  {
   "cell_type": "markdown",
   "metadata": {},
   "source": [
    "## 3.2 Quantos imóveis possuem o número máximo de andares?\n",
    "### R: 8 imóveis"
   ]
  },
  {
   "cell_type": "code",
   "execution_count": null,
   "metadata": {},
   "outputs": [],
   "source": [
    "len ( data[data['floors'] == 3.5] )"
   ]
  },
  {
   "cell_type": "markdown",
   "metadata": {},
   "source": [
    "## 3.3 Classifique os imóveis em baixo e alto padrão de acordo com o preço\n",
    "#### >= R$ 540.000 -> alto padrão (high_standard)\n",
    "#### < R$ 540.000 -> alto padrão (low_standard)"
   ]
  },
  {
   "cell_type": "code",
   "execution_count": null,
   "metadata": {},
   "outputs": [],
   "source": [
    "# 1) Criar uma coluna com valor standard\n",
    "data['level'] = 'standard'\n",
    "\n",
    "# 2) Selecionar as casas cujo valor é >= 540.000 e mudar valor de standard para high level\n",
    "data.loc[data['price'] >= 540000, 'level'] = 'high_standard'\n",
    "\n",
    "# 3) Selecionar as casas cujo valor é >= 540.000 e mudar valor de standard para low level\n",
    "data.loc[data['price'] < 540000, 'level'] = 'low_standard'\n",
    "\n",
    "# Mostra id e level na tela\n",
    "data[['id', 'level']]"
   ]
  },
  {
   "cell_type": "markdown",
   "metadata": {},
   "source": [
    "## 3.4 Gerar um relatório ordenado pelo preço com as seguintes informações: id, data, número de quartos, tamanho total do terreno, preço, classificação do imóvel"
   ]
  },
  {
   "cell_type": "markdown",
   "metadata": {},
   "source": [
    "### Modo 1 \n",
    "#### Esse modo é melhor caso a coluna price não precisasse aparecer na tela"
   ]
  },
  {
   "cell_type": "code",
   "execution_count": null,
   "metadata": {},
   "outputs": [],
   "source": [
    "report1 = data.sort_values('price', ascending = False)[['id','date', 'bedrooms', 'sqft_lot', 'price', 'level']]"
   ]
  },
  {
   "cell_type": "markdown",
   "metadata": {},
   "source": [
    "### Modo 2\n",
    "#### Nesse modo, a coluna price tem que aparecer na lista das variáveis, se não ocorre erro"
   ]
  },
  {
   "cell_type": "code",
   "execution_count": null,
   "metadata": {},
   "outputs": [],
   "source": [
    "report2 = data[['id','date', 'bedrooms', 'sqft_lot', 'price' ,'level']].sort_values( 'price', ascending = False )"
   ]
  },
  {
   "cell_type": "markdown",
   "metadata": {},
   "source": [
    "### Salvar o dataset em CSV\n"
   ]
  },
  {
   "cell_type": "code",
   "execution_count": null,
   "metadata": {},
   "outputs": [],
   "source": [
    "report1.to_csv( 'datasets/reportCEO_aula2_modo1.csv', index = False)\n",
    "report2.to_csv( 'datasets/reportCEO_aula2_modo2.csv', index = False)\n",
    "\n",
    "#Index False para resetar os índices antes de salvar"
   ]
  },
  {
   "cell_type": "markdown",
   "metadata": {},
   "source": [
    "## 3.5 Criar um mapa indicando onde as casas estão localizadas"
   ]
  },
  {
   "cell_type": "code",
   "execution_count": null,
   "metadata": {},
   "outputs": [],
   "source": [
    "data_mapa = data[['id', 'lat', 'long', 'price']]\n",
    "\n",
    "mapa = px.scatter_mapbox( data_mapa,\n",
    "                          lat = 'lat',\n",
    "                          lon = 'long' ,\n",
    "                          hover_name = 'id',\n",
    "                          hover_data = ['price'], #aqui passa como lista por exigÊncia da função\n",
    "                          color_discrete_sequence = ['fuchsia'],\n",
    "                          zoom = 8,\n",
    "                          height = 300 )\n",
    "\n",
    "mapa.update_layout( mapbox_style = 'open-street-map' )\n",
    "mapa.update_layout( height=600, margin = {'r':0, 't':0, 'l':0, 'b':0} )\n",
    "mapa.show()"
   ]
  },
  {
   "cell_type": "code",
   "execution_count": null,
   "metadata": {},
   "outputs": [],
   "source": [
    "#Salvar essa imagem em HTML\n",
    "mapa.write_html('datasets/msps_house_rocket.html')"
   ]
  },
  {
   "cell_type": "markdown",
   "metadata": {},
   "source": [
    "# 4. Exercícios"
   ]
  },
  {
   "cell_type": "markdown",
   "metadata": {},
   "source": [
    "## 4.1 Crie uma nova coluna chamada: “house_age”\n",
    "#### - Se o valor da coluna “date” for maior que 2014-01-01 => ‘new_house’\n",
    "#### - Se o valor da coluna “date” for menor que 2014-01-01 => ‘old_house’"
   ]
  },
  {
   "cell_type": "code",
   "execution_count": null,
   "metadata": {},
   "outputs": [],
   "source": [
    "data['house_age'] = 'string'\n",
    "data.loc[data['date'] >= '2014-01-01', 'house_age'] = 'new_house'\n",
    "data.loc[data['date'] < '2014-01-01', 'house_age'] = 'old_house'\n",
    "\n",
    "#De acordo com essas especificações não há casas classificadas como old"
   ]
  },
  {
   "cell_type": "markdown",
   "metadata": {},
   "source": [
    "## 4.2 Crie uma nova coluna chamada: “dormitory_type”\n",
    "####      Se o valor da coluna “bedrooms” for menor ou igual a 1 => ‘studio’\n",
    "####      Se o valor da coluna “bedrooms” for igual a 2 => ‘apartament’\n",
    "####      Se o valor da coluna “bedrooms” for maior que 2 => ‘house’"
   ]
  },
  {
   "cell_type": "code",
   "execution_count": null,
   "metadata": {},
   "outputs": [],
   "source": [
    "data['dormitory_type'] = 'string'\n",
    "data.loc[data['bedrooms'] <= 1, 'dormitory_type'] = 'studio'\n",
    "data.loc[data['bedrooms'] == 2, 'dormitory_type'] = 'apartment'\n",
    "data.loc[data['bedrooms'] > 2, 'dormitory_type'] = 'house'"
   ]
  },
  {
   "cell_type": "markdown",
   "metadata": {},
   "source": [
    "## 4.3 Crie uma nova coluna chamada: “condition_type”\n",
    "####  Se o valor da coluna “condition” for menor ou igual à 2 => ‘bad’\n",
    "####  Se o valor da coluna “condition” for igual à 3 ou 4 => ‘regular’\n",
    "####  Se o valor da coluna “condition” for igual à 5 => ‘good’"
   ]
  },
  {
   "cell_type": "code",
   "execution_count": null,
   "metadata": {},
   "outputs": [],
   "source": [
    "data['condition_type'] = 'string'\n",
    "data.loc[data['condition'] <= 2, 'condition_type'] = 'bad'\n",
    "data.loc[(data['condition'] == 3) | (data['condition'] == 4), 'condition_type'] = 'regular'\n",
    "data.loc[data['condition'] >= 5, 'condition_type'] = 'good'\n",
    "\n",
    "data\n",
    "\n",
    "#Referência: https://www.ti-enxame.com/pt/python/usando-condicional-para-gerar-nova-coluna-no-dataframe-do-pandas/1050698416/"
   ]
  },
  {
   "cell_type": "markdown",
   "metadata": {},
   "source": [
    "## 4.4 Modifique o TIPO da coluna “condition” para STRING\n"
   ]
  },
  {
   "cell_type": "code",
   "execution_count": null,
   "metadata": {},
   "outputs": [],
   "source": [
    "data['condition'] = data['condition'].astype(str)\n",
    "data.dtypes"
   ]
  },
  {
   "cell_type": "markdown",
   "metadata": {},
   "source": [
    "## 4.5 Delete as colunas: “sqft_living15” e “sqft_lot15”\n"
   ]
  },
  {
   "cell_type": "code",
   "execution_count": null,
   "metadata": {},
   "outputs": [],
   "source": [
    "print( data.columns )\n",
    "data = data.drop('sqft_living15', axis=1)\n",
    "print( data.columns )\n",
    "data = data.drop('sqft_lot15', axis=1)\n",
    "print( data.columns.to_list())"
   ]
  },
  {
   "cell_type": "markdown",
   "metadata": {},
   "source": [
    "## 4.6 Modifique o TIPO da coluna “yr_built” para DATE (deu ruim)\n"
   ]
  },
  {
   "cell_type": "code",
   "execution_count": null,
   "metadata": {},
   "outputs": [],
   "source": [
    "data['yr_built'] = pd.to_datetime( data['yr_built'] )\n",
    "data.dtypes"
   ]
  },
  {
   "cell_type": "markdown",
   "metadata": {},
   "source": [
    "## 4.7 Modifique o TIPO a Coluna “yr_renovated” para DATE (deu ruim)\n"
   ]
  },
  {
   "cell_type": "code",
   "execution_count": null,
   "metadata": {},
   "outputs": [],
   "source": [
    "data['yr_renovated'] = pd.to_datetime( data['yr_renovated'] )\n",
    "data.dtypes"
   ]
  },
  {
   "cell_type": "code",
   "execution_count": null,
   "metadata": {},
   "outputs": [],
   "source": [
    "data['yr_built'] = pd.to_datetime( data['yr_built'], format='%Y%m%d' )\n",
    "data.dtypes"
   ]
  },
  {
   "cell_type": "markdown",
   "metadata": {},
   "source": [
    "## 4.8 Qual a data mais antiga de construção de um imóvel?\n",
    "\n",
    "#### R:  2014-05-02\n"
   ]
  },
  {
   "cell_type": "code",
   "execution_count": null,
   "metadata": {},
   "outputs": [],
   "source": [
    "data.sort_values('date', ascending=True)"
   ]
  },
  {
   "cell_type": "markdown",
   "metadata": {},
   "source": [
    "## 4.8 Qual a data mais antiga de renovação de um imóvel?\n",
    "\n",
    "#### R:  2014-05-02\n"
   ]
  },
  {
   "cell_type": "code",
   "execution_count": 43,
   "metadata": {},
   "outputs": [
    {
     "data": {
      "text/html": [
       "<div>\n",
       "<style scoped>\n",
       "    .dataframe tbody tr th:only-of-type {\n",
       "        vertical-align: middle;\n",
       "    }\n",
       "\n",
       "    .dataframe tbody tr th {\n",
       "        vertical-align: top;\n",
       "    }\n",
       "\n",
       "    .dataframe thead th {\n",
       "        text-align: right;\n",
       "    }\n",
       "</style>\n",
       "<table border=\"1\" class=\"dataframe\">\n",
       "  <thead>\n",
       "    <tr style=\"text-align: right;\">\n",
       "      <th></th>\n",
       "      <th>id</th>\n",
       "      <th>date</th>\n",
       "      <th>price</th>\n",
       "      <th>bedrooms</th>\n",
       "      <th>bathrooms</th>\n",
       "      <th>sqft_living</th>\n",
       "      <th>sqft_lot</th>\n",
       "      <th>floors</th>\n",
       "      <th>waterfront</th>\n",
       "      <th>view</th>\n",
       "      <th>...</th>\n",
       "      <th>yr_built</th>\n",
       "      <th>yr_renovated</th>\n",
       "      <th>zipcode</th>\n",
       "      <th>lat</th>\n",
       "      <th>long</th>\n",
       "      <th>data_string</th>\n",
       "      <th>level</th>\n",
       "      <th>house_age</th>\n",
       "      <th>dormitory_type</th>\n",
       "      <th>condition_type</th>\n",
       "    </tr>\n",
       "  </thead>\n",
       "  <tbody>\n",
       "    <tr>\n",
       "      <th>13736</th>\n",
       "      <td>4475800065</td>\n",
       "      <td>2014-06-13</td>\n",
       "      <td>459950.0</td>\n",
       "      <td>3</td>\n",
       "      <td>1.75</td>\n",
       "      <td>1850</td>\n",
       "      <td>6869</td>\n",
       "      <td>1.0</td>\n",
       "      <td>0</td>\n",
       "      <td>2</td>\n",
       "      <td>...</td>\n",
       "      <td>1970-01-01 00:00:00.000001919</td>\n",
       "      <td>1970-01-01 00:00:00.000001934</td>\n",
       "      <td>98166</td>\n",
       "      <td>47.4648</td>\n",
       "      <td>-122.363</td>\n",
       "      <td>2021-10-06</td>\n",
       "      <td>low_standard</td>\n",
       "      <td>new_house</td>\n",
       "      <td>house</td>\n",
       "      <td>good</td>\n",
       "    </tr>\n",
       "    <tr>\n",
       "      <th>7157</th>\n",
       "      <td>2754700170</td>\n",
       "      <td>2014-08-04</td>\n",
       "      <td>443500.0</td>\n",
       "      <td>2</td>\n",
       "      <td>1.00</td>\n",
       "      <td>1330</td>\n",
       "      <td>4140</td>\n",
       "      <td>1.0</td>\n",
       "      <td>0</td>\n",
       "      <td>0</td>\n",
       "      <td>...</td>\n",
       "      <td>1970-01-01 00:00:00.000001919</td>\n",
       "      <td>1970-01-01 00:00:00.000001940</td>\n",
       "      <td>98115</td>\n",
       "      <td>47.6802</td>\n",
       "      <td>-122.306</td>\n",
       "      <td>2021-10-06</td>\n",
       "      <td>low_standard</td>\n",
       "      <td>new_house</td>\n",
       "      <td>apartment</td>\n",
       "      <td>regular</td>\n",
       "    </tr>\n",
       "    <tr>\n",
       "      <th>6461</th>\n",
       "      <td>148000440</td>\n",
       "      <td>2014-08-18</td>\n",
       "      <td>313300.0</td>\n",
       "      <td>2</td>\n",
       "      <td>1.00</td>\n",
       "      <td>970</td>\n",
       "      <td>4800</td>\n",
       "      <td>1.0</td>\n",
       "      <td>0</td>\n",
       "      <td>0</td>\n",
       "      <td>...</td>\n",
       "      <td>1970-01-01 00:00:00.000001911</td>\n",
       "      <td>1970-01-01 00:00:00.000001940</td>\n",
       "      <td>98116</td>\n",
       "      <td>47.5754</td>\n",
       "      <td>-122.414</td>\n",
       "      <td>2021-10-06</td>\n",
       "      <td>low_standard</td>\n",
       "      <td>new_house</td>\n",
       "      <td>apartment</td>\n",
       "      <td>regular</td>\n",
       "    </tr>\n",
       "    <tr>\n",
       "      <th>14860</th>\n",
       "      <td>7625701830</td>\n",
       "      <td>2014-10-23</td>\n",
       "      <td>521000.0</td>\n",
       "      <td>3</td>\n",
       "      <td>2.00</td>\n",
       "      <td>1840</td>\n",
       "      <td>6000</td>\n",
       "      <td>1.0</td>\n",
       "      <td>0</td>\n",
       "      <td>0</td>\n",
       "      <td>...</td>\n",
       "      <td>1970-01-01 00:00:00.000001908</td>\n",
       "      <td>1970-01-01 00:00:00.000001944</td>\n",
       "      <td>98136</td>\n",
       "      <td>47.5508</td>\n",
       "      <td>-122.392</td>\n",
       "      <td>2021-10-06</td>\n",
       "      <td>low_standard</td>\n",
       "      <td>new_house</td>\n",
       "      <td>house</td>\n",
       "      <td>regular</td>\n",
       "    </tr>\n",
       "    <tr>\n",
       "      <th>1788</th>\n",
       "      <td>7211400990</td>\n",
       "      <td>2015-03-03</td>\n",
       "      <td>256000.0</td>\n",
       "      <td>2</td>\n",
       "      <td>1.00</td>\n",
       "      <td>860</td>\n",
       "      <td>5000</td>\n",
       "      <td>1.0</td>\n",
       "      <td>0</td>\n",
       "      <td>0</td>\n",
       "      <td>...</td>\n",
       "      <td>1970-01-01 00:00:00.000001915</td>\n",
       "      <td>1970-01-01 00:00:00.000001945</td>\n",
       "      <td>98146</td>\n",
       "      <td>47.5133</td>\n",
       "      <td>-122.356</td>\n",
       "      <td>2021-10-06</td>\n",
       "      <td>low_standard</td>\n",
       "      <td>new_house</td>\n",
       "      <td>apartment</td>\n",
       "      <td>regular</td>\n",
       "    </tr>\n",
       "  </tbody>\n",
       "</table>\n",
       "<p>5 rows × 24 columns</p>\n",
       "</div>"
      ],
      "text/plain": [
       "               id       date     price  bedrooms  bathrooms  sqft_living  \\\n",
       "13736  4475800065 2014-06-13  459950.0         3       1.75         1850   \n",
       "7157   2754700170 2014-08-04  443500.0         2       1.00         1330   \n",
       "6461    148000440 2014-08-18  313300.0         2       1.00          970   \n",
       "14860  7625701830 2014-10-23  521000.0         3       2.00         1840   \n",
       "1788   7211400990 2015-03-03  256000.0         2       1.00          860   \n",
       "\n",
       "       sqft_lot  floors  waterfront  view  ...                      yr_built  \\\n",
       "13736      6869     1.0           0     2  ... 1970-01-01 00:00:00.000001919   \n",
       "7157       4140     1.0           0     0  ... 1970-01-01 00:00:00.000001919   \n",
       "6461       4800     1.0           0     0  ... 1970-01-01 00:00:00.000001911   \n",
       "14860      6000     1.0           0     0  ... 1970-01-01 00:00:00.000001908   \n",
       "1788       5000     1.0           0     0  ... 1970-01-01 00:00:00.000001915   \n",
       "\n",
       "                       yr_renovated  zipcode      lat     long data_string  \\\n",
       "13736 1970-01-01 00:00:00.000001934    98166  47.4648 -122.363  2021-10-06   \n",
       "7157  1970-01-01 00:00:00.000001940    98115  47.6802 -122.306  2021-10-06   \n",
       "6461  1970-01-01 00:00:00.000001940    98116  47.5754 -122.414  2021-10-06   \n",
       "14860 1970-01-01 00:00:00.000001944    98136  47.5508 -122.392  2021-10-06   \n",
       "1788  1970-01-01 00:00:00.000001945    98146  47.5133 -122.356  2021-10-06   \n",
       "\n",
       "              level  house_age  dormitory_type condition_type  \n",
       "13736  low_standard  new_house           house           good  \n",
       "7157   low_standard  new_house       apartment        regular  \n",
       "6461   low_standard  new_house       apartment        regular  \n",
       "14860  low_standard  new_house           house        regular  \n",
       "1788   low_standard  new_house       apartment        regular  \n",
       "\n",
       "[5 rows x 24 columns]"
      ]
     },
     "execution_count": 43,
     "metadata": {},
     "output_type": "execute_result"
    }
   ],
   "source": [
    "data.loc[data['yr_renovated'] != '1970-01-01'].sort_values('yr_renovated', ascending=True).head()"
   ]
  },
  {
   "cell_type": "code",
   "execution_count": 41,
   "metadata": {},
   "outputs": [
    {
     "data": {
      "text/plain": [
       "id                         int64\n",
       "date              datetime64[ns]\n",
       "price                    float64\n",
       "bedrooms                   int64\n",
       "bathrooms                float64\n",
       "sqft_living                int64\n",
       "sqft_lot                   int64\n",
       "floors                   float64\n",
       "waterfront                 int64\n",
       "view                       int64\n",
       "condition                 object\n",
       "grade                      int64\n",
       "sqft_above               float64\n",
       "sqft_basement              int64\n",
       "yr_built          datetime64[ns]\n",
       "yr_renovated      datetime64[ns]\n",
       "zipcode                    int64\n",
       "lat                      float64\n",
       "long                     float64\n",
       "data_string               object\n",
       "level                     object\n",
       "house_age                 object\n",
       "dormitory_type            object\n",
       "condition_type            object\n",
       "dtype: object"
      ]
     },
     "execution_count": 41,
     "metadata": {},
     "output_type": "execute_result"
    }
   ],
   "source": [
    "data.dtypes"
   ]
  },
  {
   "cell_type": "markdown",
   "metadata": {},
   "source": [
    "# Links Úteis"
   ]
  },
  {
   "cell_type": "markdown",
   "metadata": {},
   "source": [
    "### Documentação do pandas\n",
    "https://pandas.pydata.org/docs/reference/api/pandas.DataFrame.shape.html"
   ]
  }
 ],
 "metadata": {
  "interpreter": {
   "hash": "0e9f00be373a6d21a5020add650cfc8874fe4a40147bac3122748273e58f4825"
  },
  "kernelspec": {
   "display_name": "Python 3.8.5 64-bit",
   "name": "python3"
  },
  "language_info": {
   "codemirror_mode": {
    "name": "ipython",
    "version": 3
   },
   "file_extension": ".py",
   "mimetype": "text/x-python",
   "name": "python",
   "nbconvert_exporter": "python",
   "pygments_lexer": "ipython3",
   "version": "3.10.2"
  }
 },
 "nbformat": 4,
 "nbformat_minor": 4
}
