{
 "cells": [
  {
   "cell_type": "markdown",
   "metadata": {},
   "source": [
    "# 0. Carregando bibliotecas e dados"
   ]
  },
  {
   "cell_type": "code",
   "execution_count": null,
   "metadata": {},
   "outputs": [],
   "source": [
    "import pandas as pd\n",
    "import numpy as np\n",
    "import plotly.express as px\n",
    "import matplotlib.pyplot as plt"
   ]
  },
  {
   "cell_type": "code",
   "execution_count": null,
   "metadata": {},
   "outputs": [],
   "source": [
    "data = pd.read_csv('datasets/kc_house_data.csv')"
   ]
  },
  {
   "cell_type": "markdown",
   "metadata": {},
   "source": [
    "# 2. Exercícios"
   ]
  },
  {
   "cell_type": "markdown",
   "metadata": {},
   "source": [
    "## 2.1 Crie uma nova coluna chamada: “house_age”\n",
    "#### - Se o valor da coluna “date” for maior que 2014-01-01 => ‘new_house’\n",
    "#### - Se o valor da coluna “date” for menor que 2014-01-01 => ‘old_house’"
   ]
  },
  {
   "cell_type": "code",
   "execution_count": null,
   "metadata": {},
   "outputs": [],
   "source": [
    "data['house_age'] = 'string'\n",
    "data.loc[data['date'] >= '2014-01-01', 'house_age'] = 'new_house'\n",
    "data.loc[data['date'] < '2014-01-01', 'house_age'] = 'old_house'\n",
    "\n",
    "#De acordo com essas especificações não há casas classificadas como old"
   ]
  },
  {
   "cell_type": "markdown",
   "metadata": {},
   "source": [
    "## 4.2 Crie uma nova coluna chamada: “dormitory_type”\n",
    "####      Se o valor da coluna “bedrooms” for menor ou igual a 1 => ‘studio’\n",
    "####      Se o valor da coluna “bedrooms” for igual a 2 => ‘apartament’\n",
    "####      Se o valor da coluna “bedrooms” for maior que 2 => ‘house’"
   ]
  },
  {
   "cell_type": "code",
   "execution_count": null,
   "metadata": {},
   "outputs": [],
   "source": [
    "data['dormitory_type'] = 'string'\n",
    "data.loc[data['bedrooms'] <= 1, 'dormitory_type'] = 'studio'\n",
    "data.loc[data['bedrooms'] == 2, 'dormitory_type'] = 'apartment'\n",
    "data.loc[data['bedrooms'] > 2, 'dormitory_type'] = 'house'"
   ]
  },
  {
   "cell_type": "markdown",
   "metadata": {},
   "source": [
    "## 4.3 Crie uma nova coluna chamada: “condition_type”\n",
    "####  Se o valor da coluna “condition” for menor ou igual à 2 => ‘bad’\n",
    "####  Se o valor da coluna “condition” for igual à 3 ou 4 => ‘regular’\n",
    "####  Se o valor da coluna “condition” for igual à 5 => ‘good’"
   ]
  },
  {
   "cell_type": "code",
   "execution_count": null,
   "metadata": {},
   "outputs": [],
   "source": [
    "data['condition_type'] = 'string'\n",
    "data.loc[data['condition'] <= 2, 'condition_type'] = 'bad'\n",
    "data.loc[(data['condition'] == 3) | (data['condition'] == 4), 'condition_type'] = 'regular'\n",
    "data.loc[data['condition'] >= 5, 'condition_type'] = 'good'\n",
    "\n",
    "data\n",
    "\n",
    "#Referência: https://www.ti-enxame.com/pt/python/usando-condicional-para-gerar-nova-coluna-no-dataframe-do-pandas/1050698416/"
   ]
  },
  {
   "cell_type": "markdown",
   "metadata": {},
   "source": [
    "## 4.4 Modifique o TIPO da coluna “condition” para STRING\n"
   ]
  },
  {
   "cell_type": "code",
   "execution_count": null,
   "metadata": {},
   "outputs": [],
   "source": [
    "data['condition'] = data['condition'].astype(str)\n",
    "data.dtypes"
   ]
  },
  {
   "cell_type": "markdown",
   "metadata": {},
   "source": [
    "## 4.5 Delete as colunas: “sqft_living15” e “sqft_lot15”\n"
   ]
  },
  {
   "cell_type": "code",
   "execution_count": null,
   "metadata": {},
   "outputs": [],
   "source": [
    "print( data.columns )\n",
    "data = data.drop('sqft_living15', axis=1)\n",
    "print( data.columns )\n",
    "data = data.drop('sqft_lot15', axis=1)\n",
    "print( data.columns.to_list())"
   ]
  },
  {
   "cell_type": "markdown",
   "metadata": {},
   "source": [
    "## 4.6 Modifique o TIPO da coluna “yr_built” para DATE\n"
   ]
  },
  {
   "cell_type": "code",
   "execution_count": null,
   "metadata": {},
   "outputs": [],
   "source": [
    "data['yr_built'] = pd.to_datetime( data['yr_built'], format='%Y' )\n",
    "data.head()"
   ]
  },
  {
   "cell_type": "markdown",
   "metadata": {},
   "source": [
    "## 4.7 Modifique o TIPO a Coluna “yr_renovated” para DATE (deu ruim)\n"
   ]
  },
  {
   "cell_type": "code",
   "execution_count": 21,
   "metadata": {},
   "outputs": [],
   "source": [
    "data['yr_renovated'] = data['yr_renovated'].apply( lambda x: 1800 if x == 1500 else x) \n",
    "data['yr_renovated'] = pd.to_datetime( data['yr_renovated'], format='%Y' )\n",
    "data.dtypes()\n",
    "\n",
    "#https://datatofish.com/if-condition-in-pandas-dataframe/\n",
    "#https://www.analyticsvidhya.com/blog/2020/03/what-are-lambda-functions-in-python/"
   ]
  },
  {
   "cell_type": "markdown",
   "metadata": {},
   "source": [
    "## 4.8 Qual a data mais antiga de construção de um imóvel?\n",
    "\n",
    "#### R:  2014-05-02\n"
   ]
  },
  {
   "cell_type": "code",
   "execution_count": null,
   "metadata": {},
   "outputs": [],
   "source": [
    "data.sort_values('date', ascending=True)"
   ]
  },
  {
   "cell_type": "markdown",
   "metadata": {},
   "source": [
    "## 4.8 Qual a data mais antiga de renovação de um imóvel?\n",
    "\n",
    "#### R:  1934\n"
   ]
  },
  {
   "cell_type": "code",
   "execution_count": 33,
   "metadata": {},
   "outputs": [
    {
     "data": {
      "text/html": [
       "<div>\n",
       "<style scoped>\n",
       "    .dataframe tbody tr th:only-of-type {\n",
       "        vertical-align: middle;\n",
       "    }\n",
       "\n",
       "    .dataframe tbody tr th {\n",
       "        vertical-align: top;\n",
       "    }\n",
       "\n",
       "    .dataframe thead th {\n",
       "        text-align: right;\n",
       "    }\n",
       "</style>\n",
       "<table border=\"1\" class=\"dataframe\">\n",
       "  <thead>\n",
       "    <tr style=\"text-align: right;\">\n",
       "      <th></th>\n",
       "      <th>id</th>\n",
       "      <th>date</th>\n",
       "      <th>price</th>\n",
       "      <th>bedrooms</th>\n",
       "      <th>bathrooms</th>\n",
       "      <th>sqft_living</th>\n",
       "      <th>sqft_lot</th>\n",
       "      <th>floors</th>\n",
       "      <th>waterfront</th>\n",
       "      <th>view</th>\n",
       "      <th>...</th>\n",
       "      <th>sqft_above</th>\n",
       "      <th>sqft_basement</th>\n",
       "      <th>yr_built</th>\n",
       "      <th>yr_renovated</th>\n",
       "      <th>zipcode</th>\n",
       "      <th>lat</th>\n",
       "      <th>long</th>\n",
       "      <th>house_age</th>\n",
       "      <th>dormitory_type</th>\n",
       "      <th>condition_type</th>\n",
       "    </tr>\n",
       "  </thead>\n",
       "  <tbody>\n",
       "    <tr>\n",
       "      <th>13736</th>\n",
       "      <td>4475800065</td>\n",
       "      <td>20140613T000000</td>\n",
       "      <td>459950.0</td>\n",
       "      <td>3</td>\n",
       "      <td>1.75</td>\n",
       "      <td>1850</td>\n",
       "      <td>6869</td>\n",
       "      <td>1.0</td>\n",
       "      <td>0</td>\n",
       "      <td>2</td>\n",
       "      <td>...</td>\n",
       "      <td>1100.0</td>\n",
       "      <td>750</td>\n",
       "      <td>1919-01-01</td>\n",
       "      <td>1934-01-01</td>\n",
       "      <td>98166</td>\n",
       "      <td>47.4648</td>\n",
       "      <td>-122.363</td>\n",
       "      <td>new_house</td>\n",
       "      <td>house</td>\n",
       "      <td>good</td>\n",
       "    </tr>\n",
       "  </tbody>\n",
       "</table>\n",
       "<p>1 rows × 22 columns</p>\n",
       "</div>"
      ],
      "text/plain": [
       "               id             date     price  bedrooms  bathrooms  \\\n",
       "13736  4475800065  20140613T000000  459950.0         3       1.75   \n",
       "\n",
       "       sqft_living  sqft_lot  floors  waterfront  view  ... sqft_above  \\\n",
       "13736         1850      6869     1.0           0     2  ...     1100.0   \n",
       "\n",
       "       sqft_basement   yr_built  yr_renovated zipcode      lat     long  \\\n",
       "13736            750 1919-01-01    1934-01-01   98166  47.4648 -122.363   \n",
       "\n",
       "       house_age  dormitory_type condition_type  \n",
       "13736  new_house           house           good  \n",
       "\n",
       "[1 rows x 22 columns]"
      ]
     },
     "execution_count": 33,
     "metadata": {},
     "output_type": "execute_result"
    }
   ],
   "source": [
    "data.loc[data['yr_renovated'] != '1800-01-01'].sort_values('yr_renovated', ascending=True).head(1)"
   ]
  },
  {
   "cell_type": "code",
   "execution_count": null,
   "metadata": {},
   "outputs": [],
   "source": [
    "data.dtypes"
   ]
  },
  {
   "cell_type": "markdown",
   "metadata": {},
   "source": [
    "# Links Úteis"
   ]
  },
  {
   "cell_type": "markdown",
   "metadata": {},
   "source": [
    "### Documentação do pandas\n",
    "https://pandas.pydata.org/docs/reference/api/pandas.DataFrame.shape.html"
   ]
  }
 ],
 "metadata": {
  "interpreter": {
   "hash": "0e9f00be373a6d21a5020add650cfc8874fe4a40147bac3122748273e58f4825"
  },
  "kernelspec": {
   "display_name": "Python 3.8.5 64-bit",
   "name": "python3"
  },
  "language_info": {
   "codemirror_mode": {
    "name": "ipython",
    "version": 3
   },
   "file_extension": ".py",
   "mimetype": "text/x-python",
   "name": "python",
   "nbconvert_exporter": "python",
   "pygments_lexer": "ipython3",
   "version": "3.10.2"
  }
 },
 "nbformat": 4,
 "nbformat_minor": 4
}
