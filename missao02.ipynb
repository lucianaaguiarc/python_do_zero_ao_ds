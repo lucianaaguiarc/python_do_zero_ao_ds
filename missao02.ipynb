{
 "cells": [
  {
   "cell_type": "markdown",
   "source": [
    "# 0. Carregando bibliotecas e dados"
   ],
   "metadata": {}
  },
  {
   "cell_type": "code",
   "execution_count": null,
   "source": [
    "import pandas as pd\r\n",
    "import numpy as np"
   ],
   "outputs": [],
   "metadata": {}
  },
  {
   "cell_type": "code",
   "execution_count": null,
   "source": [
    "data = pd.read_csv('datasets/kc_house_data.csv')"
   ],
   "outputs": [],
   "metadata": {}
  },
  {
   "cell_type": "markdown",
   "source": [
    "# Exercícios"
   ],
   "metadata": {}
  },
  {
   "cell_type": "markdown",
   "source": [
    "## 1. Quantas casas estão disponíveis para compra?\n",
    "### R: 21 613 casas"
   ],
   "metadata": {}
  },
  {
   "cell_type": "code",
   "execution_count": null,
   "source": [
    "#Primeiro modo:\r\n",
    "#Estratégia:\r\n",
    "# Usar o método shape\r\n",
    "# A propriedade shape retorna respectivamente a quantidade de linhas e colunas do conjunto de dados\r\n",
    "#Sendo assim, o total de itens (casas) à venda corresponde ao total de linhas, 21 613.\r\n",
    "data.shape"
   ],
   "outputs": [],
   "metadata": {}
  },
  {
   "cell_type": "code",
   "execution_count": null,
   "source": [
    "# Segundo modo\r\n",
    "# Estratégia:\r\n",
    "# 1º) Selecionar apenas os IDs distintos\r\n",
    "# 2º Contar esses IDs\r\n",
    "total_casas = len (data['id'].unique()) \r\n",
    "total_casas\r\n"
   ],
   "outputs": [],
   "metadata": {}
  },
  {
   "cell_type": "markdown",
   "source": [
    "## 2.Quantos atributos as casas possuem?\n",
    "### R: 21 atributos totais (19 específicos das casas)"
   ],
   "metadata": {}
  },
  {
   "cell_type": "code",
   "execution_count": null,
   "source": [
    "# A propriedade shape retorna respectivamente a quantidade de linhas e colunas do conjunto de dados\r\n",
    "#Sendo assim, o total de atributos das casas corresponde a 21\r\n",
    "data.shape"
   ],
   "outputs": [],
   "metadata": {}
  },
  {
   "cell_type": "code",
   "execution_count": null,
   "source": [
    "# Considerando que ID e Data não são atributos das casas, então o total são de 19 atributos:\r\n",
    "len ( data.drop( ['id','date'] , axis = 1).columns )"
   ],
   "outputs": [],
   "metadata": {}
  },
  {
   "cell_type": "markdown",
   "source": [
    "## 3.Quais são os atributos das casas?\n",
    "### R: listado no resultado abaixo"
   ],
   "metadata": {}
  },
  {
   "cell_type": "code",
   "execution_count": null,
   "source": [
    "#Para converter a série do resultado em lista, pode-se usar o tolist\r\n",
    "# 21 atributos\r\n",
    "data.columns.tolist()"
   ],
   "outputs": [],
   "metadata": {
    "scrolled": true
   }
  },
  {
   "cell_type": "code",
   "execution_count": null,
   "source": [
    "# 19 atributos \n",
    "data.drop( ['id','date'] , axis = 1).columns.tolist() "
   ],
   "outputs": [],
   "metadata": {}
  },
  {
   "cell_type": "markdown",
   "source": [
    "## 4.Qual a casa mais cara ( casa com o maior valor de venda )?\n",
    "### R: A casa de ID 6762700020\tcom o custo de  7.700.000 "
   ],
   "metadata": {}
  },
  {
   "cell_type": "code",
   "execution_count": null,
   "source": [
    "#Mostra o conjunto de dados ordenado pela coluna price do maior para o menor\n",
    "print(data[['id','price']].sort_values('price', ascending = False ).head())\n",
    "\n",
    "\n",
    "#Para mostrar apenas o ID da casa mais cara\n",
    "#Estratégia:\n",
    "# 1) Selectionar apenas as colunas de ID e preço\n",
    "# 2) Ordenar de forma descendente\n",
    "# 3) Resetar o índice do data frame, para a nova ordem descendente\n",
    "    #para entender melhor o porquê do reset, execute:\n",
    "    #data[['id','price']].sort_values('price', ascending = False ).loc[0, 'id'] (lembre de ctirar a identação)\n",
    "    # O resultado desse código é a cada de ID 7129300520 que no dataframe original ocupa a linha 0  \n",
    "print(data[['id','price']].sort_values('price', ascending = False ).reset_index(drop = True).loc[0, 'id'])\n"
   ],
   "outputs": [],
   "metadata": {
    "scrolled": true
   }
  },
  {
   "cell_type": "markdown",
   "source": [
    "## 5.Qual a casa com o maior número de quartos?\n",
    "### R: A casa de ID 2402100895\tcom 33 quartos"
   ],
   "metadata": {}
  },
  {
   "cell_type": "code",
   "execution_count": null,
   "source": [
    "#Mostra o conjunto de dados ordenado pela coluna price do maior para o menor\n",
    "print( data[['id','bedrooms']].sort_values('bedrooms', ascending = False ))\n",
    "\n",
    "#Para mostrar apenas o ID da casa com mais quartos\n",
    "#Estratégia:\n",
    "# 1) Selectionar apenas as colunas de ID e quartos\n",
    "# 2) Ordenar de forma descendente\n",
    "# 3) Resetar o índice do data frame, para a nova ordem descendente\n",
    "print(data[['id','bedrooms']].sort_values('bedrooms', ascending = False ).reset_index(drop = True).loc[0, 'id'])\n"
   ],
   "outputs": [],
   "metadata": {}
  },
  {
   "cell_type": "markdown",
   "source": [
    "## 6.Qual a soma total de quartos do conjunto de dados?\n",
    "### R: Total de 72.854 quartos"
   ],
   "metadata": {}
  },
  {
   "cell_type": "code",
   "execution_count": null,
   "source": [
    "#Mfaz o somatório de todos os dados da coluna de quartos\n",
    "data[['bedrooms']].sum()"
   ],
   "outputs": [],
   "metadata": {}
  },
  {
   "cell_type": "markdown",
   "source": [
    "## 7.Quantas casas possuem 2 banheiros?\n",
    "### R: Total de 1930 casas"
   ],
   "metadata": {}
  },
  {
   "cell_type": "code",
   "execution_count": null,
   "source": [
    "# Primeiro modo\n",
    "\n",
    "# 1. cria uma variável para filtrar apenas as casas com dois banheiros\n",
    "data_mask = data['bathrooms'] == 2\n",
    "# 2 mostra o conjunto de dados filtrado de acordo com a variável\n",
    "df_filtrado = data[data_mask]\n",
    "print( df_filtrado[['id']].count() )                       "
   ],
   "outputs": [],
   "metadata": {
    "scrolled": true
   }
  },
  {
   "cell_type": "code",
   "execution_count": null,
   "source": [
    "#Segundo modo (mais simples)\n",
    "print((data[['bathrooms']] == 2).sum())"
   ],
   "outputs": [],
   "metadata": {}
  },
  {
   "cell_type": "code",
   "execution_count": null,
   "source": [
    "#Terceiro modo (com texto)\n",
    "casa_2banheiros = len ( data.loc[ data['bathrooms'] == 2, ['id','bathrooms']] )\n",
    "print ( 'O total de casas com dois banheiros é {}'.format( casa_2banheiros ) )"
   ],
   "outputs": [],
   "metadata": {}
  },
  {
   "cell_type": "markdown",
   "source": [
    "## 8.Qual o preço médio de todas as casas no conjunto de dados?\n",
    "### R: Em média 540.088,14"
   ],
   "metadata": {}
  },
  {
   "cell_type": "code",
   "execution_count": null,
   "source": [
    "# Calcula a média da coluna price\n",
    "\n",
    "media_preco = data[['price']].mean()\n",
    "np.round( media_preco, 2 )\n"
   ],
   "outputs": [],
   "metadata": {}
  },
  {
   "cell_type": "markdown",
   "source": [
    "\n",
    "## 9.Qual o preço médio de casas com 2 banheiros?\n",
    "### R: Em média  457.889,7"
   ],
   "metadata": {}
  },
  {
   "cell_type": "code",
   "execution_count": null,
   "source": [
    "# Primeiro modo (mostra média de todo dataset)\n",
    "#estratégia:\n",
    "# 1) cria uma variável para filtrar apenas as casas com dois banheiros\n",
    "data_mask = data['bathrooms'] == 2\n",
    "# 2) mostra a média do conjunto de dados filtrado de acordo com a variável\n",
    "df_filtrado = data[data_mask].mean()\n",
    "df_filtrado"
   ],
   "outputs": [],
   "metadata": {}
  },
  {
   "cell_type": "code",
   "execution_count": null,
   "source": [
    "#Segundo modo\n",
    "np.round( data.loc[ data[ 'bathrooms' ] == 2, 'price'].mean() ,2)"
   ],
   "outputs": [],
   "metadata": {}
  },
  {
   "cell_type": "markdown",
   "source": [
    "## 10.Qual o preço mínimo entre as casas com 3 quartos?\n",
    "### R: 82.000"
   ],
   "metadata": {}
  },
  {
   "cell_type": "code",
   "execution_count": null,
   "source": [
    "# Primeiro modo (mostra o valor mínimo de todo dataset)\n",
    "#estratégia:\n",
    "# 1) cria uma variável para filtrar apenas as casas com três quartos\n",
    "data_mask = data['bedrooms'] == 3\n",
    "# 2) mostra o mínimo valor do conjunto de dados filtrado de acordo com a variável \n",
    "df_filtrado = data[data_mask].min()\n",
    "df_filtrado"
   ],
   "outputs": [],
   "metadata": {}
  },
  {
   "cell_type": "code",
   "execution_count": null,
   "source": [
    "#Segundo modo\n",
    "data.loc[ data[ 'bedrooms' ] == 3, 'price' ].min()"
   ],
   "outputs": [],
   "metadata": {}
  },
  {
   "cell_type": "markdown",
   "source": [
    "## 11.Quantas casas possuem mais de 300 metros quadrados na sala de estar?\n",
    "### R: 2258"
   ],
   "metadata": {}
  },
  {
   "cell_type": "code",
   "execution_count": null,
   "source": [
    "#Estatégia\n",
    "# 1) Converter pés quadrados para metros quadrados, criando um novo atributo\n",
    "data['m2'] = data['sqft_living'] * 0.093\n",
    "# 2) Contar o tamanho do dataset com o filtro\n",
    "len( data.loc[ data['m2'] > 300 , 'id'] )"
   ],
   "outputs": [],
   "metadata": {}
  },
  {
   "cell_type": "markdown",
   "source": [
    "## EM RESOLUÇÃO. Não entendi pq tem que usar o sum\n",
    "\n",
    "## 12.Quantas casas tem mais de 2 andares?\n",
    "### R: 782 casas"
   ],
   "metadata": {}
  },
  {
   "cell_type": "code",
   "execution_count": null,
   "source": [
    "#Primeiro modo\n",
    "(data['floors'] > 2 ).sum()"
   ],
   "outputs": [],
   "metadata": {}
  },
  {
   "cell_type": "code",
   "execution_count": null,
   "source": [
    "#Segundo modo\n",
    "len( data.loc[ data['floors'] > 2, 'id'] )"
   ],
   "outputs": [],
   "metadata": {}
  },
  {
   "cell_type": "markdown",
   "source": [
    "## 13.Quantas casas tem vista para o mar?\n",
    "### R: Em média 163"
   ],
   "metadata": {}
  },
  {
   "cell_type": "code",
   "execution_count": null,
   "source": [
    "#Primeiro modo\n",
    "data['waterfront'].sum()\n",
    "#Por ser um atributo do tipo booleano, usei SUM"
   ],
   "outputs": [],
   "metadata": {}
  },
  {
   "cell_type": "code",
   "execution_count": null,
   "source": [
    "#Segundo modo\n",
    "len( data.loc[ data[ 'waterfront' ] == 1, 'id' ] )"
   ],
   "outputs": [],
   "metadata": {}
  },
  {
   "cell_type": "markdown",
   "source": [
    "## 14.Das casas com vista para o mar, quantas tem 3 quartos?\n",
    "### R: 64 casas"
   ],
   "metadata": {}
  },
  {
   "cell_type": "code",
   "execution_count": null,
   "source": [
    "# Primeiro modo\n",
    "data_mask = data[(data['waterfront'] == 1) & (data['bedrooms'] == 3)]\n",
    "data_mask['id'].count()"
   ],
   "outputs": [],
   "metadata": {}
  },
  {
   "cell_type": "code",
   "execution_count": null,
   "source": [
    "#Segundo modo\n",
    "len ( data.loc[ (data['waterfront'] == 1) & (data['bedrooms'] == 3), 'id' ] )"
   ],
   "outputs": [],
   "metadata": {}
  },
  {
   "cell_type": "markdown",
   "source": [
    "## 15. Das casas com mais de 300 metros quadrados de sala de estar, quantas tem mais de 2 banheiros?\n",
    "### R: 2012 casas"
   ],
   "metadata": {}
  },
  {
   "cell_type": "code",
   "execution_count": 61,
   "source": [
    "#Primeiro modo\n",
    "data_mask = data[ (data['m2'] > 300) & (data['bathrooms'] > 2)]\n",
    "data_mask['id'].count()"
   ],
   "outputs": [
    {
     "output_type": "execute_result",
     "data": {
      "text/plain": [
       "2201"
      ]
     },
     "metadata": {},
     "execution_count": 61
    }
   ],
   "metadata": {}
  },
  {
   "cell_type": "code",
   "execution_count": 62,
   "source": [
    "#Segundo modo\n",
    "len ( data.loc[ (data['m2'] > 300) & (data['bathrooms'] > 2), 'id' ] )"
   ],
   "outputs": [
    {
     "output_type": "execute_result",
     "data": {
      "text/plain": [
       "2201"
      ]
     },
     "metadata": {},
     "execution_count": 62
    }
   ],
   "metadata": {}
  },
  {
   "cell_type": "markdown",
   "source": [
    "# Links Úteis"
   ],
   "metadata": {}
  },
  {
   "cell_type": "markdown",
   "source": [
    "### Documentação do pandas\n",
    "https://pandas.pydata.org/docs/reference/api/pandas.DataFrame.shape.html"
   ],
   "metadata": {}
  }
 ],
 "metadata": {
  "kernelspec": {
   "name": "python3",
   "display_name": "Python 3.8.5 32-bit"
  },
  "language_info": {
   "codemirror_mode": {
    "name": "ipython",
    "version": 3
   },
   "file_extension": ".py",
   "mimetype": "text/x-python",
   "name": "python",
   "nbconvert_exporter": "python",
   "pygments_lexer": "ipython3",
   "version": "3.8.5"
  },
  "interpreter": {
   "hash": "a0cc78464c44fe9135e47ca67ef9fb2d5ea4e3336bb1f316f773ccb2d3222275"
  }
 },
 "nbformat": 4,
 "nbformat_minor": 4
}