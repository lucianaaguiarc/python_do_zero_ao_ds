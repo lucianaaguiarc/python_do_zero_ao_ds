{
 "cells": [
  {
   "cell_type": "markdown",
   "source": [
    "# 0. Carregando bibliotecas e dados"
   ],
   "metadata": {}
  },
  {
   "cell_type": "code",
   "execution_count": 2,
   "source": [
    "import pandas as pd\r\n",
    "import numpy as np"
   ],
   "outputs": [],
   "metadata": {}
  },
  {
   "cell_type": "code",
   "execution_count": 3,
   "source": [
    "data = pd.read_csv('datasets/kc_house_data.csv')"
   ],
   "outputs": [],
   "metadata": {}
  },
  {
   "cell_type": "markdown",
   "source": [
    "# 1. Analisando os tipos de dados do conjunto"
   ],
   "metadata": {}
  },
  {
   "cell_type": "markdown",
   "source": [
    "## 1.1 Mostra na tela os tipos de variáveis do conjunto"
   ],
   "metadata": {}
  },
  {
   "cell_type": "code",
   "execution_count": 11,
   "source": [
    " data.dtypes"
   ],
   "outputs": [
    {
     "output_type": "execute_result",
     "data": {
      "text/plain": [
       "id                 int64\n",
       "date              object\n",
       "price            float64\n",
       "bedrooms           int64\n",
       "bathrooms        float64\n",
       "sqft_living        int64\n",
       "sqft_lot           int64\n",
       "floors           float64\n",
       "waterfront         int64\n",
       "view               int64\n",
       "condition          int64\n",
       "grade              int64\n",
       "sqft_above       float64\n",
       "sqft_basement      int64\n",
       "yr_built           int64\n",
       "yr_renovated       int64\n",
       "zipcode            int64\n",
       "lat              float64\n",
       "long             float64\n",
       "sqft_living15      int64\n",
       "sqft_lot15         int64\n",
       "dtype: object"
      ]
     },
     "metadata": {},
     "execution_count": 11
    }
   ],
   "metadata": {}
  },
  {
   "cell_type": "markdown",
   "source": [
    "## 1.2 Converção de variáveis\r\n"
   ],
   "metadata": {}
  },
  {
   "cell_type": "markdown",
   "source": [
    "### O pandas lê data e não classifica como tipo \"date\" e sim \"object\", isso pode influenciar em manipulações futuras com o atributo date."
   ],
   "metadata": {}
  },
  {
   "cell_type": "code",
   "execution_count": 18,
   "source": [
    "# Antes da conversão\r\n",
    "data['date']"
   ],
   "outputs": [
    {
     "output_type": "execute_result",
     "data": {
      "text/plain": [
       "0       2014-10-13\n",
       "1       2014-12-09\n",
       "2       2015-02-25\n",
       "3       2014-12-09\n",
       "4       2015-02-18\n",
       "           ...    \n",
       "21608   2014-05-21\n",
       "21609   2015-02-23\n",
       "21610   2014-06-23\n",
       "21611   2015-01-16\n",
       "21612   2014-10-15\n",
       "Name: date, Length: 21613, dtype: datetime64[ns]"
      ]
     },
     "metadata": {},
     "execution_count": 18
    }
   ],
   "metadata": {}
  },
  {
   "cell_type": "code",
   "execution_count": 17,
   "source": [
    "#Converter o tipo de dado da coluna \"date\" para o tipo data\r\n",
    "data['date'] = pd.to_datetime( data['date'] )\r\n",
    "data['date']"
   ],
   "outputs": [
    {
     "output_type": "execute_result",
     "data": {
      "text/plain": [
       "0       2014-10-13\n",
       "1       2014-12-09\n",
       "2       2015-02-25\n",
       "3       2014-12-09\n",
       "4       2015-02-18\n",
       "           ...    \n",
       "21608   2014-05-21\n",
       "21609   2015-02-23\n",
       "21610   2014-06-23\n",
       "21611   2015-01-16\n",
       "21612   2014-10-15\n",
       "Name: date, Length: 21613, dtype: datetime64[ns]"
      ]
     },
     "metadata": {},
     "execution_count": 17
    }
   ],
   "metadata": {}
  },
  {
   "cell_type": "markdown",
   "source": [
    "### Converter outros tipos de dados"
   ],
   "metadata": {}
  },
  {
   "cell_type": "code",
   "execution_count": 22,
   "source": [
    "# Converter outros tipos de dados\r\n",
    "#Inteiro -> Float\r\n",
    "data['bedrooms'] = data['bedrooms'].astype( float )\r\n",
    "print( data[['id', 'bedrooms']].head() )\r\n",
    "print( data[['bedrooms']].dtypes )"
   ],
   "outputs": [
    {
     "output_type": "stream",
     "name": "stdout",
     "text": [
      "           id  bedrooms\n",
      "0  7129300520       3.0\n",
      "1  6414100192       3.0\n",
      "2  5631500400       2.0\n",
      "3  2487200875       4.0\n",
      "4  1954400510       3.0\n",
      "bedrooms    float64\n",
      "dtype: object\n"
     ]
    }
   ],
   "metadata": {}
  },
  {
   "cell_type": "code",
   "execution_count": 21,
   "source": [
    "#Float -> Inteiro\r\n",
    "data['bedrooms'] = data['bedrooms'].astype( int )\r\n",
    "print( data[['id', 'bedrooms']].head() )\r\n",
    "print( data[['bedrooms']].dtypes )"
   ],
   "outputs": [
    {
     "output_type": "stream",
     "name": "stdout",
     "text": [
      "           id  bedrooms\n",
      "0  7129300520         3\n",
      "1  6414100192         3\n",
      "2  5631500400         2\n",
      "3  2487200875         4\n",
      "4  1954400510         3\n",
      "bedrooms    int32\n",
      "dtype: object\n"
     ]
    }
   ],
   "metadata": {}
  },
  {
   "cell_type": "code",
   "execution_count": 20,
   "source": [
    "#No caso acima a conversão ficou int32, daí temos que deixar em int64, porque os outros ints estão como 64 e não dá ceto comprar um int32 com um int64\r\n",
    "#A função que converte para int64 vem da biblioteca numpy\r\n",
    "##Int32 -> Int64\r\n",
    "data['bedrooms'] = data['bedrooms'].astype( np.int64 )\r\n",
    "print( data[['id', 'bedrooms']].head() )\r\n",
    "print( data[['bedrooms']].dtypes )"
   ],
   "outputs": [
    {
     "output_type": "stream",
     "name": "stdout",
     "text": [
      "           id  bedrooms\n",
      "0  7129300520         3\n",
      "1  6414100192         3\n",
      "2  5631500400         2\n",
      "3  2487200875         4\n",
      "4  1954400510         3\n",
      "bedrooms    int64\n",
      "dtype: object\n"
     ]
    }
   ],
   "metadata": {}
  },
  {
   "cell_type": "code",
   "execution_count": 19,
   "source": [
    "#Inteiro -> String\r\n",
    "data['bedrooms'] = data['bedrooms'].astype( str )\r\n",
    "print( data[['id', 'bedrooms']].head() )\r\n",
    "print( data[['bedrooms']].dtypes )"
   ],
   "outputs": [
    {
     "output_type": "stream",
     "name": "stdout",
     "text": [
      "           id bedrooms\n",
      "0  7129300520        3\n",
      "1  6414100192        3\n",
      "2  5631500400        2\n",
      "3  2487200875        4\n",
      "4  1954400510        3\n",
      "id                 int64\n",
      "date              object\n",
      "price            float64\n",
      "bedrooms          object\n",
      "bathrooms        float64\n",
      "sqft_living        int64\n",
      "sqft_lot           int64\n",
      "floors           float64\n",
      "waterfront         int64\n",
      "view               int64\n",
      "condition          int64\n",
      "grade              int64\n",
      "sqft_above       float64\n",
      "sqft_basement      int64\n",
      "yr_built           int64\n",
      "yr_renovated       int64\n",
      "zipcode            int64\n",
      "lat              float64\n",
      "long             float64\n",
      "sqft_living15      int64\n",
      "sqft_lot15         int64\n",
      "dtype: object\n"
     ]
    }
   ],
   "metadata": {}
  },
  {
   "cell_type": "code",
   "execution_count": 4,
   "source": [
    "#String -> Inteiro\r\n",
    "data['bedrooms'] = data['bedrooms'].astype( np.int64 )\r\n",
    "print( data[['id', 'bedrooms']].head() )\r\n",
    "print( data[['bedrooms']].dtypes )"
   ],
   "outputs": [
    {
     "output_type": "stream",
     "name": "stdout",
     "text": [
      "           id  bedrooms\n",
      "0  7129300520         3\n",
      "1  6414100192         3\n",
      "2  5631500400         2\n",
      "3  2487200875         4\n",
      "4  1954400510         3\n",
      "bedrooms    int64\n",
      "dtype: object\n"
     ]
    }
   ],
   "metadata": {}
  },
  {
   "cell_type": "code",
   "execution_count": 5,
   "source": [
    "#Inteiro -> Data\r\n",
    "data['date'] = pd.to_datetime( data['date'] )\r\n",
    "print( data[['id', 'date']].head() )\r\n",
    "print( data[['date']].dtypes )"
   ],
   "outputs": [
    {
     "output_type": "stream",
     "name": "stdout",
     "text": [
      "           id       date\n",
      "0  7129300520 2014-10-13\n",
      "1  6414100192 2014-12-09\n",
      "2  5631500400 2015-02-25\n",
      "3  2487200875 2014-12-09\n",
      "4  1954400510 2015-02-18\n",
      "date    datetime64[ns]\n",
      "dtype: object\n"
     ]
    }
   ],
   "metadata": {}
  },
  {
   "cell_type": "markdown",
   "source": [
    "# 2. Manipulando os dados"
   ],
   "metadata": {}
  },
  {
   "cell_type": "markdown",
   "source": [
    "## 2.1 Criar variáveis"
   ],
   "metadata": {}
  },
  {
   "cell_type": "code",
   "execution_count": 12,
   "source": [
    "#Cria uma nova coluna e popula com uma string\r\n",
    "data['nome_luci'] = \"Luciana\"\r\n",
    "print( data.columns )\r\n",
    "\r\n",
    "#Cria novas colunas com novos tipos de dados \r\n",
    "data['idade'] = 11\r\n",
    "data['data_string'] = '2021-10-06'\r\n",
    "data['data_date'] = pd.to_datetime( '2021-10-06' )\r\n",
    "#Mostra na tela as colunas criadas e o tipo de dados do conjunto\r\n",
    "print( data[[ 'id',  'idade', 'data_string', 'data_date']] )\r\n",
    "print( data.dtypes )"
   ],
   "outputs": [
    {
     "output_type": "stream",
     "name": "stdout",
     "text": [
      "Index(['id', 'date', 'price', 'bedrooms', 'bathrooms', 'sqft_living',\n",
      "       'sqft_lot', 'floors', 'waterfront', 'view', 'condition', 'grade',\n",
      "       'sqft_above', 'sqft_basement', 'yr_built', 'yr_renovated', 'zipcode',\n",
      "       'lat', 'long', 'sqft_living15', 'sqft_lot15', 'data_string',\n",
      "       'nome_luci'],\n",
      "      dtype='object')\n",
      "               id  idade data_string  data_date\n",
      "0      7129300520     11  2021-10-06 2021-10-06\n",
      "1      6414100192     11  2021-10-06 2021-10-06\n",
      "2      5631500400     11  2021-10-06 2021-10-06\n",
      "3      2487200875     11  2021-10-06 2021-10-06\n",
      "4      1954400510     11  2021-10-06 2021-10-06\n",
      "...           ...    ...         ...        ...\n",
      "21608   263000018     11  2021-10-06 2021-10-06\n",
      "21609  6600060120     11  2021-10-06 2021-10-06\n",
      "21610  1523300141     11  2021-10-06 2021-10-06\n",
      "21611   291310100     11  2021-10-06 2021-10-06\n",
      "21612  1523300157     11  2021-10-06 2021-10-06\n",
      "\n",
      "[21613 rows x 4 columns]\n",
      "id                        int64\n",
      "date             datetime64[ns]\n",
      "price                   float64\n",
      "bedrooms                  int64\n",
      "bathrooms               float64\n",
      "sqft_living               int64\n",
      "sqft_lot                  int64\n",
      "floors                  float64\n",
      "waterfront                int64\n",
      "view                      int64\n",
      "condition                 int64\n",
      "grade                     int64\n",
      "sqft_above              float64\n",
      "sqft_basement             int64\n",
      "yr_built                  int64\n",
      "yr_renovated              int64\n",
      "zipcode                   int64\n",
      "lat                     float64\n",
      "long                    float64\n",
      "sqft_living15             int64\n",
      "sqft_lot15                int64\n",
      "data_string              object\n",
      "nome_luci                object\n",
      "idade                     int64\n",
      "data_date        datetime64[ns]\n",
      "dtype: object\n"
     ]
    }
   ],
   "metadata": {}
  },
  {
   "cell_type": "markdown",
   "source": [
    "## 2.2 Deletar uma coluna"
   ],
   "metadata": {}
  },
  {
   "cell_type": "code",
   "execution_count": 9,
   "source": [
    "# Mostra o dataset antes do drop\r\n",
    "print ( data.columns )\r\n",
    "#Retira a coluna \"nome_luci\"\r\n",
    "data = data.drop ( 'nome_luci', axis=1 )\r\n",
    "#Mostra o dataset sem a coluna\r\n",
    "print ( data.columns )"
   ],
   "outputs": [
    {
     "output_type": "stream",
     "name": "stdout",
     "text": [
      "Index(['id', 'date', 'price', 'bedrooms', 'bathrooms', 'sqft_living',\n",
      "       'sqft_lot', 'floors', 'waterfront', 'view', 'condition', 'grade',\n",
      "       'sqft_above', 'sqft_basement', 'yr_built', 'yr_renovated', 'zipcode',\n",
      "       'lat', 'long', 'sqft_living15', 'sqft_lot15', 'nome_luci', 'idade',\n",
      "       'data_string', 'data_date'],\n",
      "      dtype='object')\n",
      "Index(['id', 'date', 'price', 'bedrooms', 'bathrooms', 'sqft_living',\n",
      "       'sqft_lot', 'floors', 'waterfront', 'view', 'condition', 'grade',\n",
      "       'sqft_above', 'sqft_basement', 'yr_built', 'yr_renovated', 'zipcode',\n",
      "       'lat', 'long', 'sqft_living15', 'sqft_lot15', 'idade', 'data_string',\n",
      "       'data_date'],\n",
      "      dtype='object')\n"
     ]
    }
   ],
   "metadata": {}
  },
  {
   "cell_type": "markdown",
   "source": [
    "## 2.2.1 Deletar várias colunas (primeiro modo)"
   ],
   "metadata": {}
  },
  {
   "cell_type": "code",
   "execution_count": 10,
   "source": [
    "# Mostra o dataset antes do drop\r\n",
    "print ( data.columns )\r\n",
    "#Retira a coluna \"nome_luci\"\r\n",
    "data = data.drop ( ['idade', 'data_date'], axis=1 )\r\n",
    "#Mostra o dataset sem a coluna\r\n",
    "print ( data.columns )"
   ],
   "outputs": [
    {
     "output_type": "stream",
     "name": "stdout",
     "text": [
      "Index(['id', 'date', 'price', 'bedrooms', 'bathrooms', 'sqft_living',\n",
      "       'sqft_lot', 'floors', 'waterfront', 'view', 'condition', 'grade',\n",
      "       'sqft_above', 'sqft_basement', 'yr_built', 'yr_renovated', 'zipcode',\n",
      "       'lat', 'long', 'sqft_living15', 'sqft_lot15', 'idade', 'data_string',\n",
      "       'data_date'],\n",
      "      dtype='object')\n",
      "Index(['id', 'date', 'price', 'bedrooms', 'bathrooms', 'sqft_living',\n",
      "       'sqft_lot', 'floors', 'waterfront', 'view', 'condition', 'grade',\n",
      "       'sqft_above', 'sqft_basement', 'yr_built', 'yr_renovated', 'zipcode',\n",
      "       'lat', 'long', 'sqft_living15', 'sqft_lot15', 'data_string'],\n",
      "      dtype='object')\n"
     ]
    }
   ],
   "metadata": {}
  },
  {
   "cell_type": "markdown",
   "source": [
    "## 2.2.2 Deletar várias colunas (segundo modo)"
   ],
   "metadata": {}
  },
  {
   "cell_type": "code",
   "execution_count": 13,
   "source": [
    "# Mostra o dataset antes do drop\r\n",
    "print ( data.columns )\r\n",
    "#Retira a coluna \"nome_luci\"\r\n",
    "col = ['idade', 'data_date']\r\n",
    "data = data.drop (col , axis=1 )\r\n",
    "#Mostra o dataset sem a coluna\r\n",
    "print ( data.columns )"
   ],
   "outputs": [
    {
     "output_type": "stream",
     "name": "stdout",
     "text": [
      "Index(['id', 'date', 'price', 'bedrooms', 'bathrooms', 'sqft_living',\n",
      "       'sqft_lot', 'floors', 'waterfront', 'view', 'condition', 'grade',\n",
      "       'sqft_above', 'sqft_basement', 'yr_built', 'yr_renovated', 'zipcode',\n",
      "       'lat', 'long', 'sqft_living15', 'sqft_lot15', 'data_string',\n",
      "       'nome_luci', 'idade', 'data_date'],\n",
      "      dtype='object')\n",
      "Index(['id', 'date', 'price', 'bedrooms', 'bathrooms', 'sqft_living',\n",
      "       'sqft_lot', 'floors', 'waterfront', 'view', 'condition', 'grade',\n",
      "       'sqft_above', 'sqft_basement', 'yr_built', 'yr_renovated', 'zipcode',\n",
      "       'lat', 'long', 'sqft_living15', 'sqft_lot15', 'data_string',\n",
      "       'nome_luci'],\n",
      "      dtype='object')\n"
     ]
    }
   ],
   "metadata": {}
  },
  {
   "cell_type": "markdown",
   "source": [
    "## 2.3 Seleção de dados\r\n",
    "### Existem quatro formas de selecionar dados 1)Direto pelo nome das colunas , 2)pelos índices das linhas e das colunas , 3) , 4)  \r\n",
    "\r\n"
   ],
   "metadata": {}
  },
  {
   "cell_type": "markdown",
   "source": [
    "## 2.3.1 Selecionar dados direto pelo nome das colunas"
   ],
   "metadata": {}
  },
  {
   "cell_type": "code",
   "execution_count": 16,
   "source": [
    "# Seleciona uma única variável\r\n",
    "print( data['price'] )\r\n",
    "# Seleciona uma lista de variáveis\r\n",
    "print( data[[ 'id','price','date' ]] )\r\n",
    "\r\n",
    "#Na seleção de n variáveis, o duplo colchetes é necessário porque é passado uma lista de variáveis. "
   ],
   "outputs": [
    {
     "output_type": "stream",
     "name": "stdout",
     "text": [
      "0        221900.0\n",
      "1        538000.0\n",
      "2        180000.0\n",
      "3        604000.0\n",
      "4        510000.0\n",
      "           ...   \n",
      "21608    360000.0\n",
      "21609    400000.0\n",
      "21610    402101.0\n",
      "21611    400000.0\n",
      "21612    325000.0\n",
      "Name: price, Length: 21613, dtype: float64\n",
      "               id     price       date\n",
      "0      7129300520  221900.0 2014-10-13\n",
      "1      6414100192  538000.0 2014-12-09\n",
      "2      5631500400  180000.0 2015-02-25\n",
      "3      2487200875  604000.0 2014-12-09\n",
      "4      1954400510  510000.0 2015-02-18\n",
      "...           ...       ...        ...\n",
      "21608   263000018  360000.0 2014-05-21\n",
      "21609  6600060120  400000.0 2015-02-23\n",
      "21610  1523300141  402101.0 2014-06-23\n",
      "21611   291310100  400000.0 2015-01-16\n",
      "21612  1523300157  325000.0 2014-10-15\n",
      "\n",
      "[21613 rows x 3 columns]\n"
     ]
    }
   ],
   "metadata": {}
  },
  {
   "cell_type": "markdown",
   "source": [
    "## 2.3.2 Selecionar dados pelos índices das linhas e das colunas"
   ],
   "metadata": {}
  },
  {
   "cell_type": "code",
   "execution_count": null,
   "source": [
    "# Seleciona uma única variável\r\n",
    "print( data['price'] )\r\n",
    "# Seleciona uma lista de variáveis\r\n",
    "print( data[[ 'id','price','date' ]] )\r\n",
    "\r\n",
    "#Na seleção de n variáveis, o duplo colchetes é necessário porque é passado uma lista de variáveis. "
   ],
   "outputs": [
    {
     "output_type": "stream",
     "name": "stdout",
     "text": [
      "0        221900.0\n",
      "1        538000.0\n",
      "2        180000.0\n",
      "3        604000.0\n",
      "4        510000.0\n",
      "           ...   \n",
      "21608    360000.0\n",
      "21609    400000.0\n",
      "21610    402101.0\n",
      "21611    400000.0\n",
      "21612    325000.0\n",
      "Name: price, Length: 21613, dtype: float64\n",
      "               id     price       date\n",
      "0      7129300520  221900.0 2014-10-13\n",
      "1      6414100192  538000.0 2014-12-09\n",
      "2      5631500400  180000.0 2015-02-25\n",
      "3      2487200875  604000.0 2014-12-09\n",
      "4      1954400510  510000.0 2015-02-18\n",
      "...           ...       ...        ...\n",
      "21608   263000018  360000.0 2014-05-21\n",
      "21609  6600060120  400000.0 2015-02-23\n",
      "21610  1523300141  402101.0 2014-06-23\n",
      "21611   291310100  400000.0 2015-01-16\n",
      "21612  1523300157  325000.0 2014-10-15\n",
      "\n",
      "[21613 rows x 3 columns]\n"
     ]
    }
   ],
   "metadata": {}
  },
  {
   "cell_type": "markdown",
   "source": [
    "# Exercícios"
   ],
   "metadata": {}
  },
  {
   "cell_type": "markdown",
   "source": [
    "# Links Úteis"
   ],
   "metadata": {}
  },
  {
   "cell_type": "markdown",
   "source": [
    "### Documentação do pandas\n",
    "https://pandas.pydata.org/docs/reference/api/pandas.DataFrame.shape.html"
   ],
   "metadata": {}
  }
 ],
 "metadata": {
  "kernelspec": {
   "name": "python3",
   "display_name": "Python 3.8.5 64-bit"
  },
  "language_info": {
   "codemirror_mode": {
    "name": "ipython",
    "version": 3
   },
   "file_extension": ".py",
   "mimetype": "text/x-python",
   "name": "python",
   "nbconvert_exporter": "python",
   "pygments_lexer": "ipython3",
   "version": "3.8.5"
  },
  "interpreter": {
   "hash": "0e9f00be373a6d21a5020add650cfc8874fe4a40147bac3122748273e58f4825"
  }
 },
 "nbformat": 4,
 "nbformat_minor": 4
}