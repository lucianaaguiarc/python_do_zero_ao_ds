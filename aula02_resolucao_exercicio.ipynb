{
 "cells": [
  {
   "cell_type": "markdown",
   "metadata": {},
   "source": [
    "# Aula 02- Resolução dos Exercícios\n",
    "\n",
    "## Novas perguntas do CEO para vocês"
   ]
  },
  {
   "cell_type": "markdown",
   "metadata": {
    "ExecuteTime": {
     "end_time": "2021-02-27T20:15:46.046829Z",
     "start_time": "2021-02-27T20:15:46.020380Z"
    }
   },
   "source": [
    "1. Crie uma nova coluna chamada: “house_age”\n",
    "    - Se o valor da coluna “date” for maior que 2014-01-01 => ‘new_house’\n",
    "    - Se o valor da coluna “date” for menor que 2014-01-01 => ‘old_house’\n",
    "\n",
    "2. Crie uma nova coluna chamada: “dormitory_type”\n",
    "    - Se o valor da coluna “bedrooms” for igual à 1 => ‘studio’\n",
    "    - Se o valor da coluna “bedrooms” for igual a 2 => ‘apartament’\n",
    "    - Se o valor da coluna “bedrooms” for maior que 2 => ‘house’\n",
    "\n",
    "3. Crie uma nova coluna chamada: “condition_type”\n",
    "    - Se o valor da coluna “condition” for menor ou igual à 2 => ‘bad’\n",
    "    - Se o valor da coluna “condition” for igual à 3 ou 4 => ‘regular’\n",
    "    - Se o valor da coluna “condition” for igual à 5 => ‘good’\n",
    "\n",
    "\n",
    "4. Modifique o TIPO a Coluna “condition” para STRING\n",
    "\n",
    "\n",
    "5. Delete as colunas: “sqft_living15” e “sqft_lot15”\n",
    "\n",
    "\n",
    "6. Modifique o TIPO a Coluna “yr_build” para DATE\n",
    "\n",
    "\n",
    "7. Modifique o TIPO a Coluna “yr_renovated” para DATE\n",
    "\n",
    "\n",
    "8. Qual a data mais antiga de construção de um imóvel?\n",
    "\n",
    "\n",
    "9. Qual a data mais antiga de renovação de um imóvel?\n",
    "\n",
    "\n",
    "10. Quantos imóveis tem 2 andares?\n",
    "\n",
    "\n",
    "11. Quantos imóveis estão com a condição igual a “regular” ?\n",
    "\n",
    "\n",
    "12. Quantos imóveis estão com a condição igual a “bad”e possuem “vista para água” ?\n",
    "\n",
    "\n",
    "13. Quantos imóveis estão com a condição igual a “good” e são “new_house”?\n",
    "\n",
    "\n",
    "14. Qual o valor do imóvel mais caro do tipo “studio” ?\n",
    "\n",
    "\n",
    "15. Quantos imóveis do tipo “apartment” foram reformados em 2015 ?\n",
    "\n",
    "\n",
    "16. Qual o maior número de quartos que um imóveis do tipo “house” possui ?\n",
    "\n",
    "\n",
    "17. Quantos imóveis “new_house” foram reformados no ano de 2014?\n",
    "\n",
    "\n",
    "18. Selecione as colunas: “id”, “date”, “price”, “floors”, “zipcode” pelo método:\n",
    "    - Direto pelo nome das colunas.\n",
    "    - Pelos Índices.\n",
    "    - Pelos Índices das linhas e o nome das colunas\n",
    "    - Índices Booleanos\t\t\n",
    "    \n",
    "    \n",
    "19. Salve um arquivo .csv com somente as colunas do item 10 ao 17.\n",
    "\n",
    "\n",
    "20. Modifique a cor dos pontos no mapa de “pink” para “verde-escuro”"
   ]
  },
  {
   "cell_type": "markdown",
   "metadata": {},
   "source": [
    "# Resolução"
   ]
  },
  {
   "cell_type": "markdown",
   "metadata": {},
   "source": [
    "## Import Libraries"
   ]
  },
  {
   "cell_type": "code",
   "execution_count": 4,
   "metadata": {
    "ExecuteTime": {
     "end_time": "2021-02-27T21:20:44.667766Z",
     "start_time": "2021-02-27T21:20:44.665137Z"
    }
   },
   "outputs": [],
   "source": [
    "import numpy  as np\n",
    "import pandas as pd\n",
    "import seaborn as sns\n",
    "\n",
    "from matplotlib import pyplot as plt\n",
    "import plotly.express as px"
   ]
  },
  {
   "cell_type": "code",
   "execution_count": 2,
   "metadata": {
    "ExecuteTime": {
     "end_time": "2021-02-27T21:20:43.294109Z",
     "start_time": "2021-02-27T21:20:43.290937Z"
    }
   },
   "outputs": [],
   "source": [
    "# Supress Scientific Notation\n",
    "np.set_printoptions(suppress=True)\n",
    "pd.set_option('display.float_format', '{:.2f}'.format)"
   ]
  },
  {
   "cell_type": "markdown",
   "metadata": {},
   "source": [
    "## Loading Data"
   ]
  },
  {
   "cell_type": "code",
   "execution_count": 3,
   "metadata": {
    "ExecuteTime": {
     "end_time": "2021-02-27T21:20:43.363271Z",
     "start_time": "2021-02-27T21:20:43.298236Z"
    }
   },
   "outputs": [],
   "source": [
    "# loading data into memory\n",
    "data = pd.read_csv( '../kc_house_data.csv' )\n",
    "\n",
    "# Garantir que o formato date é um datetime \n",
    "data['date'] = pd.to_datetime( data['date'], format='%Y-%m-%d' )"
   ]
  },
  {
   "cell_type": "markdown",
   "metadata": {
    "ExecuteTime": {
     "end_time": "2021-02-27T20:15:46.046829Z",
     "start_time": "2021-02-27T20:15:46.020380Z"
    }
   },
   "source": [
    "## 1. Crie uma nova coluna chamada: “house_age”\n",
    "    - Se o valor da coluna “date” for maior que 2014-01-01 => ‘new_house’\n",
    "    - Se o valor da coluna “date” for menor que 2014-01-01 => ‘old_house’"
   ]
  },
  {
   "cell_type": "code",
   "execution_count": 5,
   "metadata": {
    "ExecuteTime": {
     "end_time": "2021-02-27T21:20:49.416831Z",
     "start_time": "2021-02-27T21:20:49.410679Z"
    }
   },
   "outputs": [],
   "source": [
    "# Estrategia\n",
    "# 1. Criar uma coluna nova, preenchida com NA\n",
    "# 2. Substituir o valor NA, conforma a condicional\n",
    "\n",
    "data['house_age'] = 'NA'\n",
    "data.loc[data['date'] > '2014-01-01', 'house_age'] = 'new_house'\n",
    "data.loc[data['date'] < '2014-01-01', 'house_age'] = 'old_house'"
   ]
  },
  {
   "cell_type": "markdown",
   "metadata": {
    "ExecuteTime": {
     "end_time": "2021-02-27T20:15:46.046829Z",
     "start_time": "2021-02-27T20:15:46.020380Z"
    }
   },
   "source": [
    "## 2. Crie uma nova coluna chamada: “dormitory_type”\n",
    "    - Se o valor da coluna “bedrooms” for igual à 1 => ‘studio’\n",
    "    - Se o valor da coluna “bedrooms” for igual a 2 => ‘apartament’\n",
    "    - Se o valor da coluna “bedrooms” for maior que 2 => ‘house’"
   ]
  },
  {
   "cell_type": "code",
   "execution_count": 6,
   "metadata": {
    "ExecuteTime": {
     "end_time": "2021-02-27T21:20:59.570888Z",
     "start_time": "2021-02-27T21:20:50.198639Z"
    }
   },
   "outputs": [],
   "source": [
    "# Estrategia:\n",
    "# 1. Criar uma coluna nova, preenchida com NA\n",
    "# 2. Percorrer todas as linhas do conjunto de dados. Para cada linha, comparar a coluna \"bedrooms\"\n",
    "# 3. De acordo com a comparação, substituir o NA pelo dado valor\n",
    "#\n",
    "data['dormitory_type'] = 'NA'\n",
    "for i in range( len( data ) ):\n",
    "    if data.loc[i, 'bedrooms'] == 1:\n",
    "        data.loc[i, 'dormitory_type'] = 'studio'\n",
    "        \n",
    "    elif data.loc[i, 'bedrooms'] == 2:\n",
    "        data.loc[i, 'dormitory_type'] = 'apartment'\n",
    "        \n",
    "    elif data.loc[i, 'bedrooms'] > 2:\n",
    "        data.loc[i, 'dormitory_type'] = 'house'"
   ]
  },
  {
   "cell_type": "markdown",
   "metadata": {
    "ExecuteTime": {
     "end_time": "2021-02-27T20:15:46.046829Z",
     "start_time": "2021-02-27T20:15:46.020380Z"
    }
   },
   "source": [
    "## 3. Crie uma nova coluna chamada: “condition_type”\n",
    "    - Se o valor da coluna “condition” for menor ou igual à 2 => ‘bad’\n",
    "    - Se o valor da coluna “condition” for igual à 3 ou 4 => ‘regular’\n",
    "    - Se o valor da coluna “condition” for igual à 5 => ‘good’"
   ]
  },
  {
   "cell_type": "code",
   "execution_count": 7,
   "metadata": {
    "ExecuteTime": {
     "end_time": "2021-02-27T21:20:59.583172Z",
     "start_time": "2021-02-27T21:20:59.572628Z"
    }
   },
   "outputs": [],
   "source": [
    "# Estrategia:\n",
    "# 1. Usar a função apply junto com a lambda para ter acesso a cada linha.\n",
    "# 2. Em cada linha, comparar a coluna \"condition\" com a condição dada.\n",
    "# 3. Aplicar a condição\n",
    "#\n",
    "data['condition'] = data['condition'].astype( int )\n",
    "data['conditional_type'] = data['condition'].apply( lambda x: 'bad' if x <= 2 else 'regular' if (x == 3) | (x == 4) else 'good' )"
   ]
  },
  {
   "cell_type": "markdown",
   "metadata": {
    "ExecuteTime": {
     "end_time": "2021-02-27T20:15:46.046829Z",
     "start_time": "2021-02-27T20:15:46.020380Z"
    }
   },
   "source": [
    "## 4. Modifique o TIPO a Coluna “condition” para STRING"
   ]
  },
  {
   "cell_type": "code",
   "execution_count": 8,
   "metadata": {
    "ExecuteTime": {
     "end_time": "2021-02-27T21:20:59.597269Z",
     "start_time": "2021-02-27T21:20:59.586347Z"
    }
   },
   "outputs": [
    {
     "data": {
      "text/plain": [
       "id           int64\n",
       "condition    int64\n",
       "dtype: object"
      ]
     },
     "execution_count": 8,
     "metadata": {},
     "output_type": "execute_result"
    }
   ],
   "source": [
    "data[['id', 'condition']].dtypes"
   ]
  },
  {
   "cell_type": "code",
   "execution_count": 9,
   "metadata": {
    "ExecuteTime": {
     "end_time": "2021-02-27T21:20:59.624842Z",
     "start_time": "2021-02-27T21:20:59.601385Z"
    }
   },
   "outputs": [],
   "source": [
    "data['condition'] = data['condition'].astype( str )"
   ]
  },
  {
   "cell_type": "code",
   "execution_count": 10,
   "metadata": {
    "ExecuteTime": {
     "end_time": "2021-02-27T21:20:59.636186Z",
     "start_time": "2021-02-27T21:20:59.627197Z"
    }
   },
   "outputs": [
    {
     "data": {
      "text/plain": [
       "id            int64\n",
       "condition    object\n",
       "dtype: object"
      ]
     },
     "execution_count": 10,
     "metadata": {},
     "output_type": "execute_result"
    }
   ],
   "source": [
    "data[['id', 'condition']].dtypes"
   ]
  },
  {
   "cell_type": "markdown",
   "metadata": {
    "ExecuteTime": {
     "end_time": "2021-02-27T20:15:46.046829Z",
     "start_time": "2021-02-27T20:15:46.020380Z"
    }
   },
   "source": [
    "## 5. Delete as colunas: “sqft_living15” e “sqft_lot15”"
   ]
  },
  {
   "cell_type": "code",
   "execution_count": 11,
   "metadata": {
    "ExecuteTime": {
     "end_time": "2021-02-27T21:20:59.645581Z",
     "start_time": "2021-02-27T21:20:59.638727Z"
    }
   },
   "outputs": [],
   "source": [
    "# deletar as colunas\n",
    "data = data.drop( ['sqft_living15', 'sqft_lot15'], axis=1 )"
   ]
  },
  {
   "cell_type": "markdown",
   "metadata": {
    "ExecuteTime": {
     "end_time": "2021-02-27T20:15:46.046829Z",
     "start_time": "2021-02-27T20:15:46.020380Z"
    }
   },
   "source": [
    "## 6. Modifique o TIPO a Coluna “yr_build” para DATE"
   ]
  },
  {
   "cell_type": "code",
   "execution_count": 12,
   "metadata": {
    "ExecuteTime": {
     "end_time": "2021-02-27T21:20:59.654199Z",
     "start_time": "2021-02-27T21:20:59.648438Z"
    }
   },
   "outputs": [],
   "source": [
    "data['yr_built'] = pd.to_datetime( data['yr_built'], format='%Y' )"
   ]
  },
  {
   "cell_type": "markdown",
   "metadata": {
    "ExecuteTime": {
     "end_time": "2021-02-27T20:15:46.046829Z",
     "start_time": "2021-02-27T20:15:46.020380Z"
    }
   },
   "source": [
    "## 7. Modifique o TIPO a Coluna “yr_renovated” para DATE"
   ]
  },
  {
   "cell_type": "code",
   "execution_count": 101,
   "metadata": {
    "ExecuteTime": {
     "end_time": "2021-02-27T21:01:43.837725Z",
     "start_time": "2021-02-27T21:01:43.714778Z"
    }
   },
   "outputs": [],
   "source": [
    "data['yr_renovated'] = data['yr_renovated'].apply( lambda x: pd.to_datetime( x, format='%Y') if x > 0 else x )"
   ]
  },
  {
   "cell_type": "markdown",
   "metadata": {
    "ExecuteTime": {
     "end_time": "2021-02-27T20:15:46.046829Z",
     "start_time": "2021-02-27T20:15:46.020380Z"
    }
   },
   "source": [
    "## 8. Qual a data mais antiga de construção de um imóvel?"
   ]
  },
  {
   "cell_type": "code",
   "execution_count": 13,
   "metadata": {
    "ExecuteTime": {
     "end_time": "2021-02-27T21:21:01.834491Z",
     "start_time": "2021-02-27T21:21:01.831081Z"
    }
   },
   "outputs": [
    {
     "name": "stdout",
     "output_type": "stream",
     "text": [
      "The oldest house is 1900 years old\n"
     ]
    }
   ],
   "source": [
    "min_date = data['yr_built'].min().year\n",
    "print( 'The oldest house is {} years old'.format( min_date ) )"
   ]
  },
  {
   "cell_type": "markdown",
   "metadata": {
    "ExecuteTime": {
     "end_time": "2021-02-27T20:15:46.046829Z",
     "start_time": "2021-02-27T20:15:46.020380Z"
    }
   },
   "source": [
    "## 9. Qual a data mais antiga de renovação de um imóvel?"
   ]
  },
  {
   "cell_type": "code",
   "execution_count": 14,
   "metadata": {
    "ExecuteTime": {
     "end_time": "2021-02-27T21:21:04.616683Z",
     "start_time": "2021-02-27T21:21:04.609638Z"
    }
   },
   "outputs": [
    {
     "name": "stdout",
     "output_type": "stream",
     "text": [
      "The oldest renovated house is 1934 years old\n"
     ]
    }
   ],
   "source": [
    "# Estrategia\n",
    "# 1. Filtrar todas as linhas diferentes de ZERO ( imóveis que nao foram reformados )\n",
    "# 2. Encontrar a data mínima\n",
    "df = data[data['yr_renovated'] > 0]['yr_renovated']\n",
    "\n",
    "print( 'The oldest renovated house is {} years old'.format( df.min() ) )"
   ]
  },
  {
   "cell_type": "markdown",
   "metadata": {
    "ExecuteTime": {
     "end_time": "2021-02-27T20:15:46.046829Z",
     "start_time": "2021-02-27T20:15:46.020380Z"
    }
   },
   "source": [
    "## 10. Quantos imóveis tem 2 andares?"
   ]
  },
  {
   "cell_type": "code",
   "execution_count": 15,
   "metadata": {
    "ExecuteTime": {
     "end_time": "2021-02-27T21:21:04.941127Z",
     "start_time": "2021-02-27T21:21:04.935635Z"
    }
   },
   "outputs": [
    {
     "name": "stdout",
     "output_type": "stream",
     "text": [
      "The number of houses with 2 floors is: 8241\n"
     ]
    }
   ],
   "source": [
    "# Estrategia:\n",
    "# 1. Filtrar todoso os imóveis com 2 andares\n",
    "# 2. Contar o número de linhas\n",
    "#\n",
    "houses = data[data['floors'] == 2].shape[0]\n",
    "\n",
    "print( 'The number of houses with 2 floors is: {}'.format( houses ) )"
   ]
  },
  {
   "cell_type": "markdown",
   "metadata": {
    "ExecuteTime": {
     "end_time": "2021-02-27T20:15:46.046829Z",
     "start_time": "2021-02-27T20:15:46.020380Z"
    }
   },
   "source": [
    "## 11. Quantos imóveis estão com a condição igual a “regular” ?"
   ]
  },
  {
   "cell_type": "code",
   "execution_count": 16,
   "metadata": {
    "ExecuteTime": {
     "end_time": "2021-02-27T21:21:05.696708Z",
     "start_time": "2021-02-27T21:21:05.689645Z"
    }
   },
   "outputs": [
    {
     "name": "stdout",
     "output_type": "stream",
     "text": [
      "Number of Houses in \"regular\" condition is: 19710\n"
     ]
    }
   ],
   "source": [
    "# Estrategia\n",
    "# 1. Filtrar todos os apartamentos com \"condition_type\" igual a \"regular\"\n",
    "# 2. Contar o número de imóveis sob essa condição\n",
    "#\n",
    "houses = data[data['conditional_type'] == 'regular'].shape[0]\n",
    "\n",
    "print( 'Number of Houses in \"regular\" condition is: {}'.format( houses ) )"
   ]
  },
  {
   "cell_type": "markdown",
   "metadata": {
    "ExecuteTime": {
     "end_time": "2021-02-27T20:15:46.046829Z",
     "start_time": "2021-02-27T20:15:46.020380Z"
    }
   },
   "source": [
    "## 12. Quantos imóveis estão com a condição igual a “bad”e possuem “vista para água” ?"
   ]
  },
  {
   "cell_type": "code",
   "execution_count": 17,
   "metadata": {
    "ExecuteTime": {
     "end_time": "2021-02-27T21:21:07.294954Z",
     "start_time": "2021-02-27T21:21:07.288643Z"
    }
   },
   "outputs": [
    {
     "name": "stdout",
     "output_type": "stream",
     "text": [
      "Number of Houses with water view and bad condition: 2\n"
     ]
    }
   ],
   "source": [
    "# Estrategia:\n",
    "# 1. Filtrar as colunas \"conditional_type\" igual a \"bad\" e \"waterfront\" igual a 1\n",
    "# 2. Contar o número de linhas\n",
    "houses = data[(data['conditional_type'] == 'bad') & (data['waterfront'] == 1)].shape[0]\n",
    "print( \"Number of Houses with water view and bad condition: {}\".format( houses ) )"
   ]
  },
  {
   "cell_type": "markdown",
   "metadata": {
    "ExecuteTime": {
     "end_time": "2021-02-27T20:15:46.046829Z",
     "start_time": "2021-02-27T20:15:46.020380Z"
    }
   },
   "source": [
    "## 13. Quantos imóveis estão com a condição igual a “good” e são “new_house”?"
   ]
  },
  {
   "cell_type": "code",
   "execution_count": 18,
   "metadata": {
    "ExecuteTime": {
     "end_time": "2021-02-27T21:21:07.623250Z",
     "start_time": "2021-02-27T21:21:07.615830Z"
    }
   },
   "outputs": [
    {
     "name": "stdout",
     "output_type": "stream",
     "text": [
      "Number of new house with good conditional type is: 1701\n"
     ]
    }
   ],
   "source": [
    "# Estrategia:\n",
    "# 1. Filtrar as colunas \"conditional_type\" igual a \"good\" e \"house_age\" equals to \"new_house\"\n",
    "# 2. Contar o número de linhas\n",
    "houses = data[(data['conditional_type'] == 'good') & (data['house_age'] == \"new_house\")].shape[0]\n",
    "print( \"Number of new house with good conditional type is: {}\".format( houses ) )"
   ]
  },
  {
   "cell_type": "markdown",
   "metadata": {
    "ExecuteTime": {
     "end_time": "2021-02-27T20:15:46.046829Z",
     "start_time": "2021-02-27T20:15:46.020380Z"
    }
   },
   "source": [
    "## 14. Qual o valor do imóvel mais caro do tipo “studio” ?"
   ]
  },
  {
   "cell_type": "code",
   "execution_count": 19,
   "metadata": {
    "ExecuteTime": {
     "end_time": "2021-02-27T21:21:07.900460Z",
     "start_time": "2021-02-27T21:21:07.894823Z"
    }
   },
   "outputs": [
    {
     "name": "stdout",
     "output_type": "stream",
     "text": [
      "Most expensive studio house: $1247000.0\n"
     ]
    }
   ],
   "source": [
    "# Estrategia:\n",
    "# 1. Filtrar as colunas \"dormitory_type\" igual a \"studio\"\n",
    "# 2. Encontrar o máximo valor da coluna \"price\"\n",
    "max_studio_price = data[data['dormitory_type'] == 'studio']['price'].max()\n",
    "print( \"Most expensive studio house: ${}\".format( max_studio_price ) )"
   ]
  },
  {
   "cell_type": "markdown",
   "metadata": {
    "ExecuteTime": {
     "end_time": "2021-02-27T20:15:46.046829Z",
     "start_time": "2021-02-27T20:15:46.020380Z"
    }
   },
   "source": [
    "## 15. Quantos imóveis do tipo “apartment” foram reformados em 2015 ?"
   ]
  },
  {
   "cell_type": "code",
   "execution_count": 39,
   "metadata": {
    "ExecuteTime": {
     "end_time": "2021-02-27T21:30:59.763973Z",
     "start_time": "2021-02-27T21:30:59.758203Z"
    }
   },
   "outputs": [
    {
     "name": "stdout",
     "output_type": "stream",
     "text": [
      "Number of reformed house in 2015: 0\n"
     ]
    }
   ],
   "source": [
    "# Estrategia:\n",
    "# 1. Filtrar as colunas \"dormitory_type\" igual a \"apartament\" e \"yr_renovated\" equals to \"2015-01-01\"\n",
    "# 2. Contar o número de linhas\n",
    "houses = data[(data['dormitory_type'] == 'apartament') & \n",
    "              (data['yr_renovated'] == 2015 )].shape[0]\n",
    "\n",
    "print( \"Number of reformed house in 2015: {}\".format( houses ) )"
   ]
  },
  {
   "cell_type": "markdown",
   "metadata": {
    "ExecuteTime": {
     "end_time": "2021-02-27T20:15:46.046829Z",
     "start_time": "2021-02-27T20:15:46.020380Z"
    }
   },
   "source": [
    "## 16. Qual o maior número de quartos que um imóveis do tipo “house” possui ?"
   ]
  },
  {
   "cell_type": "code",
   "execution_count": 31,
   "metadata": {
    "ExecuteTime": {
     "end_time": "2021-02-27T21:29:10.495226Z",
     "start_time": "2021-02-27T21:29:10.488202Z"
    }
   },
   "outputs": [
    {
     "name": "stdout",
     "output_type": "stream",
     "text": [
      "Max number of bedrooms from a house: 33\n"
     ]
    }
   ],
   "source": [
    "# Estrategia:\n",
    "# 1. Filtrar as colunas \"dormitory type\" igual a \"house\"\n",
    "# 2. Encontrar o maior valor da coluna bedrooms\n",
    "b = data[data['dormitory_type'] == 'house']['bedrooms'].max()\n",
    "\n",
    "print( \"Max number of bedrooms from a house: {}\".format( b ) )"
   ]
  },
  {
   "cell_type": "markdown",
   "metadata": {
    "ExecuteTime": {
     "end_time": "2021-02-27T20:15:46.046829Z",
     "start_time": "2021-02-27T20:15:46.020380Z"
    }
   },
   "source": [
    "## 17. Quantos imóveis “new_house” foram reformados no ano de 2014?"
   ]
  },
  {
   "cell_type": "code",
   "execution_count": 37,
   "metadata": {
    "ExecuteTime": {
     "end_time": "2021-02-27T21:30:42.485740Z",
     "start_time": "2021-02-27T21:30:42.480248Z"
    }
   },
   "outputs": [
    {
     "name": "stdout",
     "output_type": "stream",
     "text": [
      "Number of reformed house in 2014: 91\n"
     ]
    }
   ],
   "source": [
    "# Estrategia:\n",
    "# 1. Filtrar as colunas \"dormitory_type\" igual a \"apartament\" e \"yr_renovated\" equals to \"2015-01-01\"\n",
    "# 2. Contar o número de linhas\n",
    "houses = data[(data['house_age'] == 'new_house') & \n",
    "              (data['yr_renovated'] == 2014 )].shape[0]\n",
    "\n",
    "print( \"Number of reformed house in 2014: {}\".format( houses ) )"
   ]
  },
  {
   "cell_type": "markdown",
   "metadata": {
    "ExecuteTime": {
     "end_time": "2021-02-27T20:15:46.046829Z",
     "start_time": "2021-02-27T20:15:46.020380Z"
    }
   },
   "source": [
    "## 18. Selecione as colunas: “id”, “date”, “price”, “floors”, “zipcode” pelo método:\n",
    "    -- Direto pelo nome das colunas\n",
    "    -- Pelos índices\n",
    "    -- Pelos índices das linhas e o nome das colunas\n",
    "    -- Índices Booleanos"
   ]
  },
  {
   "cell_type": "code",
   "execution_count": 41,
   "metadata": {
    "ExecuteTime": {
     "end_time": "2021-02-27T21:35:10.424504Z",
     "start_time": "2021-02-27T21:35:10.420864Z"
    }
   },
   "outputs": [
    {
     "data": {
      "text/plain": [
       "Index(['id', 'date', 'price', 'bedrooms', 'bathrooms', 'sqft_living',\n",
       "       'sqft_lot', 'floors', 'waterfront', 'view', 'condition', 'grade',\n",
       "       'sqft_above', 'sqft_basement', 'yr_built', 'yr_renovated', 'zipcode',\n",
       "       'lat', 'long', 'house_age', 'dormitory_type', 'conditional_type'],\n",
       "      dtype='object')"
      ]
     },
     "execution_count": 41,
     "metadata": {},
     "output_type": "execute_result"
    }
   ],
   "source": [
    "data.columns"
   ]
  },
  {
   "cell_type": "code",
   "execution_count": 45,
   "metadata": {
    "ExecuteTime": {
     "end_time": "2021-02-27T21:36:50.269711Z",
     "start_time": "2021-02-27T21:36:50.263832Z"
    }
   },
   "outputs": [],
   "source": [
    "### 1. Nome das colunas\n",
    "df1 = data[['id', 'date', 'price', 'floors', 'zipcode']]\n",
    "\n",
    "### 2. Índices\n",
    "df2 = data.iloc[:, [0, 1, 2, 7, 16]]\n",
    "\n",
    "### 3. Índices das linhas e nome das colunas\n",
    "df3 = data.loc[:, ['id', 'date', 'price', 'floors', 'zipcode']] "
   ]
  },
  {
   "cell_type": "markdown",
   "metadata": {
    "ExecuteTime": {
     "end_time": "2021-02-27T20:15:46.046829Z",
     "start_time": "2021-02-27T20:15:46.020380Z"
    }
   },
   "source": [
    "## 19. Salve um arquivo .csv com somente as colunas do item 10 ao 17."
   ]
  },
  {
   "cell_type": "code",
   "execution_count": 47,
   "metadata": {
    "ExecuteTime": {
     "end_time": "2021-02-27T21:37:50.261741Z",
     "start_time": "2021-02-27T21:37:50.259913Z"
    }
   },
   "outputs": [],
   "source": [
    "#data[['house_age', 'dormitory_type', 'conditional_type']].to_csv( 'exercicio18.csv' )"
   ]
  }
 ],
 "metadata": {
  "kernelspec": {
   "display_name": "Python 3",
   "language": "python",
   "name": "python3"
  },
  "language_info": {
   "codemirror_mode": {
    "name": "ipython",
    "version": 3
   },
   "file_extension": ".py",
   "mimetype": "text/x-python",
   "name": "python",
   "nbconvert_exporter": "python",
   "pygments_lexer": "ipython3",
   "version": "3.8.0"
  }
 },
 "nbformat": 4,
 "nbformat_minor": 4
}
