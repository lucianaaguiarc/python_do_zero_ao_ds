{
 "cells": [
  {
   "cell_type": "markdown",
   "metadata": {},
   "source": [
    "# 0. Carregando os dados e bibliotecas"
   ]
  },
  {
   "cell_type": "code",
   "execution_count": null,
   "metadata": {},
   "outputs": [],
   "source": [
    "import pandas as pd\n",
    "import numpy as np\n",
    "import plotly.express as px\n",
    "pd.set_option('display.float_format', lambda x: '%.2f' % x)\n",
    "from matplotlib import pyplot as plt\n",
    "#Foram adicionados por conta de erro de renderização no mapa (ex1.10), utilizando o VS Code. Caso sua IDE não tenha o erro, não é necessário\n",
    "#Erro: No renderer could be found for mimetype \"application/vnd.plotly.v1+json\"\n",
    "import plotly.io as pio\n",
    "pio.renderers.default = \"notebook_connected\""
   ]
  },
  {
   "cell_type": "code",
   "execution_count": null,
   "metadata": {},
   "outputs": [],
   "source": [
    "data = pd.read_csv('datasets/kc_house_data.csv')"
   ]
  },
  {
   "cell_type": "markdown",
   "metadata": {},
   "source": [
    "# 1. Respondendo às perguntas de negócio"
   ]
  },
  {
   "cell_type": "markdown",
   "metadata": {},
   "source": [
    "## 1.1 Qual o número de imóveis por ano de construção?"
   ]
  },
  {
   "cell_type": "code",
   "execution_count": null,
   "metadata": {},
   "outputs": [],
   "source": [
    "data.groupby('yr_built')[['id']].count()"
   ]
  },
  {
   "cell_type": "markdown",
   "metadata": {},
   "source": [
    "#### Outra forma de fazer"
   ]
  },
  {
   "cell_type": "code",
   "execution_count": null,
   "metadata": {},
   "outputs": [],
   "source": [
    "data[['id', 'yr_built']].groupby('yr_built').count()\n",
    "\n",
    "#essa sintaxe pode ser usada para os exercícios da seção 1"
   ]
  },
  {
   "cell_type": "markdown",
   "metadata": {},
   "source": [
    "## 1.2 Qual o menor número de quartos por ano de construção dos imóveis?\n"
   ]
  },
  {
   "cell_type": "code",
   "execution_count": null,
   "metadata": {},
   "outputs": [],
   "source": [
    "data.groupby('yr_built')[['bedrooms']].min()"
   ]
  },
  {
   "cell_type": "markdown",
   "metadata": {},
   "source": [
    "## 1.3 Qual o preço de compra mais alto por cada número de quartos?"
   ]
  },
  {
   "cell_type": "code",
   "execution_count": null,
   "metadata": {},
   "outputs": [],
   "source": [
    "data.groupby('bedrooms')[['price']].max()"
   ]
  },
  {
   "cell_type": "markdown",
   "metadata": {},
   "source": [
    "## 1.4 Qual a soma de todos os preços de compra por cada número de quartos?"
   ]
  },
  {
   "cell_type": "code",
   "execution_count": null,
   "metadata": {},
   "outputs": [],
   "source": [
    "data.groupby('bedrooms')[['price']].sum()"
   ]
  },
  {
   "cell_type": "markdown",
   "metadata": {},
   "source": [
    "## 1.5 Qual a soma de todos os preços de compra pelo número de quartos e banheiros?"
   ]
  },
  {
   "cell_type": "code",
   "execution_count": null,
   "metadata": {},
   "outputs": [],
   "source": [
    "data.groupby(['bedrooms', 'bathrooms'])[['price']].sum()"
   ]
  },
  {
   "cell_type": "markdown",
   "metadata": {},
   "source": [
    "## 1.6 Qual o tamanho médio das salas dos imóveis por ano de construção?"
   ]
  },
  {
   "cell_type": "code",
   "execution_count": null,
   "metadata": {},
   "outputs": [],
   "source": [
    "data.groupby('yr_built')[['sqft_living']].mean()"
   ]
  },
  {
   "cell_type": "markdown",
   "metadata": {},
   "source": [
    "## 1.7 . Qual o tamanho mediano das salas dos imóveis por ano de construção?"
   ]
  },
  {
   "cell_type": "code",
   "execution_count": null,
   "metadata": {},
   "outputs": [],
   "source": [
    "data.groupby('yr_built')[['sqft_living']].median()"
   ]
  },
  {
   "cell_type": "markdown",
   "metadata": {},
   "source": [
    "## 1.8 Qual o desvio-padrão do tamanho das salas dos imóveis por ano de construção?"
   ]
  },
  {
   "cell_type": "code",
   "execution_count": null,
   "metadata": {},
   "outputs": [],
   "source": [
    "data.groupby('yr_built')[['sqft_living']].std()"
   ]
  },
  {
   "cell_type": "markdown",
   "metadata": {},
   "source": [
    "## 1.9 Como é o crescimento médio preços de compra dos imóveis, por dia e semana do ano?"
   ]
  },
  {
   "cell_type": "markdown",
   "metadata": {},
   "source": [
    "- Primeiro gráfico (crescimento x ano)"
   ]
  },
  {
   "cell_type": "code",
   "execution_count": null,
   "metadata": {},
   "outputs": [],
   "source": [
    "#Eixo x: data (ano)\n",
    "#Eixo y: preço médio\n",
    "#Tipo de gráfico: barras\n",
    "\n",
    "from matplotlib import pyplot as plt\n",
    "\n",
    "data['year'] = pd.to_datetime( data['date'] ).dt.year\n",
    "\n",
    "by_year = data.groupby('year')[['price']].sum().reset_index()\n",
    "#data[['price', 'year']].groupby('year').sum().reset_index() -> também dá certo\n",
    "\n",
    "#Plotar o gráfico\n",
    "plt.bar(by_year ['year'], by_year['price'])"
   ]
  },
  {
   "cell_type": "markdown",
   "metadata": {},
   "source": [
    "- Segundo gráfico (crescimento x dia)"
   ]
  },
  {
   "cell_type": "code",
   "execution_count": null,
   "metadata": {},
   "outputs": [],
   "source": [
    "#Eixo x: data (dia)\n",
    "#Eixo y: preço médio\n",
    "#Tipo de gráfico: barras\n",
    "\n",
    "from matplotlib import pyplot as plt\n",
    "\n",
    "data['day'] = pd.to_datetime( data['date'] )\n",
    "\n",
    "by_day= data.groupby('day')[['price']].mean().reset_index()\n",
    "#data[['price', 'year']].groupby('year').sum().reset_index() -> também dá certo\n",
    "\n",
    "#Plotar o gráfico\n",
    "plt.figure(figsize=(10,6))\n",
    "plt.plot(by_day ['day'], by_day['price'])"
   ]
  },
  {
   "cell_type": "markdown",
   "metadata": {},
   "source": [
    "- Terceiro gráfico (crescimento x semana)"
   ]
  },
  {
   "cell_type": "code",
   "execution_count": null,
   "metadata": {},
   "outputs": [],
   "source": [
    "#Eixo x: data (ano)\n",
    "#Eixo y: preço médio\n",
    "#Tipo de gráfico: barras\n",
    "\n",
    "from matplotlib import pyplot as plt\n",
    "\n",
    "data['year_week'] = pd.to_datetime( data['date'] ).dt.strftime('%Y-%U') #%u -> semana começa no domingo\n",
    "\n",
    "by_year_week= data.groupby('year_week')[['price']].mean().reset_index()\n",
    "\n",
    "#Plotar o gráfico\n",
    "plt.figure(figsize=(10,5))\n",
    "plt.plot(by_year_week ['year_week'], by_year_week['price'])\n",
    "plt.xticks(rotation=60); #Importante o ; para não mostrar o texto da rotação"
   ]
  },
  {
   "cell_type": "markdown",
   "metadata": {},
   "source": [
    "- Dash com os 3 gráficos"
   ]
  },
  {
   "cell_type": "code",
   "execution_count": null,
   "metadata": {},
   "outputs": [],
   "source": [
    "#Desenho do dash\n",
    "from matplotlib import gridspec\n",
    "\n",
    "fig = plt.figure(figsize=(20,12))\n",
    "specs = gridspec.GridSpec(ncols=2, nrows=2, figure=fig)\n",
    "\n",
    "ax1 = fig.add_subplot(specs[0,:]) #Primeira linha\n",
    "ax2 = fig.add_subplot(specs[1,0]) #Primeira coluna, segunda linha\n",
    "ax3 = fig.add_subplot(specs[1,1]) #Segunda coluna, segunda linha\n",
    "\n",
    "\n",
    "#Primeiro gráfico\n",
    "data['year'] = pd.to_datetime( data['date'] ).dt.year\n",
    "by_year = data.groupby('year')[['price']].sum().reset_index()\n",
    "ax1.bar(by_year ['year'], by_year['price'])\n",
    "\n",
    "#Segundo gráfico\n",
    "data['day'] = pd.to_datetime( data['date'] )\n",
    "by_day= data.groupby('day')[['price']].mean().reset_index()\n",
    "ax2.plot(by_day ['day'], by_day['price'])\n",
    "\n",
    "#Terceiro gráfico\n",
    "data['year_week'] = pd.to_datetime( data['date'] ).dt.strftime('%Y-%U')\n",
    "by_year_week= data.groupby('year_week')[['price']].mean().reset_index()\n",
    "ax3.plot(by_year_week ['year_week'], by_year_week['price'])\n",
    "plt.xticks(rotation=60);"
   ]
  },
  {
   "cell_type": "markdown",
   "metadata": {},
   "source": [
    "## 1.10 Eu gostaria de olhar no mapa e conseguir identificar as casas com o maior preço."
   ]
  },
  {
   "cell_type": "code",
   "execution_count": null,
   "metadata": {},
   "outputs": [],
   "source": [
    "houses = data[['id', 'lat','long', 'price']]\n",
    "\n",
    "fig = px.scatter_mapbox(houses,\n",
    "                        lat = 'lat',\n",
    "                        lon = 'long',\n",
    "                        size = 'price',\n",
    "                        color_continuous_scale = px.colors.cyclical.IceFire,\n",
    "                        size_max=15,\n",
    "                        zoom=10\n",
    ")\n",
    "fig.update_layout(mapbox_style = 'open-street-map')\n",
    "fig.update_layout(height=600, margin={'r':0, 't':0, 'l':0, 'b':0})\n",
    "fig.show()"
   ]
  },
  {
   "cell_type": "markdown",
   "metadata": {},
   "source": [
    "# 2. Exercícios"
   ]
  },
  {
   "cell_type": "markdown",
   "metadata": {},
   "source": [
    "## 2.1 Crie uma nova coluna chamada: “dormitory_type”\n",
    "- Se o valor da coluna “bedrooms” for igual à 1 => ‘studio’\n",
    "- Se o valor da coluna “bedrooms” for igual a 2 => ‘apartament’\n",
    "- Se o valor da coluna “bedrooms” for maior que 2 => ‘house’"
   ]
  },
  {
   "cell_type": "code",
   "execution_count": null,
   "metadata": {},
   "outputs": [],
   "source": [
    "data['dormitory_type'] = data['bedrooms'].apply ( lambda x: 'studio' if x== 1 else\n",
    "                                                            'apartment' if x == 2 else\n",
    "                                                            'house' if x > 2 else\n",
    "                                                            'NDA')"
   ]
  },
  {
   "cell_type": "markdown",
   "metadata": {},
   "source": [
    "## 2.2 Faça um gráfico de barras que represente a soma dos preços pelo número de quartos."
   ]
  },
  {
   "cell_type": "code",
   "execution_count": null,
   "metadata": {},
   "outputs": [],
   "source": [
    "#Eixo x: número de quartos\n",
    "#Eixo y: soma dos preços\n",
    "#Tipo de gráfico: barras\n",
    "by_bedrooms = data.groupby('bedrooms')[['price']].sum().reset_index()\n",
    "\n",
    "#Plotar o gráfico\n",
    "#plt.bar(x, y)\n",
    "plt.bar( by_bedrooms['bedrooms'], by_bedrooms['price'], color ='blue')"
   ]
  },
  {
   "cell_type": "markdown",
   "metadata": {},
   "source": [
    "## 2.3 Faça um gráfico de linhas que represente a média dos preços pelo ano construção dos imóveis."
   ]
  },
  {
   "cell_type": "code",
   "execution_count": null,
   "metadata": {},
   "outputs": [],
   "source": [
    "#Eixo x: data (ano)\n",
    "#Eixo y: preço médio\n",
    "#Tipo de gráfico: barras\n",
    "\n",
    "#Converter a coluna de data para formato de data e extrair o ano\n",
    "data['year'] = pd.to_datetime( data['date'] ).dt.year\n",
    "\n",
    "by_year = data.groupby('year')['price'].mean().reset_index()\n",
    "\n",
    "#Plotar gráfico\n",
    "#plt.plot( x, y )\n",
    "plt.plot( by_year['year'], by_year['price'] )\n",
    "\n"
   ]
  },
  {
   "cell_type": "markdown",
   "metadata": {},
   "source": [
    "## 2.4 Faça um gráfico de barras que represente a média dos preços pelo tipo dos dormitórios."
   ]
  },
  {
   "cell_type": "code",
   "execution_count": null,
   "metadata": {},
   "outputs": [],
   "source": [
    "#Eixo x: tipo de dromitório\n",
    "#Eixo y: preço médio\n",
    "#Tipo de gráfico: barras\n",
    "\n",
    "by_dorm_type = data.groupby('dormitory_type')['price'].mean().reset_index()\n",
    "\n",
    "plt.bar( by_dorm_type['dormitory_type'], by_dorm_type['price'] )\n"
   ]
  },
  {
   "cell_type": "markdown",
   "metadata": {},
   "source": [
    "## 2.5 . Faça um gráfico de linha que mostre a evolução da média dos preços pelo ano da reforma dos imóveis, a partir do ano de 1930.\n"
   ]
  },
  {
   "cell_type": "code",
   "execution_count": null,
   "metadata": {},
   "outputs": [],
   "source": []
  },
  {
   "cell_type": "markdown",
   "metadata": {},
   "source": [
    "## 2.6  Faça um tabela que mostre a média dos preços por ano de construção e tipo de dormitórios dos imóveis."
   ]
  },
  {
   "cell_type": "code",
   "execution_count": null,
   "metadata": {},
   "outputs": [],
   "source": []
  },
  {
   "cell_type": "markdown",
   "metadata": {},
   "source": [
    "## 2.7 Crie um Dashboard com os gráficos das questões 02, 03, 04 ( Dashboard: 1 Linha e 2 colunas)"
   ]
  },
  {
   "cell_type": "code",
   "execution_count": null,
   "metadata": {},
   "outputs": [],
   "source": []
  },
  {
   "cell_type": "markdown",
   "metadata": {},
   "source": [
    "## 2.8 Crie um Dashboard com os gráficos das perguntas 02, 04 ( Dashboard: 2 colunas )"
   ]
  },
  {
   "cell_type": "code",
   "execution_count": null,
   "metadata": {},
   "outputs": [],
   "source": []
  },
  {
   "cell_type": "markdown",
   "metadata": {},
   "source": [
    "## 2.9 Crie um Dashboard com os gráficos das perguntas 03, 05 ( Dashboard: 2 Linhas )\n"
   ]
  },
  {
   "cell_type": "code",
   "execution_count": null,
   "metadata": {},
   "outputs": [],
   "source": []
  },
  {
   "cell_type": "markdown",
   "metadata": {},
   "source": [
    "## 2.10 Faça um gráfico com o tamanho dos pontos sendo igual ao tamanho da sala de estar"
   ]
  },
  {
   "cell_type": "code",
   "execution_count": null,
   "metadata": {},
   "outputs": [],
   "source": []
  }
 ],
 "metadata": {
  "interpreter": {
   "hash": "bd588c63303b6a156a60e8f7d188b1ed9121ace3cb12b0ceca4f8e0e79082893"
  },
  "kernelspec": {
   "display_name": "Python 3.10.2 64-bit",
   "language": "python",
   "name": "python3"
  },
  "language_info": {
   "codemirror_mode": {
    "name": "ipython",
    "version": 3
   },
   "file_extension": ".py",
   "mimetype": "text/x-python",
   "name": "python",
   "nbconvert_exporter": "python",
   "pygments_lexer": "ipython3",
   "version": "3.9.7"
  },
  "orig_nbformat": 4
 },
 "nbformat": 4,
 "nbformat_minor": 2
}
