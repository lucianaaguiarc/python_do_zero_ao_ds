{
 "cells": [
  {
   "cell_type": "markdown",
   "metadata": {},
   "source": [
    "# 0. Carregando os dados e bibliotecas"
   ]
  },
  {
   "cell_type": "code",
   "execution_count": 2,
   "metadata": {},
   "outputs": [],
   "source": [
    "import pandas as pd\n",
    "import numpy as np\n",
    "import plotly.express as px\n",
    "pd.set_option('display.float_format', lambda x: '%.2f' % x)\n",
    "from matplotlib import pyplot as plt\n",
    "from matplotlib import gridspec #Para fazer os dashs\n",
    "#Foram adicionados por conta de erro de renderização no mapa (ex1.10), utilizando o VS Code. Caso sua IDE não tenha o erro, não é necessário\n",
    "#Erro: No renderer could be found for mimetype \"application/vnd.plotly.v1+json\"\n",
    "import plotly.io as pio\n",
    "pio.renderers.default = \"notebook_connected\""
   ]
  },
  {
   "cell_type": "code",
   "execution_count": 3,
   "metadata": {},
   "outputs": [],
   "source": [
    "data = pd.read_csv('datasets/kc_house_data.csv')"
   ]
  },
  {
   "cell_type": "markdown",
   "metadata": {},
   "source": [
    "# 1. Respondendo às perguntas de negócio"
   ]
  },
  {
   "cell_type": "markdown",
   "metadata": {},
   "source": [
    "## 1.1 Qual a quantidade de imóveis por nível?\n",
    " - Nivel 0: Preço entre R$ 0.00 e R$ 321.950\n",
    " - Nivel 1: Preço entre R$ 321.950 e R$ 450.000\n",
    " - Nivel 2: Preço entre R$ 450.000 e R$ 645.000\n",
    " - Nivel 3: Preço acima de R$ 645.000"
   ]
  },
  {
   "cell_type": "code",
   "execution_count": null,
   "metadata": {},
   "outputs": [],
   "source": []
  },
  {
   "cell_type": "markdown",
   "metadata": {},
   "source": [
    "## 1.2 Adicione as seguintes informações ao imóvel:\n",
    " - O nome da Rua\n",
    " - O número do imóvel\n",
    " - O nome do Bairro\n",
    " - O nome da Cidade\n",
    " - O nome da Estado\n",
    "\n"
   ]
  },
  {
   "cell_type": "code",
   "execution_count": null,
   "metadata": {},
   "outputs": [],
   "source": []
  },
  {
   "cell_type": "markdown",
   "metadata": {},
   "source": [
    "## 1.3 Adicionar o nível dos imóveis no Mapa como uma cor.\n",
    "\n"
   ]
  },
  {
   "cell_type": "markdown",
   "metadata": {},
   "source": [
    "## 1.4 Adicionar o Preço dos imóveis como o tamanho do ponto no mapa.\n",
    "\n"
   ]
  },
  {
   "cell_type": "markdown",
   "metadata": {},
   "source": [
    "## 1.5 Adicionar opções de filtros para eu fazer minhas próprias análises:\n",
    "- Eu quero escolher visualizar imóveis com vista para água ou não.\n",
    "- Eu quero filtrar os imóveis até um certo valor de preço.\n",
    "\n"
   ]
  },
  {
   "cell_type": "markdown",
   "metadata": {},
   "source": [
    "## 1.6 Adicionar opções de filtros no último dashboard enviado:\n",
    "- Eu quero visualizar somente valor a partir de um data disponível para compra.\n",
    "\n"
   ]
  }
 ],
 "metadata": {
  "interpreter": {
   "hash": "bd588c63303b6a156a60e8f7d188b1ed9121ace3cb12b0ceca4f8e0e79082893"
  },
  "kernelspec": {
   "display_name": "Python 3.10.2 64-bit",
   "language": "python",
   "name": "python3"
  },
  "language_info": {
   "codemirror_mode": {
    "name": "ipython",
    "version": 3
   },
   "file_extension": ".py",
   "mimetype": "text/x-python",
   "name": "python",
   "nbconvert_exporter": "python",
   "pygments_lexer": "ipython3",
   "version": "3.10.2"
  },
  "orig_nbformat": 4
 },
 "nbformat": 4,
 "nbformat_minor": 2
}
