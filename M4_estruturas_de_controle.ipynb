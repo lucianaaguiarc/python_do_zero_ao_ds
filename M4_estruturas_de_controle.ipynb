{
 "cells": [
  {
   "cell_type": "markdown",
   "metadata": {},
   "source": [
    "# 0. Carregando os dados e bibliotecas"
   ]
  },
  {
   "cell_type": "code",
   "execution_count": 1,
   "metadata": {},
   "outputs": [],
   "source": [
    "import pandas as pd\n",
    "import numpy as np\n",
    "import plotly.express as px\n",
    "pd.set_option('display.float_format', lambda x: '%.2f' % x)\n",
    "from matplotlib import pyplot as plt\n",
    "from matplotlib import gridspec #Para fazer os dashs\n",
    "#Foram adicionados por conta de erro de renderização no mapa (ex1.10), utilizando o VS Code. Caso sua IDE não tenha o erro, não é necessário\n",
    "#Erro: No renderer could be found for mimetype \"application/vnd.plotly.v1+json\"\n",
    "import plotly.io as pio\n",
    "pio.renderers.default = \"notebook_connected\"\n",
    "from geopy.geocoders import Nominatim\n",
    "import ipywidgets as widgets\n",
    "from ipywidgets import fixed\n",
    "import time\n",
    "from multiprocessing import Pool"
   ]
  },
  {
   "cell_type": "code",
   "execution_count": 2,
   "metadata": {},
   "outputs": [],
   "source": [
    "data = pd.read_csv('datasets/kc_house_data.csv')"
   ]
  },
  {
   "cell_type": "markdown",
   "metadata": {},
   "source": [
    "# 1. Respondendo às perguntas de negócio"
   ]
  },
  {
   "cell_type": "markdown",
   "metadata": {},
   "source": [
    "## 1.1 Qual a quantidade de imóveis por nível?\n",
    " - Nivel 0: Preço entre R$ 0.00 e R$ 321.950\n",
    " - Nivel 1: Preço entre R$ 321.950 e R$ 450.000\n",
    " - Nivel 2: Preço entre R$ 450.000 e R$ 645.000\n",
    " - Nivel 3: Preço acima de R$ 645.000"
   ]
  },
  {
   "cell_type": "code",
   "execution_count": null,
   "metadata": {},
   "outputs": [],
   "source": [
    "for i in range (len(data)):\n",
    "    if (data.loc[i, 'price'] >= 0) & (data.loc[i, 'price'] <= 321950):\n",
    "        data.loc[i, 'level'] = 'nivel_0'\n",
    "\n",
    "    elif (data.loc[i, 'price'] > 321950) & (data.loc[i, 'price'] <= 450000):\n",
    "        data.loc[i, 'level'] = 'nivel_1'\n",
    "\n",
    "    elif (data.loc[i, 'price'] > 450000) & (data.loc[i, 'price'] <= 645000):\n",
    "        data.loc[i, 'level'] = 'nivel_2'\n",
    "\n",
    "    elif (data.loc[i, 'price'] > 645000) :\n",
    "        data.loc[i, 'level'] = 'nivel_3'\n",
    "        \n",
    "    else:\n",
    "        data[i, 'level'] = 'NA'"
   ]
  },
  {
   "cell_type": "code",
   "execution_count": null,
   "metadata": {},
   "outputs": [],
   "source": [
    "data['level'].unique()"
   ]
  },
  {
   "cell_type": "code",
   "execution_count": null,
   "metadata": {},
   "outputs": [],
   "source": [
    "data.groupby('level')['id'].count()"
   ]
  },
  {
   "cell_type": "markdown",
   "metadata": {},
   "source": [
    "## 1.2 Adicione as seguintes informações ao imóvel:\n",
    " - O nome da Rua\n",
    " - O número do imóvel\n",
    " - O nome do Bairro\n",
    " - O nome da Cidade\n",
    " - O nome da Estado\n",
    "\n"
   ]
  },
  {
   "cell_type": "markdown",
   "metadata": {},
   "source": [
    "##### Exemplo de uma chamada"
   ]
  },
  {
   "cell_type": "code",
   "execution_count": null,
   "metadata": {},
   "outputs": [],
   "source": [
    "#Inicializar a API Nominatim\n",
    "geolocator = Nominatim(user_agent='geoapiExercises')\n",
    "\n",
    "response = geolocator.reverse('47.5112, -122.257') #nome padrão para guardar chamadas de API. Poderia ser outro nome."
   ]
  },
  {
   "cell_type": "code",
   "execution_count": null,
   "metadata": {},
   "outputs": [],
   "source": [
    "#Visualizar os dados da chamada de exemplo\n",
    "response.raw"
   ]
  },
  {
   "cell_type": "code",
   "execution_count": null,
   "metadata": {},
   "outputs": [],
   "source": [
    "data = pd.read_csv('datasets/kc_house_data.csv')"
   ]
  },
  {
   "cell_type": "markdown",
   "metadata": {},
   "source": [
    "##### Respondendo à pergunta"
   ]
  },
  {
   "cell_type": "code",
   "execution_count": null,
   "metadata": {},
   "outputs": [],
   "source": [
    "#Inicializar a API Nominatim\n",
    "geolocator = Nominatim(user_agent='geoapiExercises')\n",
    "\n",
    "for i in range(len (data)):\n",
    "    print('Loop {} / {}'.format(i, len(data)))\n",
    "    query = str(data.loc[i, 'lat']) + ',' + str(data.loc[i, 'long'])\n",
    "\n",
    "    #Chamada na API\n",
    "    response = geolocator.reverse(query)\n",
    "\n",
    "    #Popular as colunas\n",
    "    #As condicionais foram feitas para evitar quebra de inserção, caso não haja alguma das informações pedidas na API\n",
    "    if 'road' in response.raw['address']:\n",
    "        data.loc[i, 'street_name']   = response.raw['address']['road']\n",
    "\n",
    "    if 'house_number' in response.raw['address']:\n",
    "        data.loc[i, 'house_number']  = response.raw['address']['house_number']\n",
    "\n",
    "    if 'neighbourhood' in response.raw['address']:\n",
    "        data.loc[i, 'neighbourhood'] = response.raw['address']['neighbourhood']\n",
    "\n",
    "    if 'city' in response.raw['address']:\n",
    "        data.loc[i, 'city']          = response.raw['address']['city']\n",
    "        \n",
    "    if 'state' in response.raw['address']:\n",
    "        data.loc[i, 'state']         = response.raw['address']['state']"
   ]
  },
  {
   "cell_type": "markdown",
   "metadata": {},
   "source": [
    "## 1.3 Adicionar o nível dos imóveis no Mapa como uma cor.\n",
    "\n"
   ]
  },
  {
   "cell_type": "code",
   "execution_count": null,
   "metadata": {},
   "outputs": [],
   "source": [
    "data = pd.read_csv('datasets\\kc_house_data.csv')\n",
    "\n",
    "houses = data[['id', 'lat', 'long', 'price']].copy()\n",
    "\n",
    "#Definir níveis\n",
    "for i in range(len(houses)):\n",
    "    if houses.loc[i,'price'] <= 312950:\n",
    "        houses.loc[i,'level'] = 0\n",
    "\n",
    "    elif (houses.loc[i,'price'] > 321950) & (houses.loc[i,'price'] <= 450000):\n",
    "        houses.loc[i, 'level'] = 1\n",
    "\n",
    "    elif (houses.loc[i,'price'] > 450000) & (houses.loc[i,'price'] <= 645000):\n",
    "        houses.loc[i, 'level'] = 2\n",
    "\n",
    "    else:\n",
    "        houses.loc[i,'level'] = 3\n",
    "\n",
    "fig = px.scatter_mapbox(houses,\n",
    "                        lat = 'lat',\n",
    "                        lon = 'long',\n",
    "                        color ='level',\n",
    "                        size = 'price',\n",
    "                        color_continuous_scale = px.colors.cyclical.IceFire,\n",
    "                        size_max = 15,\n",
    "                        zoom = 10\n",
    "\n",
    ")\n",
    "\n",
    "fig.update_layout(mapbox_style = 'open-street-map')\n",
    "fig.update_layout(height = 600, margin = {'r':0, 't':0, 'l':0, 'b':0})\n",
    "fig.show()"
   ]
  },
  {
   "cell_type": "markdown",
   "metadata": {},
   "source": [
    "## 1.4 Adicionar o Preço dos imóveis como o tamanho do ponto no mapa.\n",
    "\n"
   ]
  },
  {
   "cell_type": "code",
   "execution_count": null,
   "metadata": {},
   "outputs": [],
   "source": [
    "data = pd.read_csv('datasets\\kc_house_data.csv')\n",
    "\n",
    "houses = data[['id', 'lat', 'long', 'price']].copy()\n",
    "\n",
    "#Definir níveis\n",
    "for i in range(len(houses)):\n",
    "    if houses.loc[i,'price'] <= 312950:\n",
    "        houses.loc[i,'level'] = 0\n",
    "\n",
    "    elif (houses.loc[i,'price'] > 321950) & (houses.loc[i,'price'] <= 450000):\n",
    "        houses.loc[i, 'level'] = 1\n",
    "\n",
    "    elif (houses.loc[i,'price'] > 450000) & (houses.loc[i,'price'] <= 645000):\n",
    "        houses.loc[i, 'level'] = 2\n",
    "\n",
    "    else:\n",
    "        houses.loc[i,'level'] = 3\n",
    "\n",
    "fig = px.scatter_mapbox(houses,\n",
    "                        lat = 'lat',\n",
    "                        lon = 'long',\n",
    "                        color ='price',\n",
    "                        color_continuous_scale = px.colors.cyclical.IceFire,\n",
    "                        size_max = 15,\n",
    "                        zoom = 10\n",
    "\n",
    ")\n",
    "\n",
    "fig.update_layout(mapbox_style = 'open-street-map')\n",
    "fig.update_layout(height = 600, margin = {'r':0, 't':0, 'l':0, 'b':0})\n",
    "fig.show()"
   ]
  },
  {
   "cell_type": "markdown",
   "metadata": {},
   "source": [
    "## 1.5 Adicionar opções de filtros para eu fazer minhas próprias análises:\n",
    "- Eu quero escolher visualizar imóveis com vista para água ou não.\n",
    "- Eu quero filtrar os imóveis até um certo valor de preço.\n",
    "\n"
   ]
  },
  {
   "cell_type": "code",
   "execution_count": null,
   "metadata": {},
   "outputs": [],
   "source": [
    "data = pd.read_csv('datasets\\kc_house_data.csv')\n",
    "\n",
    "data['is_waterfront'] = data['waterfront'].apply(lambda x: 'yes' if x == 1 else 'no')\n",
    "\n",
    "data['level'] = data['price'].apply(lambda x:   0 if x <= 312950 else\n",
    "                                                1 if (x > 321950) & (x <= 450000) else\n",
    "                                                2 if (x > 450000) & (x <= 645000) else\n",
    "                                                3 )  \n",
    "\n",
    "style = {'description_width' : 'initial'}\n",
    "\n",
    "\n",
    "price_limit = widgets.IntSlider( value = 540000,\n",
    "                                 min = 75000,\n",
    "                                 max = 77000000,\n",
    "                                 step = 1, #variação quando o slice é mudado de posição\n",
    "                                 description = 'Maior preço',\n",
    "                                 disable = False,\n",
    "                                 style = style\n",
    "                                )\n",
    "\n",
    "#Criando o botão de filtro de vista pra água\n",
    "waterfront_bar = widgets.Dropdown(  options     = data['is_waterfront'].unique().tolist(),\n",
    "                                    value       = 'yes',\n",
    "                                    disable     = False,\n",
    "                                    description = 'Vista água?'\n",
    "                                  )\n",
    "\n",
    "\n",
    "#Definindo a função que vai fazer com que os botões interajam com o mapa\n",
    "\n",
    "def update_map (data, waterfront, limit):\n",
    "    houses = data [ (data['price'] <= limit) & (data['is_waterfront'] == waterfront) ][['id', 'lat','long', 'price', 'level']] #Filtro do dataset pra interagir com o mapa\n",
    "\n",
    "    fig = px.scatter_mapbox(houses,\n",
    "                            lat = 'lat',\n",
    "                            lon = 'long',\n",
    "                            color ='level',\n",
    "                            size = 'price',\n",
    "                            color_continuous_scale = px.colors.cyclical.IceFire,\n",
    "                            size_max = 15,\n",
    "                            zoom = 10\n",
    "\n",
    "    )\n",
    "\n",
    "    fig.update_layout(mapbox_style = 'open-street-map')\n",
    "    fig.update_layout(height = 600, margin = {'r':0, 't':0, 'l':0, 'b':0})\n",
    "    fig.show()\n",
    "\n",
    "#Plot do mapa com os botões\n",
    "widgets.interactive(update_map, data = fixed (data), waterfront = waterfront_bar, limit = price_limit)"
   ]
  },
  {
   "cell_type": "markdown",
   "metadata": {},
   "source": [
    "## 1.6 Adicionar opções de filtros no último dashboard enviado:\n",
    "- Eu quero visualizar somente valor a partir de um data disponível para compra.\n",
    "\n"
   ]
  },
  {
   "cell_type": "code",
   "execution_count": null,
   "metadata": {},
   "outputs": [],
   "source": [
    "data = pd.read_csv('datasets\\kc_house_data.csv')\n",
    "\n",
    "#Alterar formato da coluna de data \n",
    "data['year'] = pd.to_datetime( data['date'] ).dt.strftime( '%Y' )\n",
    "data['date'] = pd.to_datetime( data['date'] ).dt.strftime( '%Y-%m-%d' )\n",
    "data['year_week'] = pd.to_datetime( data['date'] ).dt.strftime( '%Y-%U' )\n",
    "\n",
    "#Criar o botão de disponibilidade a partir da data selecionada para o mapa\n",
    "date_limit = widgets.SelectionSlider( options=data['date'].sort_values().unique().tolist(),\n",
    "                                      value = '2014-12-01',\n",
    "                                      description = 'Disponivel',\n",
    "                                      continuous_update=False,\n",
    "                                      orientation='horizontal',\n",
    "                                      readout=True )\n",
    "\n",
    "#Definir a função que cria o mapa com o botão\n",
    "def update_map(data, limit):\n",
    "    data = data[data['date'] >= limit].copy()\n",
    "\n",
    "    fig = plt.figure(figsize = (12,12))\n",
    "    specs = gridspec.GridSpec(ncols = 2, nrows = 2, figure = fig)\n",
    "\n",
    "    ax1 = fig.add_subplot(specs[0,:])\n",
    "    ax2 = fig.add_subplot(specs[1,0])\n",
    "    ax3 = fig.add_subplot(specs[1,1])\n",
    "\n",
    "    by_year = data[['id', 'year']].groupby( 'year').sum().reset_index()\n",
    "    ax1.bar( by_year['year'], by_year['id'] )\n",
    "\n",
    "    by_day = data[['id', 'date']].groupby( 'date').mean().reset_index()\n",
    "    ax2.plot( by_day['date'], by_day['id'] )\n",
    "    ax2.set_title( 'title: Média de preço por dia' )\n",
    "\n",
    "    by_week_of_year = data[['id', 'year_week']].groupby( 'year_week').mean().reset_index()\n",
    "    ax3.bar( by_week_of_year['year_week'], by_week_of_year['id'] )\n",
    "    ax3.set_title( 'title: Média de preço por semana do ano' )\n",
    "    \n",
    "    plt.xticks( rotation=60 )\n",
    "\n",
    "\n",
    "widgets.interactive( update_map, data=fixed( data ), limit=date_limit)\n"
   ]
  },
  {
   "cell_type": "markdown",
   "metadata": {},
   "source": [
    "# 2. Exercícios"
   ]
  },
  {
   "cell_type": "markdown",
   "metadata": {},
   "source": [
    "## 2.1 Qual a média do preço de compra dos imóveis por “Nível”?\n",
    " - Nivel 0: Preço entre R$ 0.00 e R$ 321.950\n",
    " - Nivel 1: Preço entre R$ 321.950 e R$ 450.000\n",
    " - Nivel 2: Preço entre R$ 450.000 e R$ 645.000\n",
    " - Nivel 3: Preço acima de R$ 645.000"
   ]
  },
  {
   "cell_type": "code",
   "execution_count": 3,
   "metadata": {},
   "outputs": [],
   "source": [
    "data['level'] = data['price'].apply(lambda x: 0 if (x >=0) & (x <=321950)  else\n",
    "                                              1 if (x > 321950) & (x <=450000) else\n",
    "                                              2 if (x > 450000) & (x <=645000) else\n",
    "                                              3)"
   ]
  },
  {
   "cell_type": "markdown",
   "metadata": {},
   "source": [
    "##### Compare as saídas dos dois scripts e entenda o porquê de usar o reset index"
   ]
  },
  {
   "cell_type": "code",
   "execution_count": null,
   "metadata": {},
   "outputs": [],
   "source": [
    "data.groupby('level')['price'].mean()"
   ]
  },
  {
   "cell_type": "code",
   "execution_count": null,
   "metadata": {},
   "outputs": [],
   "source": [
    "data.groupby('level')['price'].mean().reset_index()"
   ]
  },
  {
   "cell_type": "markdown",
   "metadata": {},
   "source": [
    "## 2.2 Qual a média do tamanho da sala de estar dos imóveis por “Size” ?\n",
    " - Size 0 -> Tamanho entre 0 e 1427 sqft\n",
    " - Size 1 -> Tamanho entre 1427 e 1910 sqft\n",
    " - Size 2 -> Tamanho entre 1910 e 2550 sqft\n",
    " - Size 3 -> Tamanho acima de 2550 sqft\n"
   ]
  },
  {
   "cell_type": "code",
   "execution_count": 4,
   "metadata": {},
   "outputs": [],
   "source": [
    "data['size'] = data['sqft_living'].apply(lambda x: 0 if (x >= 0) & (x <= 1427) else\n",
    "                                                   1 if (x > 1427) & (x <= 1910) else\n",
    "                                                   2 if (x > 1910) & (x <= 2550) else\n",
    "                                                   3)"
   ]
  },
  {
   "cell_type": "markdown",
   "metadata": {},
   "source": [
    "## 2.3 Adicione as seguinte informações ao conjunto de dados original:\n",
    " - Place ID: Identificação da localização\n",
    " - OSM Type: Open Street Map type\n",
    " - Country: Nome do País\n",
    " - Country Code: Código do País\n",
    "\n"
   ]
  },
  {
   "cell_type": "code",
   "execution_count": null,
   "metadata": {},
   "outputs": [],
   "source": [
    "#Inicializar a API Nominatim (serviço de geolocalização)\n",
    "geolocator = Nominatim(user_agent=\"geoapiExercises\")\n",
    "\n",
    "#Loop para preecher as colunas com as novas informações\n",
    "for i in range( len(data) ):\n",
    "    query = str(data.loc[i, 'lat']) + ',' + str(data.loc[i, 'long'])\n",
    "    location = geolocator.reverse(query)\n",
    "\n",
    "    if 'place_id' in location:\n",
    "        data.loc[i, 'placeID'] = location['place_id']\n",
    "    \n",
    "    if 'osm_type' in location:\n",
    "        data.loc[i,'osm_type'] = location['osm_type']\n",
    "\n",
    "    if 'country' in location:\n",
    "        data.loc[i, 'country'] = location['adress']['country']\n",
    "        \n",
    "    if 'country_code' in location:\n",
    "        data.loc[i, 'coutry_code'] = location['adress']['country_code']\n",
    "\n",
    "data.head(1)\n"
   ]
  },
  {
   "cell_type": "markdown",
   "metadata": {},
   "source": [
    "##### Usando paralelismo\n",
    "- multi-Thread -> a odem de execução do processo importa\n",
    "- async -> odem de execução do processo importa"
   ]
  },
  {
   "cell_type": "code",
   "execution_count": 9,
   "metadata": {},
   "outputs": [],
   "source": [
    "#Criar uma coluna com lat e long concatenados por ,\n",
    "data['query'] = data[['lat', 'long']].apply(lambda x: str(x['lat']) + ',' + str(x['long']), axis = 1) #axis = 1, porque o concat é linha a linha, já que temos 2 colunas no apply"
   ]
  },
  {
   "cell_type": "code",
   "execution_count": 11,
   "metadata": {},
   "outputs": [],
   "source": [
    "import MD_defs\n",
    "\n",
    "df1 = data[['id', 'query']].head()\n",
    "\n",
    "pool = Pool(3) #usar 3 cores da máquina (3 workers)\n",
    "\n",
    "start = time.process_time() #starta a contagem do tempo\n",
    "\n",
    "df1[['place_id', 'osm_type', 'country', 'country_code']] = pool.map(MD_defs.get_data, df1.iterrows())\n",
    "\n",
    "end = time.process_time() #starta a contagem do tempo\n",
    "\n",
    "print('Time Elapsed: {}', end-start)"
   ]
  },
  {
   "cell_type": "markdown",
   "metadata": {},
   "source": [
    "## 2.4 Adicione os seguinte filtros no Mapa: \n",
    " - Tamanho mínimo da área da sala de estar.\n",
    " - Número mínimo de banheiros\n",
    " - Valor Máximo do Preço\n",
    " - Tamanho máximo da área do porão\n",
    " - Filtro das Condições do Imóvel\n",
    " - Filtro por Ano de Construção\n"
   ]
  },
  {
   "cell_type": "code",
   "execution_count": null,
   "metadata": {},
   "outputs": [],
   "source": [
    "style = {'description_width' : 'initial'}\n",
    "\n",
    "#Botão level\n",
    "data['level'] = data['price'].apply(lambda x:   0 if x <= 312950 else\n",
    "                                                1 if (x > 321950) & (x <= 450000) else\n",
    "                                                2 if (x > 450000) & (x <= 645000) else\n",
    "                                                3 )  \n",
    "\n",
    "#Botão vista pra água\n",
    "data['is_waterfront'] = data['waterfront'].apply(lambda x: 'yes' if x == 1 else 'no')\n",
    "bt_waterfront = widgets.Dropdown(  options     = data['is_waterfront'].unique().tolist(),\n",
    "                                    value       = 'no',\n",
    "                                    disable     = False,\n",
    "                                    description = 'Vista para água?',\n",
    "                                    style={'description_width': 'initial'}\n",
    "                                  )\n",
    "\n",
    "\n",
    "#Botão tamanho mínimo da sala de estar\n",
    "bt_lv_room = widgets.FloatSlider(\n",
    "                value = 2000.0,\n",
    "                min = data['sqft_living'].min(),\n",
    "                max = data['sqft_living'].max(),\n",
    "                step = 0.1,\n",
    "                description = 'Tamanho mínimo da sala:',\n",
    "                disabled = False,\n",
    "                orientation = 'horizontal',\n",
    "                style={'description_width': 'initial'}\n",
    ")\n",
    "\n",
    "#Botão número mínimo de banheiros\n",
    "bt_bathrooms = widgets.IntSlider(\n",
    "                value = data['bathrooms'].min(),\n",
    "                min = data['bathrooms'].min(),\n",
    "                max = data['bathrooms'].max(),\n",
    "                step = 1,\n",
    "                description = 'Número mínimo de banheiros:',\n",
    "                disabled = False,\n",
    "                style={'description_width': 'initial'}\n",
    ")\n",
    "\n",
    "#Botão valor máximo do preço\n",
    "bt_price = widgets.FloatSlider(\n",
    "                value = 3300000,\n",
    "                min = data['price'].min(),\n",
    "                max = data['price'].max(),\n",
    "                step = 0.1,\n",
    "                description = 'Preço máximo do imóvel:',\n",
    "                disabled = False,\n",
    "                style={'description_width': 'initial'}\n",
    ")\n",
    "\n",
    "#Botão tamanho máximo área do porão\n",
    "bt_basement = widgets.IntSlider(\n",
    "                value = 1000,\n",
    "                min = data['sqft_basement'].min(),\n",
    "                max = data['sqft_basement'].max(),\n",
    "                step = 1,\n",
    "                description = 'Tamanho máximo do porão:',\n",
    "                disabled = False,\n",
    "                style={'description_width': 'initial'}\n",
    ")\n",
    "\n",
    "#Botão ano de condição\n",
    "bt_condition = widgets.IntSlider(\n",
    "                value = data['condition'].min(),\n",
    "                min = data['condition'].min() ,\n",
    "                max = data['condition'].max(),\n",
    "                step = 1,\n",
    "                description = 'Condição do imóvel:',\n",
    "                disabled = False,\n",
    "                style={'description_width': 'initial'}\n",
    ")\n",
    "\n",
    "#Botão ano de construção\n",
    "bt_yr_built = widgets.IntSlider(\n",
    "                value = data['yr_built'].min(),\n",
    "                min = data['yr_built'].min(),\n",
    "                max = data['yr_built'].max(),\n",
    "                step = 1,\n",
    "                description = 'Ano de construção:',\n",
    "                disabled = False,\n",
    "                style={'description_width': 'initial'}\n",
    ")\n",
    "\n",
    "#Criar o mapa\n",
    "def func_housesmap(df, waterfront, price, lv_room, bathrooms, basement, condition, yr_built):\n",
    "\n",
    "    houses = df[(df['is_waterfront'] == waterfront) & \n",
    "                  (df['price'] <= price) & \n",
    "                  (df['sqft_living'] >= lv_room) & \n",
    "                  (df['bathrooms'] >= bathrooms) & \n",
    "                  (df['price'] <= price) & \n",
    "                  (df['sqft_basement'] <= basement) & \n",
    "                  (df['condition'] >= condition) & \n",
    "                  (df['yr_built'] >= yr_built)][['id', 'lat','long', 'price', 'level']]          \n",
    "    \n",
    "    fig = px.scatter_mapbox( houses, \n",
    "                             lat = 'lat',\n",
    "                             lon = 'long',\n",
    "                             color = 'level',\n",
    "                             size = 'price',\n",
    "                             color_continuous_scale = px.colors.cyclical.IceFire,\n",
    "                             size_max = 15,\n",
    "                             zoom = 8\n",
    "    )\n",
    "    fig.update_layout(mapbox_style = 'open-street-map')\n",
    "    fig.update_layout(height = 600, margin = {'r':0, 't':0, 'l':0, 'b':0})\n",
    "    fig.show()\n",
    "        \n",
    "\n",
    "\n"
   ]
  },
  {
   "cell_type": "code",
   "execution_count": null,
   "metadata": {},
   "outputs": [],
   "source": [
    "#Plotar o mapa com os filtros\n",
    "widgets.interact(func_housesmap, df = fixed(data), waterfront = bt_waterfront,\n",
    "                                                   price = bt_price,\n",
    "                                                   lv_room = bt_lv_room,\n",
    "                                                   bathrooms = bt_bathrooms,\n",
    "                                                   basement = bt_basement,\n",
    "                                                   condition = bt_condition,\n",
    "                                                   yr_built = bt_yr_built\n",
    ")"
   ]
  },
  {
   "cell_type": "markdown",
   "metadata": {},
   "source": [
    "## 2.5 Adicione os seguinte filtros no Dashboard:: \n",
    " - Filtro por data disponível para compra\n",
    " - Filtro por ano de renovação\n",
    " - Filtro se possui vista para a água ou não"
   ]
  },
  {
   "cell_type": "code",
   "execution_count": null,
   "metadata": {},
   "outputs": [],
   "source": [
    "#Alterar formato da coluna de data \n",
    "data['year'] = pd.to_datetime( data['date'] ).dt.strftime( '%Y' )\n",
    "data['date'] = pd.to_datetime( data['date'] ).dt.strftime( '%Y-%m-%d' )\n",
    "data['year_week'] = pd.to_datetime( data['date'] ).dt.strftime( '%Y-%U' )\n",
    "\n",
    "#Criar o botão de disponibilidade a partir da data selecionada para o mapa\n",
    "bt_data_disponivel = widgets.SelectionSlider( options=data['date'].sort_values().unique().tolist(),\n",
    "                                              value = '2014-12-01',\n",
    "                                              description = 'Disponivel',\n",
    "                                              continuous_update=False,\n",
    "                                              orientation='horizontal',\n",
    "                                              readout=True,\n",
    "                                              style={'description_width': 'initial'}\n",
    ")\n",
    "\n",
    "#Botão para ano de renovação\n",
    "bt_ano_renovacao = widgets.IntSlider( value = data['yr_renovated'].min(),\n",
    "                                      min = data['yr_renovated'].min(),\n",
    "                                      max = data['yr_renovated'].max(),\n",
    "                                      step = 1,\n",
    "                                      description = 'Ano de renovação:',\n",
    "                                      disabled = False,\n",
    "                                      style={'description_width': 'initial'}\n",
    ")\n",
    "\n",
    "#Botão vista pra água\n",
    "data['is_waterfront'] = data['waterfront'].apply(lambda x: 'yes' if x == 1 else 'no')\n",
    "bt_waterfront = widgets.Dropdown(  options     = data['is_waterfront'].unique().tolist(),\n",
    "                                    value       = 'no',\n",
    "                                    disable     = False,\n",
    "                                    description = 'Vista para água?',\n",
    "                                    style={'description_width': 'initial'}\n",
    "                                  )\n",
    "\n",
    "#Definir a função que cria o mapa com o botão\n",
    "def update_map(df, disponivel, ano_renovacao, waterfront):\n",
    "    df = data[(data['date'] <= disponivel) & (data['yr_renovated'] >= ano_renovacao) &  (data['waterfront'] == waterfront).copy()]\n",
    "\n",
    "    fig = plt.figure(figsize = (12,12))\n",
    "    specs = gridspec.GridSpec(ncols = 2, nrows = 2, figure = fig)\n",
    "\n",
    "    ax1 = fig.add_subplot(specs[0,:])\n",
    "    ax2 = fig.add_subplot(specs[1,0])\n",
    "    ax3 = fig.add_subplot(specs[1,1])\n",
    "    by_year = data[['id', 'year']].groupby( 'year').sum().reset_index()\n",
    "    ax1.bar( by_year['year'], by_year['id'] )\n",
    "\n",
    "    by_day = data[['id', 'date']].groupby( 'date').mean().reset_index()\n",
    "    ax2.plot( by_day['date'], by_day['id'] )\n",
    "    ax2.set_title( 'title: Média de preço por dia' )\n",
    "\n",
    "    by_week_of_year = data[['id', 'year_week']].groupby( 'year_week').mean().reset_index()\n",
    "    ax3.bar( by_week_of_year['year_week'], by_week_of_year['id'] )\n",
    "    ax3.set_title( 'title: Média de preço por semana do ano' )\n",
    "        \n",
    "    plt.xticks( rotation=60 )\n",
    "\n",
    "\n",
    "\n"
   ]
  },
  {
   "cell_type": "code",
   "execution_count": null,
   "metadata": {},
   "outputs": [],
   "source": [
    "widgets.interactive( update_map, df=fixed( data ), disponivel = bt_data_disponivel, ano_renovacao = bt_ano_renovacao,  waterfront = bt_waterfront)"
   ]
  }
 ],
 "metadata": {
  "interpreter": {
   "hash": "b48ab8baa29243ab304f035f63a357f66f79502c7f334a63d96cbb35ab2463e8"
  },
  "kernelspec": {
   "display_name": "Python 3.10.4 64-bit",
   "language": "python",
   "name": "python3"
  },
  "language_info": {
   "codemirror_mode": {
    "name": "ipython",
    "version": 3
   },
   "file_extension": ".py",
   "mimetype": "text/x-python",
   "name": "python",
   "nbconvert_exporter": "python",
   "pygments_lexer": "ipython3",
   "version": "3.10.4"
  },
  "orig_nbformat": 4
 },
 "nbformat": 4,
 "nbformat_minor": 2
}
