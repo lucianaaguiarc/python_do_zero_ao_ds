{
 "cells": [
  {
   "cell_type": "markdown",
   "metadata": {},
   "source": [
    "# 0. Carregando os dados e bibliotecas"
   ]
  },
  {
   "cell_type": "code",
   "execution_count": null,
   "metadata": {},
   "outputs": [],
   "source": [
    "import pandas as pd\n",
    "import numpy as np\n",
    "import plotly.express as px\n",
    "pd.set_option('display.float_format', lambda x: '%.2f' % x)\n",
    "from matplotlib import pyplot as plt\n",
    "from matplotlib import gridspec #Para fazer os dashs\n",
    "#Foram adicionados por conta de erro de renderização no mapa (ex1.10), utilizando o VS Code. Caso sua IDE não tenha o erro, não é necessário\n",
    "#Erro: No renderer could be found for mimetype \"application/vnd.plotly.v1+json\"\n",
    "import plotly.io as pio\n",
    "pio.renderers.default = \"notebook_connected\"\n",
    "from geopy.geocoders import Nominatim\n",
    "import ipywidgets as widgets\n",
    "from ipywidgets import fixed"
   ]
  },
  {
   "cell_type": "code",
   "execution_count": null,
   "metadata": {},
   "outputs": [],
   "source": [
    "data = pd.read_csv('datasets/kc_house_data.csv')"
   ]
  },
  {
   "cell_type": "markdown",
   "metadata": {},
   "source": [
    "# 1. Respondendo às perguntas de negócio"
   ]
  },
  {
   "cell_type": "markdown",
   "metadata": {},
   "source": [
    "## 1.1 Qual a quantidade de imóveis por nível?\n",
    " - Nivel 0: Preço entre R$ 0.00 e R$ 321.950\n",
    " - Nivel 1: Preço entre R$ 321.950 e R$ 450.000\n",
    " - Nivel 2: Preço entre R$ 450.000 e R$ 645.000\n",
    " - Nivel 3: Preço acima de R$ 645.000"
   ]
  },
  {
   "cell_type": "code",
   "execution_count": null,
   "metadata": {},
   "outputs": [],
   "source": [
    "for i in range (len(data)):\n",
    "    if (data.loc[i, 'price'] >= 0) & (data.loc[i, 'price'] <= 321950):\n",
    "        data.loc[i, 'level'] = 'nivel_0'\n",
    "\n",
    "    elif (data.loc[i, 'price'] > 321950) & (data.loc[i, 'price'] <= 450000):\n",
    "        data.loc[i, 'level'] = 'nivel_1'\n",
    "\n",
    "    elif (data.loc[i, 'price'] > 450000) & (data.loc[i, 'price'] <= 645000):\n",
    "        data.loc[i, 'level'] = 'nivel_2'\n",
    "\n",
    "    elif (data.loc[i, 'price'] > 645000) :\n",
    "        data.loc[i, 'level'] = 'nivel_3'\n",
    "        \n",
    "    else:\n",
    "        data[i, 'level'] = 'NA'"
   ]
  },
  {
   "cell_type": "code",
   "execution_count": null,
   "metadata": {},
   "outputs": [],
   "source": [
    "data['level'].unique()"
   ]
  },
  {
   "cell_type": "code",
   "execution_count": null,
   "metadata": {},
   "outputs": [],
   "source": [
    "data.groupby('level')['id'].count()"
   ]
  },
  {
   "cell_type": "markdown",
   "metadata": {},
   "source": [
    "## 1.2 Adicione as seguintes informações ao imóvel:\n",
    " - O nome da Rua\n",
    " - O número do imóvel\n",
    " - O nome do Bairro\n",
    " - O nome da Cidade\n",
    " - O nome da Estado\n",
    "\n"
   ]
  },
  {
   "cell_type": "markdown",
   "metadata": {},
   "source": [
    "##### Exemplo de uma chamada"
   ]
  },
  {
   "cell_type": "code",
   "execution_count": null,
   "metadata": {},
   "outputs": [],
   "source": [
    "#Inicializar a API Nominatim\n",
    "geolocator = Nominatim(user_agent='geoapiExercises')\n",
    "\n",
    "response = geolocator.reverse('47.5112, -122.257') #nome padrão para guardar chamadas de API. Poderia ser outro nome."
   ]
  },
  {
   "cell_type": "code",
   "execution_count": null,
   "metadata": {},
   "outputs": [],
   "source": [
    "#Visualizar os dados da chamada de exemplo\n",
    "response.raw"
   ]
  },
  {
   "cell_type": "code",
   "execution_count": null,
   "metadata": {},
   "outputs": [],
   "source": [
    "data = pd.read_csv('datasets/kc_house_data.csv')"
   ]
  },
  {
   "cell_type": "markdown",
   "metadata": {},
   "source": [
    "##### Respondendo à pergunta"
   ]
  },
  {
   "cell_type": "code",
   "execution_count": null,
   "metadata": {},
   "outputs": [],
   "source": [
    "#Inicializar a API Nominatim\n",
    "geolocator = Nominatim(user_agent='geoapiExercises')\n",
    "\n",
    "for i in range(len (data)):\n",
    "    print('Loop {} / {}'.format(i, len(data)))\n",
    "    query = str(data.loc[i, 'lat']) + ',' + str(data.loc[i, 'long'])\n",
    "\n",
    "    #Chamada na API\n",
    "    response = geolocator.reverse(query)\n",
    "\n",
    "    #Popular as colunas\n",
    "    #As condicionais foram feitas para evitar quebra de inserção, caso não haja alguma das informações pedidas na API\n",
    "    if 'road' in response.raw['address']:\n",
    "        data.loc[i, 'street_name']   = response.raw['address']['road']\n",
    "\n",
    "    if 'house_number' in response.raw['address']:\n",
    "        data.loc[i, 'house_number']  = response.raw['address']['house_number']\n",
    "\n",
    "    if 'neighbourhood' in response.raw['address']:\n",
    "        data.loc[i, 'neighbourhood'] = response.raw['address']['neighbourhood']\n",
    "\n",
    "    if 'city' in response.raw['address']:\n",
    "        data.loc[i, 'city']          = response.raw['address']['city']\n",
    "        \n",
    "    if 'state' in response.raw['address']:\n",
    "        data.loc[i, 'state']         = response.raw['address']['state']"
   ]
  },
  {
   "cell_type": "markdown",
   "metadata": {},
   "source": [
    "## 1.3 Adicionar o nível dos imóveis no Mapa como uma cor.\n",
    "\n"
   ]
  },
  {
   "cell_type": "code",
   "execution_count": null,
   "metadata": {},
   "outputs": [],
   "source": [
    "data = pd.read_csv('datasets\\kc_house_data.csv')\n",
    "\n",
    "houses = data[['id', 'lat', 'long', 'price']].copy()\n",
    "\n",
    "#Definir níveis\n",
    "for i in range(len(houses)):\n",
    "    if houses.loc[i,'price'] <= 312950:\n",
    "        houses.loc[i,'level'] = 0\n",
    "\n",
    "    elif (houses.loc[i,'price'] > 321950) & (houses.loc[i,'price'] <= 450000):\n",
    "        houses.loc[i, 'level'] = 1\n",
    "\n",
    "    elif (houses.loc[i,'price'] > 450000) & (houses.loc[i,'price'] <= 645000):\n",
    "        houses.loc[i, 'level'] = 2\n",
    "\n",
    "    else:\n",
    "        houses.loc[i,'level'] = 3\n",
    "\n",
    "fig = px.scatter_mapbox(houses,\n",
    "                        lat = 'lat',\n",
    "                        lon = 'long',\n",
    "                        color ='level',\n",
    "                        size = 'price',\n",
    "                        color_continuous_scale = px.colors.cyclical.IceFire,\n",
    "                        size_max = 15,\n",
    "                        zoom = 10\n",
    "\n",
    ")\n",
    "\n",
    "fig.update_layout(mapbox_style = 'open-street-map')\n",
    "fig.update_layout(height = 600, margin = {'r':0, 't':0, 'l':0, 'b':0})\n",
    "fig.show()"
   ]
  },
  {
   "cell_type": "markdown",
   "metadata": {},
   "source": [
    "## 1.4 Adicionar o Preço dos imóveis como o tamanho do ponto no mapa.\n",
    "\n"
   ]
  },
  {
   "cell_type": "code",
   "execution_count": null,
   "metadata": {},
   "outputs": [],
   "source": [
    "data = pd.read_csv('datasets\\kc_house_data.csv')\n",
    "\n",
    "houses = data[['id', 'lat', 'long', 'price']].copy()\n",
    "\n",
    "#Definir níveis\n",
    "for i in range(len(houses)):\n",
    "    if houses.loc[i,'price'] <= 312950:\n",
    "        houses.loc[i,'level'] = 0\n",
    "\n",
    "    elif (houses.loc[i,'price'] > 321950) & (houses.loc[i,'price'] <= 450000):\n",
    "        houses.loc[i, 'level'] = 1\n",
    "\n",
    "    elif (houses.loc[i,'price'] > 450000) & (houses.loc[i,'price'] <= 645000):\n",
    "        houses.loc[i, 'level'] = 2\n",
    "\n",
    "    else:\n",
    "        houses.loc[i,'level'] = 3\n",
    "\n",
    "fig = px.scatter_mapbox(houses,\n",
    "                        lat = 'lat',\n",
    "                        lon = 'long',\n",
    "                        color ='price',\n",
    "                        color_continuous_scale = px.colors.cyclical.IceFire,\n",
    "                        size_max = 15,\n",
    "                        zoom = 10\n",
    "\n",
    ")\n",
    "\n",
    "fig.update_layout(mapbox_style = 'open-street-map')\n",
    "fig.update_layout(height = 600, margin = {'r':0, 't':0, 'l':0, 'b':0})\n",
    "fig.show()"
   ]
  },
  {
   "cell_type": "markdown",
   "metadata": {},
   "source": [
    "## 1.5 Adicionar opções de filtros para eu fazer minhas próprias análises:\n",
    "- Eu quero escolher visualizar imóveis com vista para água ou não.\n",
    "- Eu quero filtrar os imóveis até um certo valor de preço.\n",
    "\n"
   ]
  },
  {
   "cell_type": "code",
   "execution_count": null,
   "metadata": {},
   "outputs": [],
   "source": [
    "data = pd.read_csv('datasets\\kc_house_data.csv')\n",
    "\n",
    "data['is_waterfront'] = data['waterfront'].apply(lambda x: 'yes' if x == 1 else 'no')\n",
    "\n",
    "data['level'] = data['price'].apply(lambda x:   0 if x <= 312950 else\n",
    "                                                1 if (x > 321950) & (x <= 450000) else\n",
    "                                                2 if (x > 450000) & (x <= 645000) else\n",
    "                                                3 )  \n",
    "\n",
    "style = {'description_width' : 'initial'}\n",
    "\n",
    "\n",
    "price_limit = widgets.IntSlider( value = 540000,\n",
    "                                 min = 75000,\n",
    "                                 max = 77000000,\n",
    "                                 step = 1, #variação quando o slice é mudado de posição\n",
    "                                 description = 'Maior preço',\n",
    "                                 disable = False,\n",
    "                                 style = style\n",
    "                                )\n",
    "\n",
    "#Criando o botão de filtro de vista pra água\n",
    "waterfront_bar = widgets.Dropdown(  options     = data['is_waterfront'].unique().tolist(),\n",
    "                                    value       = 'yes',\n",
    "                                    disable     = False,\n",
    "                                    description = 'Vista água?'\n",
    "                                  )\n",
    "\n",
    "\n",
    "#Definindo a função que vai fazer com que os botões interajam com o mapa\n",
    "\n",
    "def update_map (data, waterfront, limit):\n",
    "    houses = data [ (data['price'] <= limit) & (data['is_waterfront'] == waterfront) ][['id', 'lat','long', 'price', 'level']] #botões para interagir com o mapa\n",
    "\n",
    "    fig = px.scatter_mapbox(houses,\n",
    "                            lat = 'lat',\n",
    "                            lon = 'long',\n",
    "                            color ='level',\n",
    "                            size = 'price',\n",
    "                            color_continuous_scale = px.colors.cyclical.IceFire,\n",
    "                            size_max = 15,\n",
    "                            zoom = 10\n",
    "\n",
    "    )\n",
    "\n",
    "    fig.update_layout(mapbox_style = 'open-street-map')\n",
    "    fig.update_layout(height = 600, margin = {'r':0, 't':0, 'l':0, 'b':0})\n",
    "    fig.show()\n",
    "\n",
    "#Plot do mapa com os botões\n",
    "widgets.interactive(update_map, data = fixed (data), waterfront = waterfront_bar, limit = price_limit)"
   ]
  },
  {
   "cell_type": "markdown",
   "metadata": {},
   "source": [
    "## 1.6 Adicionar opções de filtros no último dashboard enviado:\n",
    "- Eu quero visualizar somente valor a partir de um data disponível para compra.\n",
    "\n"
   ]
  },
  {
   "cell_type": "code",
   "execution_count": null,
   "metadata": {},
   "outputs": [],
   "source": [
    "data = pd.read_csv('datasets\\kc_house_data.csv')\n",
    "\n",
    "#Alterar formato da coluna de data \n",
    "data['year'] = pd.to_datetime( data['date'] ).dt.strftime( '%Y' )\n",
    "data['date'] = pd.to_datetime( data['date'] ).dt.strftime( '%Y-%m-%d' )\n",
    "data['year_week'] = pd.to_datetime( data['date'] ).dt.strftime( '%Y-%U' )\n",
    "\n",
    "#Criar o botão de disponibilidade a partir da data selecionada para o mapa\n",
    "date_limit = widgets.SelectionSlider( options=data['date'].sort_values().unique().tolist(),\n",
    "                                      value = '2014-12-01',\n",
    "                                      description = 'Disponivel',\n",
    "                                      continuous_update=False,\n",
    "                                      orientation='horizontal',\n",
    "                                      readout=True )\n",
    "\n",
    "#Definir a função que cria o mapa com o botão\n",
    "def update_map(data, limit):\n",
    "    data = data[data['date'] >= limit].copy()\n",
    "\n",
    "    fig = plt.figure(figsize = (12,12))\n",
    "    specs = gridspec.GridSpec(ncols = 2, nrows = 2, figure = fig)\n",
    "\n",
    "    ax1 = fig.add_subplot(specs[0,:])\n",
    "    ax2 = fig.add_subplot(specs[1,0])\n",
    "    ax3 = fig.add_subplot(specs[1,1])\n",
    "\n",
    "    by_year = data[['id', 'year']].groupby( 'year').sum().reset_index()\n",
    "    ax1.bar( by_year['year'], by_year['id'] )\n",
    "\n",
    "    by_day = data[['id', 'date']].groupby( 'date').mean().reset_index()\n",
    "    ax2.plot( by_day['date'], by_day['id'] )\n",
    "    ax2.set_title( 'title: Média de preço por dia' )\n",
    "\n",
    "    by_week_of_year = data[['id', 'year_week']].groupby( 'year_week').mean().reset_index()\n",
    "    ax3.bar( by_week_of_year['year_week'], by_week_of_year['id'] )\n",
    "    ax3.set_title( 'title: Média de preço por semana do ano' )\n",
    "    \n",
    "    plt.xticks( rotation=60 )\n",
    "\n",
    "\n",
    "widgets.interactive( update_map, data=fixed( data ), limit=date_limit)\n"
   ]
  }
 ],
 "metadata": {
  "interpreter": {
   "hash": "b48ab8baa29243ab304f035f63a357f66f79502c7f334a63d96cbb35ab2463e8"
  },
  "kernelspec": {
   "display_name": "Python 3.10.4 64-bit",
   "language": "python",
   "name": "python3"
  },
  "language_info": {
   "codemirror_mode": {
    "name": "ipython",
    "version": 3
   },
   "file_extension": ".py",
   "mimetype": "text/x-python",
   "name": "python",
   "nbconvert_exporter": "python",
   "pygments_lexer": "ipython3",
   "version": "3.10.4"
  },
  "orig_nbformat": 4
 },
 "nbformat": 4,
 "nbformat_minor": 2
}
