{
 "cells": [
  {
   "cell_type": "markdown",
   "metadata": {},
   "source": [
    "# 0. Carregando os dados e bibliotecas"
   ]
  },
  {
   "cell_type": "code",
   "execution_count": null,
   "metadata": {},
   "outputs": [],
   "source": [
    "import pandas as pd"
   ]
  },
  {
   "cell_type": "code",
   "execution_count": null,
   "metadata": {},
   "outputs": [],
   "source": [
    "data = pd.read_csv('datasets/kc_house_data.csv')"
   ]
  },
  {
   "cell_type": "markdown",
   "metadata": {},
   "source": [
    "# Exercícios"
   ]
  },
  {
   "cell_type": "markdown",
   "metadata": {},
   "source": [
    "## 1. Quantas casas estão disponíveis para compra?\n",
    "### R: 21 613 casas"
   ]
  },
  {
   "cell_type": "code",
   "execution_count": null,
   "metadata": {},
   "outputs": [],
   "source": [
    "#Primeiro modo:\n",
    "#Estratégia:\n",
    "# Usar o método shape\n",
    "# A propriedade shape retorna respectivamente a quantidade de linhas e colunas do conjunto de dados\n",
    "#Sendo assim, o total de itens (casas) à venda corresponde ao total de linhas, 21 613.\n",
    "\n",
    "#data.shape\n",
    "\n",
    "\n",
    "\n",
    "# Segundo modo\n",
    "# Estratégia:\n",
    "# 1º) Selecionar apenas os IDs distintos\n",
    "# 2º Contar esses IDs\n",
    "\n",
    "total_casas = len (data['id'].unique()) \n",
    "total_casas\n"
   ]
  },
  {
   "cell_type": "markdown",
   "metadata": {},
   "source": [
    "## 2.Quantos atributos as casas possuem?\n",
    "### R: 21 atributos"
   ]
  },
  {
   "cell_type": "code",
   "execution_count": null,
   "metadata": {},
   "outputs": [],
   "source": [
    "data.shape\n",
    "\n",
    "# A propriedade shape retorna respectivamente a quantidade de linhas e colunas do conjunto de dados\n",
    "#Sendo assim, o total de atributos das casas corresponde a 21\n",
    "\n"
   ]
  },
  {
   "cell_type": "markdown",
   "metadata": {},
   "source": [
    "## 3.Quais são os atributos das casas?\n",
    "### R: listado no resultado abaixo"
   ]
  },
  {
   "cell_type": "code",
   "execution_count": null,
   "metadata": {
    "scrolled": true
   },
   "outputs": [],
   "source": [
    "print( data.columns )\n",
    "\n",
    "#Para converter a série do resultado em lista, pode-se usar o tolist\n",
    "\n",
    "v_tolist = data.columns\n",
    "\n",
    "v_tolist.tolist()"
   ]
  },
  {
   "cell_type": "markdown",
   "metadata": {},
   "source": [
    "## 4.Qual a casa mais cara ( casa com o maior valor de venda )?\n",
    "### R: A casa de ID 6762700020\tcom o custo de  7.700.000 "
   ]
  },
  {
   "cell_type": "code",
   "execution_count": null,
   "metadata": {
    "scrolled": true
   },
   "outputs": [],
   "source": [
    "#Mostra o conjunto de dados ordenado pela coluna price do maior para o menor\n",
    "data[['id','price']].sort_values('price', ascending = False )\n",
    "\n",
    "\n",
    "#Se pedisse apenas o valor da casa mais cara:\n",
    "#data[['price']].max()\n",
    "\n"
   ]
  },
  {
   "cell_type": "markdown",
   "metadata": {},
   "source": [
    "## 5.Qual a casa com o maior número de quartos?\n",
    "### R: A casa de ID 2402100895\tcom 33 quartos"
   ]
  },
  {
   "cell_type": "code",
   "execution_count": null,
   "metadata": {},
   "outputs": [],
   "source": [
    "#Mostra o conjunto de dados ordenado pela coluna price do maior para o menor\n",
    "data[['id','bedrooms']].sort_values('bedrooms', ascending = False )\n"
   ]
  },
  {
   "cell_type": "markdown",
   "metadata": {},
   "source": [
    "## 6.Qual a soma total de quartos do conjunto de dados?\n",
    "### R: Total de 72.854 quartos"
   ]
  },
  {
   "cell_type": "code",
   "execution_count": null,
   "metadata": {},
   "outputs": [],
   "source": [
    "#Mostra o conjunto de dados ordenado pela coluna price do maior para o menor\n",
    "data[['bedrooms']].sum()\n"
   ]
  },
  {
   "cell_type": "markdown",
   "metadata": {},
   "source": [
    "## 7.Quantas casas possuem 2 banheiros?\n",
    "### R: Total de 72.854 quartos"
   ]
  },
  {
   "cell_type": "code",
   "execution_count": null,
   "metadata": {
    "scrolled": true
   },
   "outputs": [],
   "source": [
    "# Primeiro modo\n",
    "\n",
    "# 1. cria uma variável para filtrar apenas as casas com dois banheiros\n",
    "#data_mask = data['bathrooms'] == 2\n",
    "# 2 mostra o conjunto de dados filtrado de acordo com a variável\n",
    "#df_filtrado = data[data_mask]\n",
    "#print(df_filtrado[['bathrooms']].count())\n",
    "\n",
    "\n",
    "#Segundo modo (mais simples)\n",
    "(data[['bathrooms']] == 2).sum()\n"
   ]
  },
  {
   "cell_type": "markdown",
   "metadata": {},
   "source": [
    "## 8.Qual o preço médio de todas as casas no conjunto de dados?\n",
    "### R: Em média 540.088,14"
   ]
  },
  {
   "cell_type": "code",
   "execution_count": null,
   "metadata": {},
   "outputs": [],
   "source": [
    "# Calcula a média da coluna price\n",
    "\n",
    "media_preco = data[['price']].mean()\n",
    "\n",
    "media_preco\n"
   ]
  },
  {
   "cell_type": "markdown",
   "metadata": {},
   "source": [
    "\n",
    "## 9.Qual o preço médio de casas com 2 banheiros?\n",
    "### R: Em média  457.889,7"
   ]
  },
  {
   "cell_type": "code",
   "execution_count": 26,
   "metadata": {},
   "outputs": [
    {
     "data": {
      "text/plain": [
       "id               4.586917e+09\n",
       "price            4.578897e+05\n",
       "bedrooms         3.308808e+00\n",
       "bathrooms        2.000000e+00\n",
       "sqft_living      1.796669e+03\n",
       "sqft_lot         1.422794e+04\n",
       "floors           1.290674e+00\n",
       "waterfront       2.590674e-03\n",
       "view             1.611399e-01\n",
       "condition        3.578756e+00\n",
       "grade            7.240933e+00\n",
       "sqft_above       1.491026e+03\n",
       "sqft_basement    3.056430e+02\n",
       "yr_built         1.961255e+03\n",
       "yr_renovated     1.456943e+02\n",
       "zipcode          9.808370e+04\n",
       "lat              4.755655e+01\n",
       "long            -1.222334e+02\n",
       "sqft_living15    1.736833e+03\n",
       "sqft_lot15       1.204489e+04\n",
       "dtype: float64"
      ]
     },
     "execution_count": 26,
     "metadata": {},
     "output_type": "execute_result"
    }
   ],
   "source": [
    "# Primeiro modo\n",
    "#estratégia:\n",
    "\n",
    "# 1) cria uma variável para filtrar apenas as casas com dois banheiros\n",
    "data_mask = data['bathrooms'] == 2\n",
    "# 2) mostra a média do conjunto de dados filtrado de acordo com a variável\n",
    "df_filtrado = data[data_mask].mean()\n",
    "df_filtrado\n"
   ]
  },
  {
   "cell_type": "markdown",
   "metadata": {},
   "source": [
    "## 10.Qual o preço mínimo entre as casas com 3 quartos?\n",
    "### R: 82.000"
   ]
  },
  {
   "cell_type": "code",
   "execution_count": 28,
   "metadata": {},
   "outputs": [
    {
     "data": {
      "text/plain": [
       "id                       1200021\n",
       "date             20140502T000000\n",
       "price                      82000\n",
       "bedrooms                       3\n",
       "bathrooms                   0.75\n",
       "sqft_living                  490\n",
       "sqft_lot                     572\n",
       "floors                         1\n",
       "waterfront                     0\n",
       "view                           0\n",
       "condition                      1\n",
       "grade                          4\n",
       "sqft_above                   490\n",
       "sqft_basement                  0\n",
       "yr_built                    1900\n",
       "yr_renovated                   0\n",
       "zipcode                    98001\n",
       "lat                      47.1559\n",
       "long                    -122.519\n",
       "sqft_living15                399\n",
       "sqft_lot15                   651\n",
       "dtype: object"
      ]
     },
     "execution_count": 28,
     "metadata": {},
     "output_type": "execute_result"
    }
   ],
   "source": [
    "# Primeiro modo\n",
    "#estratégia:\n",
    "\n",
    "# 1) cria uma variável para filtrar apenas as casas com três quartos\n",
    "data_mask = data['bedrooms'] == 3\n",
    "# 2) mostra o mínimo valor do conjunto de dados filtrado de acordo com a variável \n",
    "df_filtrado = data[data_mask].min()\n",
    "df_filtrado"
   ]
  },
  {
   "cell_type": "markdown",
   "metadata": {},
   "source": [
    "## 11.Quantas casas possuem mais de 300 metros quadrados na sala de estar?\n",
    "### R: 21.612"
   ]
  },
  {
   "cell_type": "code",
   "execution_count": 29,
   "metadata": {},
   "outputs": [
    {
     "data": {
      "text/plain": [
       "id               21612\n",
       "date             21612\n",
       "price            21612\n",
       "bedrooms         21612\n",
       "bathrooms        21612\n",
       "sqft_living      21612\n",
       "sqft_lot         21612\n",
       "floors           21612\n",
       "waterfront       21612\n",
       "view             21612\n",
       "condition        21612\n",
       "grade            21612\n",
       "sqft_above       21610\n",
       "sqft_basement    21612\n",
       "yr_built         21612\n",
       "yr_renovated     21612\n",
       "zipcode          21612\n",
       "lat              21612\n",
       "long             21612\n",
       "sqft_living15    21612\n",
       "sqft_lot15       21612\n",
       "dtype: int64"
      ]
     },
     "execution_count": 29,
     "metadata": {},
     "output_type": "execute_result"
    }
   ],
   "source": [
    "# Primeiro modo\n",
    "#estratégia:\n",
    "\n",
    "# 1) cria uma variável para filtrar apenas as casas com mais de 300m²\n",
    "data_mask = data['sqft_living'] > 300\n",
    "# 2) mostra a contagem do valor do conjunto de dados filtrado de acordo com a variável \n",
    "df_filtrado = data[data_mask].count()\n",
    "df_filtrado"
   ]
  },
  {
   "cell_type": "markdown",
   "metadata": {},
   "source": [
    "## EM RESOLUÇÃO. Não entendi pq tem que usar o sum\n",
    "\n",
    "## 12.Quantas casas tem mais de 2 andares?\n",
    "### R: Em média 540.088,14"
   ]
  },
  {
   "cell_type": "code",
   "execution_count": 34,
   "metadata": {},
   "outputs": [
    {
     "data": {
      "text/plain": [
       "782"
      ]
     },
     "execution_count": 34,
     "metadata": {},
     "output_type": "execute_result"
    }
   ],
   "source": [
    "(data['floors'] > 2 ).sum()"
   ]
  },
  {
   "cell_type": "markdown",
   "metadata": {},
   "source": [
    "## 13.Quantas casas tem vista para o mar?\n",
    "### R: Em média 163"
   ]
  },
  {
   "cell_type": "code",
   "execution_count": 47,
   "metadata": {},
   "outputs": [
    {
     "data": {
      "text/plain": [
       "163"
      ]
     },
     "execution_count": 47,
     "metadata": {},
     "output_type": "execute_result"
    }
   ],
   "source": [
    "data['waterfront'].sum()\n",
    "#Por ser um atributo do tipo booleano, usei SUM\n"
   ]
  },
  {
   "cell_type": "markdown",
   "metadata": {},
   "source": [
    "## 14.Das casas com vista para o mar, quantas tem 3 quartos?\n",
    "### R: 64 casas"
   ]
  },
  {
   "cell_type": "code",
   "execution_count": 52,
   "metadata": {},
   "outputs": [
    {
     "data": {
      "text/plain": [
       "64"
      ]
     },
     "execution_count": 52,
     "metadata": {},
     "output_type": "execute_result"
    }
   ],
   "source": [
    "data_mask = data[(data['waterfront'] == 1) & (data['bedrooms'] == 3)]\n",
    "data_mask['id'].count()"
   ]
  },
  {
   "cell_type": "markdown",
   "metadata": {},
   "source": [
    "## 15. Das casas com mais de 300 metros quadrados de sala de estar, quantas tem mais de 2 banheiros?\n",
    "### R: 11242 casas"
   ]
  },
  {
   "cell_type": "code",
   "execution_count": 53,
   "metadata": {},
   "outputs": [
    {
     "data": {
      "text/plain": [
       "11242"
      ]
     },
     "execution_count": 53,
     "metadata": {},
     "output_type": "execute_result"
    }
   ],
   "source": [
    "data_mask = data[ (data['sqft_living'] > 300) & (data['bathrooms'] > 2)]\n",
    "data_mask['id'].count()"
   ]
  },
  {
   "cell_type": "markdown",
   "metadata": {},
   "source": [
    "# Links Úteis"
   ]
  },
  {
   "cell_type": "markdown",
   "metadata": {},
   "source": [
    "### Documentação do pandas\n",
    "https://pandas.pydata.org/docs/reference/api/pandas.DataFrame.shape.html"
   ]
  },
  {
   "cell_type": "code",
   "execution_count": null,
   "metadata": {},
   "outputs": [],
   "source": []
  }
 ],
 "metadata": {
  "kernelspec": {
   "display_name": "Python 3",
   "language": "python",
   "name": "python3"
  },
  "language_info": {
   "codemirror_mode": {
    "name": "ipython",
    "version": 3
   },
   "file_extension": ".py",
   "mimetype": "text/x-python",
   "name": "python",
   "nbconvert_exporter": "python",
   "pygments_lexer": "ipython3",
   "version": "3.8.3"
  }
 },
 "nbformat": 4,
 "nbformat_minor": 4
}
